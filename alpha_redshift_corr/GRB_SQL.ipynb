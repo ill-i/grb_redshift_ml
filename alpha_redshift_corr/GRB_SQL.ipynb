{
 "cells": [
  {
   "cell_type": "markdown",
   "id": "f51e73a3-6406-40ac-84dd-9c7e8642ec0c",
   "metadata": {},
   "source": [
    "# Libs"
   ]
  },
  {
   "cell_type": "code",
   "execution_count": 1,
   "id": "00e9ec6e-6b7d-4ef4-ba92-76ef20e76318",
   "metadata": {},
   "outputs": [],
   "source": [
    "import sqlite3\n",
    "import pandas as pd\n",
    "import numpy as np\n",
    "import matplotlib.pyplot as plt"
   ]
  },
  {
   "cell_type": "markdown",
   "id": "8f3a030f-b4ba-4e42-9462-9a7fce0e1ae8",
   "metadata": {},
   "source": [
    "# Data"
   ]
  },
  {
   "cell_type": "code",
   "execution_count": 2,
   "id": "0a62afd6-9355-4cf9-85fc-c4d01e6ac55e",
   "metadata": {},
   "outputs": [],
   "source": [
    "db = sqlite3.connect('GRBweb2.sqlite')"
   ]
  },
  {
   "cell_type": "code",
   "execution_count": 47,
   "id": "5504aa97-1378-468c-940e-e0eb4ea18420",
   "metadata": {},
   "outputs": [
    {
     "name": "stdout",
     "output_type": "stream",
     "text": [
      "Table names:\n",
      "                        name\n",
      "0                     BATSE\n",
      "1           sqlite_sequence\n",
      "2                  BeppoSAX\n",
      "3                 Fermi_GBM\n",
      "4   Fermi_GBM_precursor_Zhu\n",
      "5    Fermi_GBM_subthreshold\n",
      "6                 Fermi_LAT\n",
      "7             GCN_circulars\n",
      "8                       IPN\n",
      "9                   Summary\n",
      "10                    Swift\n"
     ]
    }
   ],
   "source": [
    "# Print the names of all the tables\n",
    "#we use pandas to show names of table in convinient way\n",
    "table_names = pd.read_sql_query(\"SELECT name from sqlite_master where type= 'table'\", db)\n",
    "#here \"sqlite_master where type= 'table'\" is acceptable for all databases, it's universal \n",
    "print(\"Table names:\\n\", table_names) #\\n - switching to the next row"
   ]
  },
  {
   "cell_type": "code",
   "execution_count": 4,
   "id": "cb9c2447-374e-4bc4-b90f-6b1012d97e82",
   "metadata": {},
   "outputs": [],
   "source": [
    "#To execute SQLite statements in Python, you need a cursor object. You can create it using the cursor() method.\n",
    "cur = db.cursor()"
   ]
  },
  {
   "cell_type": "markdown",
   "id": "ffa7abbe-ef40-41f8-aba8-789c3d17dc06",
   "metadata": {
    "jupyter": {
     "source_hidden": true
    },
    "tags": []
   },
   "source": [
    "names = np.array(table_names['name'])\n",
    "names"
   ]
  },
  {
   "cell_type": "markdown",
   "id": "33c0f393-ea11-4118-a799-1fe4447fbdd2",
   "metadata": {
    "jupyter": {
     "source_hidden": true
    },
    "tags": []
   },
   "source": [
    "for i in range(0,len(names)-1):\n",
    "      = pd.read_sql_query(f\"SELECT * from {names[i]}\", db)\n",
    "    "
   ]
  },
  {
   "cell_type": "markdown",
   "id": "7c51127c-0c3a-498c-ba7e-b542b6f582b2",
   "metadata": {},
   "source": [
    "## Separeted tables"
   ]
  },
  {
   "cell_type": "code",
   "execution_count": 48,
   "id": "f197aed9-6d12-4a61-b73a-d04b8c38fbd3",
   "metadata": {},
   "outputs": [],
   "source": [
    "BATSE = pd.read_sql_query(\"SELECT * from BATSE\", db)"
   ]
  },
  {
   "cell_type": "code",
   "execution_count": 90,
   "id": "316a7353-89a6-4e53-9a32-9fba7ef67679",
   "metadata": {},
   "outputs": [
    {
     "name": "stdout",
     "output_type": "stream",
     "text": [
      "<class 'pandas.core.frame.DataFrame'>\n",
      "RangeIndex: 2702 entries, 0 to 2701\n",
      "Data columns (total 16 columns):\n",
      " #   Column          Non-Null Count  Dtype  \n",
      "---  ------          --------------  -----  \n",
      " 0   id              2702 non-null   int64  \n",
      " 1   GRB_name        2702 non-null   object \n",
      " 2   GRB_name_BATSE  2702 non-null   object \n",
      " 3   trigger_number  2702 non-null   int64  \n",
      " 4   datum           2702 non-null   object \n",
      " 5   t_trigger       2702 non-null   float64\n",
      " 6   ra              2702 non-null   float64\n",
      " 7   decl            2702 non-null   float64\n",
      " 8   pos_error       2702 non-null   float64\n",
      " 9   T50             2037 non-null   float64\n",
      " 10  T50_error       2037 non-null   float64\n",
      " 11  T90             2037 non-null   float64\n",
      " 12  T90_error       2037 non-null   float64\n",
      " 13  T90_start       2037 non-null   float64\n",
      " 14  fluence         2133 non-null   float64\n",
      " 15  fluence_error   2133 non-null   float64\n",
      "dtypes: float64(11), int64(2), object(3)\n",
      "memory usage: 337.9+ KB\n"
     ]
    }
   ],
   "source": [
    "BATSE.info()"
   ]
  },
  {
   "cell_type": "code",
   "execution_count": 103,
   "id": "92959ee1-8247-4834-9fc9-852463e3eb46",
   "metadata": {},
   "outputs": [
    {
     "data": {
      "text/plain": [
       "True"
      ]
     },
     "execution_count": 103,
     "metadata": {},
     "output_type": "execute_result"
    }
   ],
   "source": [
    "BATSE['GRB_name'].nunique() == len(BATSE)"
   ]
  },
  {
   "cell_type": "markdown",
   "id": "9507eec1-cf01-477c-96f2-6354da3dc9ca",
   "metadata": {},
   "source": [
    "## Conditions"
   ]
  },
  {
   "cell_type": "code",
   "execution_count": 110,
   "id": "60a00c72-5ed4-4349-81d1-e52ad9641813",
   "metadata": {},
   "outputs": [
    {
     "data": {
      "text/html": [
       "<div>\n",
       "<style scoped>\n",
       "    .dataframe tbody tr th:only-of-type {\n",
       "        vertical-align: middle;\n",
       "    }\n",
       "\n",
       "    .dataframe tbody tr th {\n",
       "        vertical-align: top;\n",
       "    }\n",
       "\n",
       "    .dataframe thead th {\n",
       "        text-align: right;\n",
       "    }\n",
       "</style>\n",
       "<table border=\"1\" class=\"dataframe\">\n",
       "  <thead>\n",
       "    <tr style=\"text-align: right;\">\n",
       "      <th></th>\n",
       "      <th>id</th>\n",
       "      <th>GRB_name</th>\n",
       "      <th>GRB_name_BATSE</th>\n",
       "      <th>trigger_number</th>\n",
       "      <th>datum</th>\n",
       "      <th>t_trigger</th>\n",
       "      <th>ra</th>\n",
       "      <th>decl</th>\n",
       "      <th>pos_error</th>\n",
       "      <th>T50</th>\n",
       "      <th>T50_error</th>\n",
       "      <th>T90</th>\n",
       "      <th>T90_error</th>\n",
       "      <th>T90_start</th>\n",
       "      <th>fluence</th>\n",
       "      <th>fluence_error</th>\n",
       "    </tr>\n",
       "  </thead>\n",
       "  <tbody>\n",
       "    <tr>\n",
       "      <th>0</th>\n",
       "      <td>1</td>\n",
       "      <td>GRB910421A</td>\n",
       "      <td>4B910421</td>\n",
       "      <td>105</td>\n",
       "      <td>1991-04-21</td>\n",
       "      <td>33243.8</td>\n",
       "      <td>270.675</td>\n",
       "      <td>24.766667</td>\n",
       "      <td>0.53</td>\n",
       "      <td>1.792</td>\n",
       "      <td>0.202</td>\n",
       "      <td>5.184</td>\n",
       "      <td>0.181</td>\n",
       "      <td>0.512</td>\n",
       "      <td>2.605500e-06</td>\n",
       "      <td>1.885684e-08</td>\n",
       "    </tr>\n",
       "    <tr>\n",
       "      <th>1</th>\n",
       "      <td>2</td>\n",
       "      <td>GRB910423A</td>\n",
       "      <td>4B910423</td>\n",
       "      <td>107</td>\n",
       "      <td>1991-04-23</td>\n",
       "      <td>71684.7</td>\n",
       "      <td>193.475</td>\n",
       "      <td>-8.383333</td>\n",
       "      <td>11.10</td>\n",
       "      <td>68.608</td>\n",
       "      <td>3.238</td>\n",
       "      <td>208.576</td>\n",
       "      <td>1.118</td>\n",
       "      <td>-208.896</td>\n",
       "      <td>1.650960e-07</td>\n",
       "      <td>1.701463e-08</td>\n",
       "    </tr>\n",
       "    <tr>\n",
       "      <th>2</th>\n",
       "      <td>3</td>\n",
       "      <td>GRB910424A</td>\n",
       "      <td>4B910424</td>\n",
       "      <td>108</td>\n",
       "      <td>1991-04-24</td>\n",
       "      <td>71006.6</td>\n",
       "      <td>201.300</td>\n",
       "      <td>-45.416667</td>\n",
       "      <td>13.78</td>\n",
       "      <td>1.280</td>\n",
       "      <td>1.574</td>\n",
       "      <td>3.136</td>\n",
       "      <td>0.590</td>\n",
       "      <td>-1.536</td>\n",
       "      <td>2.485830e-08</td>\n",
       "      <td>1.049605e-08</td>\n",
       "    </tr>\n",
       "    <tr>\n",
       "      <th>3</th>\n",
       "      <td>4</td>\n",
       "      <td>GRB910425A</td>\n",
       "      <td>4B910425-</td>\n",
       "      <td>109</td>\n",
       "      <td>1991-04-25</td>\n",
       "      <td>2265.7</td>\n",
       "      <td>91.300</td>\n",
       "      <td>-22.766667</td>\n",
       "      <td>1.02</td>\n",
       "      <td>47.104</td>\n",
       "      <td>0.143</td>\n",
       "      <td>90.176</td>\n",
       "      <td>0.286</td>\n",
       "      <td>4.224</td>\n",
       "      <td>1.327650e-05</td>\n",
       "      <td>6.867408e-08</td>\n",
       "    </tr>\n",
       "    <tr>\n",
       "      <th>4</th>\n",
       "      <td>5</td>\n",
       "      <td>GRB910425B</td>\n",
       "      <td>4B910425-</td>\n",
       "      <td>110</td>\n",
       "      <td>1991-04-25</td>\n",
       "      <td>20253.3</td>\n",
       "      <td>335.950</td>\n",
       "      <td>25.766667</td>\n",
       "      <td>4.79</td>\n",
       "      <td>306.368</td>\n",
       "      <td>3.304</td>\n",
       "      <td>430.016</td>\n",
       "      <td>1.094</td>\n",
       "      <td>-259.584</td>\n",
       "      <td>1.351020e-06</td>\n",
       "      <td>6.342943e-08</td>\n",
       "    </tr>\n",
       "  </tbody>\n",
       "</table>\n",
       "</div>"
      ],
      "text/plain": [
       "   id    GRB_name GRB_name_BATSE  trigger_number       datum  t_trigger  \\\n",
       "0   1  GRB910421A       4B910421             105  1991-04-21    33243.8   \n",
       "1   2  GRB910423A       4B910423             107  1991-04-23    71684.7   \n",
       "2   3  GRB910424A       4B910424             108  1991-04-24    71006.6   \n",
       "3   4  GRB910425A      4B910425-             109  1991-04-25     2265.7   \n",
       "4   5  GRB910425B      4B910425-             110  1991-04-25    20253.3   \n",
       "\n",
       "        ra       decl  pos_error      T50  T50_error      T90  T90_error  \\\n",
       "0  270.675  24.766667       0.53    1.792      0.202    5.184      0.181   \n",
       "1  193.475  -8.383333      11.10   68.608      3.238  208.576      1.118   \n",
       "2  201.300 -45.416667      13.78    1.280      1.574    3.136      0.590   \n",
       "3   91.300 -22.766667       1.02   47.104      0.143   90.176      0.286   \n",
       "4  335.950  25.766667       4.79  306.368      3.304  430.016      1.094   \n",
       "\n",
       "   T90_start       fluence  fluence_error  \n",
       "0      0.512  2.605500e-06   1.885684e-08  \n",
       "1   -208.896  1.650960e-07   1.701463e-08  \n",
       "2     -1.536  2.485830e-08   1.049605e-08  \n",
       "3      4.224  1.327650e-05   6.867408e-08  \n",
       "4   -259.584  1.351020e-06   6.342943e-08  "
      ]
     },
     "execution_count": 110,
     "metadata": {},
     "output_type": "execute_result"
    }
   ],
   "source": [
    "BATSE.head()"
   ]
  },
  {
   "cell_type": "code",
   "execution_count": 125,
   "id": "f8d5f1b5-2ed6-4e14-8051-8f6b27213d79",
   "metadata": {},
   "outputs": [
    {
     "data": {
      "text/plain": [
       "2"
      ]
     },
     "execution_count": 125,
     "metadata": {},
     "output_type": "execute_result"
    }
   ],
   "source": [
    "BATSE[BATSE['GRB_name']=='GRB910421A'].ndim"
   ]
  },
  {
   "cell_type": "code",
   "execution_count": 56,
   "id": "f3a13307-7287-495b-8713-4ab5c1b3a088",
   "metadata": {
    "collapsed": true,
    "jupyter": {
     "outputs_hidden": true,
     "source_hidden": true
    },
    "tags": []
   },
   "outputs": [
    {
     "data": {
      "text/html": [
       "<div>\n",
       "<style scoped>\n",
       "    .dataframe tbody tr th:only-of-type {\n",
       "        vertical-align: middle;\n",
       "    }\n",
       "\n",
       "    .dataframe tbody tr th {\n",
       "        vertical-align: top;\n",
       "    }\n",
       "\n",
       "    .dataframe thead th {\n",
       "        text-align: right;\n",
       "    }\n",
       "</style>\n",
       "<table border=\"1\" class=\"dataframe\">\n",
       "  <thead>\n",
       "    <tr style=\"text-align: right;\">\n",
       "      <th></th>\n",
       "      <th>id</th>\n",
       "      <th>GRB_name</th>\n",
       "      <th>GRB_name_BATSE</th>\n",
       "      <th>trigger_number</th>\n",
       "      <th>datum</th>\n",
       "      <th>t_trigger</th>\n",
       "      <th>ra</th>\n",
       "      <th>decl</th>\n",
       "      <th>pos_error</th>\n",
       "      <th>T50</th>\n",
       "      <th>T50_error</th>\n",
       "      <th>T90</th>\n",
       "      <th>T90_error</th>\n",
       "      <th>T90_start</th>\n",
       "      <th>fluence</th>\n",
       "      <th>fluence_error</th>\n",
       "    </tr>\n",
       "  </thead>\n",
       "  <tbody>\n",
       "    <tr>\n",
       "      <th>545</th>\n",
       "      <td>546</td>\n",
       "      <td>GRB930126A</td>\n",
       "      <td>4B930126</td>\n",
       "      <td>2147</td>\n",
       "      <td>1993-01-26</td>\n",
       "      <td>40961.7</td>\n",
       "      <td>359.250</td>\n",
       "      <td>50.266667</td>\n",
       "      <td>3.71</td>\n",
       "      <td>NaN</td>\n",
       "      <td>NaN</td>\n",
       "      <td>NaN</td>\n",
       "      <td>NaN</td>\n",
       "      <td>NaN</td>\n",
       "      <td>NaN</td>\n",
       "      <td>NaN</td>\n",
       "    </tr>\n",
       "    <tr>\n",
       "      <th>840</th>\n",
       "      <td>841</td>\n",
       "      <td>GRB931210A</td>\n",
       "      <td>4B931210</td>\n",
       "      <td>2689</td>\n",
       "      <td>1993-12-10</td>\n",
       "      <td>59517.6</td>\n",
       "      <td>359.175</td>\n",
       "      <td>44.750000</td>\n",
       "      <td>2.53</td>\n",
       "      <td>NaN</td>\n",
       "      <td>NaN</td>\n",
       "      <td>NaN</td>\n",
       "      <td>NaN</td>\n",
       "      <td>NaN</td>\n",
       "      <td>NaN</td>\n",
       "      <td>NaN</td>\n",
       "    </tr>\n",
       "    <tr>\n",
       "      <th>964</th>\n",
       "      <td>965</td>\n",
       "      <td>GRB940419B</td>\n",
       "      <td>4B940419-</td>\n",
       "      <td>2940</td>\n",
       "      <td>1994-04-19</td>\n",
       "      <td>69058.2</td>\n",
       "      <td>359.850</td>\n",
       "      <td>-47.950000</td>\n",
       "      <td>0.58</td>\n",
       "      <td>NaN</td>\n",
       "      <td>NaN</td>\n",
       "      <td>NaN</td>\n",
       "      <td>NaN</td>\n",
       "      <td>NaN</td>\n",
       "      <td>NaN</td>\n",
       "      <td>NaN</td>\n",
       "    </tr>\n",
       "    <tr>\n",
       "      <th>1763</th>\n",
       "      <td>1764</td>\n",
       "      <td>GRB970326A</td>\n",
       "      <td>GRB970326-</td>\n",
       "      <td>6136</td>\n",
       "      <td>1997-03-26</td>\n",
       "      <td>29773.8</td>\n",
       "      <td>359.275</td>\n",
       "      <td>-67.633333</td>\n",
       "      <td>3.36</td>\n",
       "      <td>1.216</td>\n",
       "      <td>0.091</td>\n",
       "      <td>1.920</td>\n",
       "      <td>0.643</td>\n",
       "      <td>-0.064</td>\n",
       "      <td>2.457270e-07</td>\n",
       "      <td>2.434917e-08</td>\n",
       "    </tr>\n",
       "    <tr>\n",
       "      <th>2171</th>\n",
       "      <td>2172</td>\n",
       "      <td>GRB980703A</td>\n",
       "      <td>GRB980703-</td>\n",
       "      <td>6891</td>\n",
       "      <td>1998-07-03</td>\n",
       "      <td>15765.2</td>\n",
       "      <td>359.075</td>\n",
       "      <td>12.016667</td>\n",
       "      <td>0.48</td>\n",
       "      <td>306.304</td>\n",
       "      <td>1.032</td>\n",
       "      <td>411.648</td>\n",
       "      <td>9.273</td>\n",
       "      <td>-6.144</td>\n",
       "      <td>1.283250e-05</td>\n",
       "      <td>2.045898e-07</td>\n",
       "    </tr>\n",
       "  </tbody>\n",
       "</table>\n",
       "</div>"
      ],
      "text/plain": [
       "        id    GRB_name GRB_name_BATSE  trigger_number       datum  t_trigger  \\\n",
       "545    546  GRB930126A       4B930126            2147  1993-01-26    40961.7   \n",
       "840    841  GRB931210A       4B931210            2689  1993-12-10    59517.6   \n",
       "964    965  GRB940419B      4B940419-            2940  1994-04-19    69058.2   \n",
       "1763  1764  GRB970326A     GRB970326-            6136  1997-03-26    29773.8   \n",
       "2171  2172  GRB980703A     GRB980703-            6891  1998-07-03    15765.2   \n",
       "\n",
       "           ra       decl  pos_error      T50  T50_error      T90  T90_error  \\\n",
       "545   359.250  50.266667       3.71      NaN        NaN      NaN        NaN   \n",
       "840   359.175  44.750000       2.53      NaN        NaN      NaN        NaN   \n",
       "964   359.850 -47.950000       0.58      NaN        NaN      NaN        NaN   \n",
       "1763  359.275 -67.633333       3.36    1.216      0.091    1.920      0.643   \n",
       "2171  359.075  12.016667       0.48  306.304      1.032  411.648      9.273   \n",
       "\n",
       "      T90_start       fluence  fluence_error  \n",
       "545         NaN           NaN            NaN  \n",
       "840         NaN           NaN            NaN  \n",
       "964         NaN           NaN            NaN  \n",
       "1763     -0.064  2.457270e-07   2.434917e-08  \n",
       "2171     -6.144  1.283250e-05   2.045898e-07  "
      ]
     },
     "execution_count": 56,
     "metadata": {},
     "output_type": "execute_result"
    }
   ],
   "source": [
    "BATSE[BATSE['ra'] > 359]"
   ]
  },
  {
   "cell_type": "markdown",
   "id": "1e328e50-dc1b-432c-adeb-8b90f3d18dc5",
   "metadata": {},
   "source": [
    "## Indexes"
   ]
  },
  {
   "cell_type": "code",
   "execution_count": 70,
   "id": "9d815eda-50ce-4851-ae4e-e51a8333db9a",
   "metadata": {},
   "outputs": [],
   "source": [
    "BATSE_ind_n = BATSE.set_index('GRB_name')"
   ]
  },
  {
   "cell_type": "code",
   "execution_count": 115,
   "id": "a23c83ee-0b90-4d57-9f3c-fc6c4f78c451",
   "metadata": {},
   "outputs": [
    {
     "data": {
      "text/html": [
       "<div>\n",
       "<style scoped>\n",
       "    .dataframe tbody tr th:only-of-type {\n",
       "        vertical-align: middle;\n",
       "    }\n",
       "\n",
       "    .dataframe tbody tr th {\n",
       "        vertical-align: top;\n",
       "    }\n",
       "\n",
       "    .dataframe thead th {\n",
       "        text-align: right;\n",
       "    }\n",
       "</style>\n",
       "<table border=\"1\" class=\"dataframe\">\n",
       "  <thead>\n",
       "    <tr style=\"text-align: right;\">\n",
       "      <th></th>\n",
       "      <th>id</th>\n",
       "      <th>GRB_name_BATSE</th>\n",
       "      <th>trigger_number</th>\n",
       "      <th>datum</th>\n",
       "      <th>t_trigger</th>\n",
       "      <th>ra</th>\n",
       "      <th>decl</th>\n",
       "      <th>pos_error</th>\n",
       "      <th>T50</th>\n",
       "      <th>T50_error</th>\n",
       "      <th>T90</th>\n",
       "      <th>T90_error</th>\n",
       "      <th>T90_start</th>\n",
       "      <th>fluence</th>\n",
       "      <th>fluence_error</th>\n",
       "    </tr>\n",
       "    <tr>\n",
       "      <th>GRB_name</th>\n",
       "      <th></th>\n",
       "      <th></th>\n",
       "      <th></th>\n",
       "      <th></th>\n",
       "      <th></th>\n",
       "      <th></th>\n",
       "      <th></th>\n",
       "      <th></th>\n",
       "      <th></th>\n",
       "      <th></th>\n",
       "      <th></th>\n",
       "      <th></th>\n",
       "      <th></th>\n",
       "      <th></th>\n",
       "      <th></th>\n",
       "    </tr>\n",
       "  </thead>\n",
       "  <tbody>\n",
       "    <tr>\n",
       "      <th>GRB910421A</th>\n",
       "      <td>1</td>\n",
       "      <td>4B910421</td>\n",
       "      <td>105</td>\n",
       "      <td>1991-04-21</td>\n",
       "      <td>33243.8</td>\n",
       "      <td>270.675</td>\n",
       "      <td>24.766667</td>\n",
       "      <td>0.53</td>\n",
       "      <td>1.792</td>\n",
       "      <td>0.202</td>\n",
       "      <td>5.184</td>\n",
       "      <td>0.181</td>\n",
       "      <td>0.512</td>\n",
       "      <td>2.605500e-06</td>\n",
       "      <td>1.885684e-08</td>\n",
       "    </tr>\n",
       "    <tr>\n",
       "      <th>GRB910423A</th>\n",
       "      <td>2</td>\n",
       "      <td>4B910423</td>\n",
       "      <td>107</td>\n",
       "      <td>1991-04-23</td>\n",
       "      <td>71684.7</td>\n",
       "      <td>193.475</td>\n",
       "      <td>-8.383333</td>\n",
       "      <td>11.10</td>\n",
       "      <td>68.608</td>\n",
       "      <td>3.238</td>\n",
       "      <td>208.576</td>\n",
       "      <td>1.118</td>\n",
       "      <td>-208.896</td>\n",
       "      <td>1.650960e-07</td>\n",
       "      <td>1.701463e-08</td>\n",
       "    </tr>\n",
       "    <tr>\n",
       "      <th>GRB910424A</th>\n",
       "      <td>3</td>\n",
       "      <td>4B910424</td>\n",
       "      <td>108</td>\n",
       "      <td>1991-04-24</td>\n",
       "      <td>71006.6</td>\n",
       "      <td>201.300</td>\n",
       "      <td>-45.416667</td>\n",
       "      <td>13.78</td>\n",
       "      <td>1.280</td>\n",
       "      <td>1.574</td>\n",
       "      <td>3.136</td>\n",
       "      <td>0.590</td>\n",
       "      <td>-1.536</td>\n",
       "      <td>2.485830e-08</td>\n",
       "      <td>1.049605e-08</td>\n",
       "    </tr>\n",
       "    <tr>\n",
       "      <th>GRB910425A</th>\n",
       "      <td>4</td>\n",
       "      <td>4B910425-</td>\n",
       "      <td>109</td>\n",
       "      <td>1991-04-25</td>\n",
       "      <td>2265.7</td>\n",
       "      <td>91.300</td>\n",
       "      <td>-22.766667</td>\n",
       "      <td>1.02</td>\n",
       "      <td>47.104</td>\n",
       "      <td>0.143</td>\n",
       "      <td>90.176</td>\n",
       "      <td>0.286</td>\n",
       "      <td>4.224</td>\n",
       "      <td>1.327650e-05</td>\n",
       "      <td>6.867408e-08</td>\n",
       "    </tr>\n",
       "    <tr>\n",
       "      <th>GRB910425B</th>\n",
       "      <td>5</td>\n",
       "      <td>4B910425-</td>\n",
       "      <td>110</td>\n",
       "      <td>1991-04-25</td>\n",
       "      <td>20253.3</td>\n",
       "      <td>335.950</td>\n",
       "      <td>25.766667</td>\n",
       "      <td>4.79</td>\n",
       "      <td>306.368</td>\n",
       "      <td>3.304</td>\n",
       "      <td>430.016</td>\n",
       "      <td>1.094</td>\n",
       "      <td>-259.584</td>\n",
       "      <td>1.351020e-06</td>\n",
       "      <td>6.342943e-08</td>\n",
       "    </tr>\n",
       "  </tbody>\n",
       "</table>\n",
       "</div>"
      ],
      "text/plain": [
       "            id GRB_name_BATSE  trigger_number       datum  t_trigger       ra  \\\n",
       "GRB_name                                                                        \n",
       "GRB910421A   1       4B910421             105  1991-04-21    33243.8  270.675   \n",
       "GRB910423A   2       4B910423             107  1991-04-23    71684.7  193.475   \n",
       "GRB910424A   3       4B910424             108  1991-04-24    71006.6  201.300   \n",
       "GRB910425A   4      4B910425-             109  1991-04-25     2265.7   91.300   \n",
       "GRB910425B   5      4B910425-             110  1991-04-25    20253.3  335.950   \n",
       "\n",
       "                 decl  pos_error      T50  T50_error      T90  T90_error  \\\n",
       "GRB_name                                                                   \n",
       "GRB910421A  24.766667       0.53    1.792      0.202    5.184      0.181   \n",
       "GRB910423A  -8.383333      11.10   68.608      3.238  208.576      1.118   \n",
       "GRB910424A -45.416667      13.78    1.280      1.574    3.136      0.590   \n",
       "GRB910425A -22.766667       1.02   47.104      0.143   90.176      0.286   \n",
       "GRB910425B  25.766667       4.79  306.368      3.304  430.016      1.094   \n",
       "\n",
       "            T90_start       fluence  fluence_error  \n",
       "GRB_name                                            \n",
       "GRB910421A      0.512  2.605500e-06   1.885684e-08  \n",
       "GRB910423A   -208.896  1.650960e-07   1.701463e-08  \n",
       "GRB910424A     -1.536  2.485830e-08   1.049605e-08  \n",
       "GRB910425A      4.224  1.327650e-05   6.867408e-08  \n",
       "GRB910425B   -259.584  1.351020e-06   6.342943e-08  "
      ]
     },
     "execution_count": 115,
     "metadata": {},
     "output_type": "execute_result"
    }
   ],
   "source": [
    "BATSE_ind_n.head()"
   ]
  },
  {
   "cell_type": "code",
   "execution_count": 114,
   "id": "f2167c95-46e4-4942-9148-397550616fd4",
   "metadata": {},
   "outputs": [
    {
     "data": {
      "text/plain": [
       "FrozenList(['GRB_name'])"
      ]
     },
     "execution_count": 114,
     "metadata": {},
     "output_type": "execute_result"
    }
   ],
   "source": [
    "BATSE_ind_n.index.names"
   ]
  },
  {
   "cell_type": "code",
   "execution_count": 117,
   "id": "3c553006-831a-450c-95af-36969a8fe370",
   "metadata": {},
   "outputs": [
    {
     "name": "stdin",
     "output_type": "stream",
     "text": [
      "Enter GRB name GRB910425A\n"
     ]
    },
    {
     "data": {
      "text/plain": [
       "id                         4\n",
       "GRB_name_BATSE     4B910425-\n",
       "trigger_number           109\n",
       "datum             1991-04-25\n",
       "t_trigger             2265.7\n",
       "ra                      91.3\n",
       "decl              -22.766667\n",
       "pos_error               1.02\n",
       "T50                   47.104\n",
       "T50_error              0.143\n",
       "T90                   90.176\n",
       "T90_error              0.286\n",
       "T90_start              4.224\n",
       "fluence             0.000013\n",
       "fluence_error            0.0\n",
       "Name: GRB910425A, dtype: object"
      ]
     },
     "execution_count": 117,
     "metadata": {},
     "output_type": "execute_result"
    }
   ],
   "source": [
    "index = input('Enter GRB name')\n",
    "BATSE_ind_n.loc[index]"
   ]
  },
  {
   "cell_type": "code",
   "execution_count": 126,
   "id": "18ebf4ec-baac-494f-95f0-07d4d4719413",
   "metadata": {},
   "outputs": [
    {
     "data": {
      "text/plain": [
       "1"
      ]
     },
     "execution_count": 126,
     "metadata": {},
     "output_type": "execute_result"
    }
   ],
   "source": [
    "BATSE_ind_n.loc['GRB910421A'].ndim"
   ]
  },
  {
   "cell_type": "markdown",
   "id": "eb493eae-2ec7-431b-a08f-fe63d4e5ccc4",
   "metadata": {},
   "source": [
    "## Indexes + columns"
   ]
  },
  {
   "cell_type": "code",
   "execution_count": 81,
   "id": "f16fab58-a4e3-4fcb-877d-71a574d2b542",
   "metadata": {},
   "outputs": [
    {
     "data": {
      "text/plain": [
       "GRB_name_BATSE    4B930126\n",
       "trigger_number        2147\n",
       "Name: GRB930126A, dtype: object"
      ]
     },
     "execution_count": 81,
     "metadata": {},
     "output_type": "execute_result"
    }
   ],
   "source": [
    "BATSE_ind_n.loc['GRB930126A', ['GRB_name_BATSE','trigger_number']]"
   ]
  },
  {
   "cell_type": "code",
   "execution_count": null,
   "id": "66c3501b-f9ad-4b94-b36c-b434ae250e74",
   "metadata": {},
   "outputs": [],
   "source": [
    "index = input('Enter GRB name')\n",
    "BATSE_ind_ni.loc[index]"
   ]
  }
 ],
 "metadata": {
  "kernelspec": {
   "display_name": "Python 3 (ipykernel)",
   "language": "python",
   "name": "python3"
  },
  "language_info": {
   "codemirror_mode": {
    "name": "ipython",
    "version": 3
   },
   "file_extension": ".py",
   "mimetype": "text/x-python",
   "name": "python",
   "nbconvert_exporter": "python",
   "pygments_lexer": "ipython3",
   "version": "3.8.15"
  }
 },
 "nbformat": 4,
 "nbformat_minor": 5
}
