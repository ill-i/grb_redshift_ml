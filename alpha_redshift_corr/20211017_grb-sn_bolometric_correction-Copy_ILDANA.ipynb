{
 "cells": [
  {
   "cell_type": "code",
   "execution_count": null,
   "metadata": {},
   "outputs": [],
   "source": [
    "%autosave 300"
   ]
  },
  {
   "cell_type": "code",
   "execution_count": 1,
   "metadata": {},
   "outputs": [],
   "source": [
    "import matplotlib.pyplot as plt\n",
    "%matplotlib inline\n",
    "\n",
    "import numpy as np\n",
    "import pandas as pd\n",
    "from scipy import integrate \n",
    "from scipy.optimize import curve_fit"
   ]
  },
  {
   "cell_type": "markdown",
   "metadata": {},
   "source": [
    "# Bolometric correction"
   ]
  },
  {
   "cell_type": "markdown",
   "metadata": {},
   "source": [
    "## 1. Intro"
   ]
  },
  {
   "cell_type": "markdown",
   "metadata": {},
   "source": [
    "### Converting the table rows into arrays"
   ]
  },
  {
   "cell_type": "code",
   "execution_count": 2,
   "metadata": {},
   "outputs": [],
   "source": [
    "BV_range = np.arange(0.0,1.4,0.1) #ranges mark start-stop-step\n",
    "BR_range = np.arange(0.1,2.1,0.1)\n",
    "BI_range = np.arange(-0.4,2.4,0.1)\n",
    "VR_range = np.arange(-0.2,0.8,0.1)\n",
    "VI_range = np.arange(-0.7,1.2,0.1)\n",
    "gi_range = np.arange(-0.8,1.2,0.1)\n",
    "gr_range = np.arange(-0.3,1.1,0.1)\n",
    "\n",
    "BV_c0 = -0.083\n",
    "BV_c1 = -0.139\n",
    "BV_c2 = -0.691\n",
    "BV_rms = 0.109\n",
    "\n",
    "BR_c0 = -0.029\n",
    "BR_c1 = -0.302\n",
    "BR_c2 = -0.224\n",
    "BR_rms = 0.069\n",
    "\n",
    "BI_c0 = -0.055\n",
    "BI_c1 = -0.240\n",
    "BI_c2 = -0.154\n",
    "BI_rms = 0.061\n",
    "\n",
    "VR_c0 = 0.197\n",
    "VR_c1 = -0.183\n",
    "VR_c2 = -0.419\n",
    "VR_rms = 0.101\n",
    "\n",
    "VI_c0 = 0.213\n",
    "VI_c1 = -0.203\n",
    "VI_c2 = -0.079\n",
    "VI_rms = 0.090\n",
    "\n",
    "gi_c0 = -0.029\n",
    "gi_c1 = -0.404\n",
    "gi_c2 = -0.230\n",
    "gi_rms = 0.060\n",
    "\n",
    "gr_c0 = 0.054\n",
    "gr_c1 = -0.195\n",
    "gr_c2 = -0.719\n",
    "gr_rms = 0.076"
   ]
  },
  {
   "cell_type": "markdown",
   "metadata": {},
   "source": [
    "### Cooling phase  fit parameters"
   ]
  },
  {
   "cell_type": "code",
   "execution_count": 3,
   "metadata": {},
   "outputs": [],
   "source": [
    "cool_BV_range = np.arange(-0.2,0.6,0.1)\n",
    "cool_BR_range = np.arange(-0.2,0.9,0.1)\n",
    "cool_BI_range = np.arange(-0.2,0.8,0.1)\n",
    "cool_VR_range = np.arange(0.0,0.5,0.1)\n",
    "cool_VI_range = np.arange(0.0,0.5,0.1)\n",
    "cool_gi_range = np.arange(-0.7,0.2,0.1)\n",
    "cool_gr_range = np.arange(-0.3,0.4,0.1)\n",
    "\n",
    "cool_BV_c0 = -0.393\n",
    "cool_BV_c1 = 0.786\n",
    "cool_BV_c2 = -2.124\n",
    "cool_BV_rms = 0.089\n",
    "\n",
    "cool_BR_c0 = -0.463\n",
    "cool_BR_c1 = 0.790\n",
    "cool_BR_c2 = -1.034\n",
    "cool_BR_rms = 0.078\n",
    "\n",
    "cool_BI_c0 = -0.473\n",
    "cool_BI_c1 = 0.830\n",
    "cool_BI_c2 = -1.064\n",
    "cool_BI_rms = 0.072\n",
    "\n",
    "cool_VR_c0 = -0.719\n",
    "cool_VR_c1 = 4.093\n",
    "cool_VR_c2 = -6.419\n",
    "cool_VR_rms = 0.125\n",
    "\n",
    "cool_VI_c0 = -0.610\n",
    "cool_VI_c1 = 2.244\n",
    "cool_VI_c2 = -2.107\n",
    "cool_VI_rms = 0.146\n",
    "\n",
    "cool_gi_c0 = -0.158\n",
    "cool_gi_c1 = -0.459\n",
    "cool_gi_c2 = -1.599\n",
    "cool_gi_rms = 0.069\n",
    "\n",
    "cool_gr_c0 = -0.146\n",
    "cool_gr_c1 = 0.479\n",
    "cool_gr_c2 = -2.257\n",
    "cool_gr_rms = 0.078"
   ]
  },
  {
   "cell_type": "markdown",
   "metadata": {},
   "source": [
    "## 2. Testing the reproducibility: Appendix B"
   ]
  },
  {
   "cell_type": "markdown",
   "metadata": {
    "tags": []
   },
   "source": [
    "## Bolometric light curve model from Valenti et al. 2008 MNRAS 383, 1485"
   ]
  },
  {
   "cell_type": "code",
   "execution_count": 5,
   "metadata": {},
   "outputs": [],
   "source": [
    "import scipy.integrate as integrate\n",
    "import numpy as np"
   ]
  },
  {
   "cell_type": "code",
   "execution_count": 6,
   "metadata": {},
   "outputs": [],
   "source": [
    "data = pd.read_excel('SuperNova.xlsx', sheet_name=\"SN\")"
   ]
  },
  {
   "cell_type": "markdown",
   "metadata": {},
   "source": [
    "# SN 1998bw"
   ]
  },
  {
   "cell_type": "code",
   "execution_count": 7,
   "metadata": {
    "scrolled": true,
    "tags": []
   },
   "outputs": [
    {
     "data": {
      "text/plain": [
       "<matplotlib.legend.Legend at 0x7f4a60554dc0>"
      ]
     },
     "execution_count": 7,
     "metadata": {},
     "output_type": "execute_result"
    },
    {
     "data": {
      "image/png": "[encoded data removed]",
      "text/plain": [
       "<Figure size 504x360 with 1 Axes>"
      ]
     },
     "metadata": {
      "needs_background": "light"
     },
     "output_type": "display_data"
    }
   ],
   "source": [
    "#building sn1998bw from Ildana's google-table data\n",
    "#\n",
    "#\n",
    "\n",
    "SN1998bw = data[[ 'SN 1998bw JD 2450000', 'SN 1998bw Phase', 'SN 1998bw B', 'SN 1998bw V', 'SN 1998bw I']][:72].astype(\"float\")\n",
    "# SN1998bw[\"SN1998bw(B_I)\"] = SN1998bw['SN 1998bw B'] - SN1998bw['SN 1998bw I']\n",
    "SN1998bw[\"SN1998bw(B_V)\"] = SN1998bw['SN 1998bw B'] - SN1998bw['SN 1998bw V']\n",
    "SN1998bw[\"SN1998bw(V_I)\"] = SN1998bw['SN 1998bw V'] - SN1998bw['SN 1998bw I']\n",
    "\n",
    "# fig, ax = plt.subplots(figsize=(7,5))\n",
    "# ax.set_xlim(900,1000)\n",
    "# ax.set_ylim(14.0,16.0)\n",
    "\n",
    "# ax.scatter(SN1998bw['SN 1998bw JD 2450000'], SN1998bw[\"SN 1998bw B\"], s=3, alpha=0.9, color='red', label=\"SN1998bw\")\n",
    "# ax = plt.gca()\n",
    "# plt.gca().invert_yaxis()\n",
    "# plt.show()\n",
    "\n",
    "jdtime = SN1998bw['SN 1998bw JD 2450000']\n",
    "# jdtime = np.append(jdtime, jdtime3)\n",
    "V = SN1998bw['SN 1998bw V']\n",
    "# V = np.append(V, V3)\n",
    "BV = SN1998bw[\"SN1998bw(B_V)\"]\n",
    "# BV = np.append(BV, BV3)\n",
    "VI = SN1998bw[\"SN1998bw(V_I)\"]\n",
    "# VI = np.append(VI, VI3)\n",
    "###\n",
    "distmodulus = 32.89 #distance modulus\n",
    "Ext_BV = 0.065 #extinction B-V\n",
    "R_V = 3.1 #dust reddeining parameter R_V = A(V) / [A(B)-A(V)]\n",
    "R_I = 1.5 #dust reddeining parameter R_V = A(I) / [A(B)-A(V)]\n",
    "Msun = 4.81 #mass of the Sun\n",
    "Lsun = 3.855e33 #luminosity of the Sun\n",
    "###\n",
    "B = BV + V\n",
    "A_V = R_V * Ext_BV\n",
    "V_0 = V - A_V\n",
    "BV_0 = BV - Ext_BV\n",
    "B_0_BV = BV_0 + V_0\n",
    "###\n",
    "I = V - VI\n",
    "BI = BV + VI\n",
    "R_I = 1.5 #from Fitzpatrick 1999 Table 2: R_I = A(I)/E(B-V)=1.5\n",
    "A_I = R_I * Ext_BV\n",
    "I_0 = I - A_I\n",
    "BI_0 = B_0_BV - I_0\n",
    "###\n",
    "# BolCor_B_0_cool = (-0.393)*(BV_0[0:12])**0 + (+0.786)*(BV_0[0:12])**1 + (-2.124)*(BV_0[0:12])**2\n",
    "BolCor_B_0 = BV_c0*(BV_0)**0 + BV_c1*(BV_0)**1 + BV_c2*(BV_0)**2\n",
    "\n",
    "# m_bol_B_0_cool = BolCor_B_0_cool + B_0_BV[0:12] #apparent bolometric magnitude\n",
    "m_bol_B_0 = BolCor_B_0 + B_0_BV\n",
    "\n",
    "# M_bol_B_0_cool = m_bol_B_0_cool - distmodulus #absolute bolometric magnitude\n",
    "M_bol_B_0 = m_bol_B_0 - distmodulus\n",
    "\n",
    "# L_bol_B_0_cool = 10**(0.4*(Msun-M_bol_B_0_cool))*Lsun\n",
    "L_bol_B_0 = 10**(0.4*(Msun-M_bol_B_0))*Lsun\n",
    "###\n",
    "# BolCor_B_0_cool_BI = (-0.473)*(BI_0[0:12])**0 + (+0.830)*(BI_0[0:12])**1 + (-1.064)*(BI_0[0:12])**2\n",
    "BolCor_B_0_BI = BI_c0*(BI_0)**0 + BI_c1*(BI_0)**1 + BI_c2*(BI_0)**2\n",
    "\n",
    "# m_bol_B_0_cool_BI = BolCor_B_0_cool_BI + B_0_BV[0:12] #apparent bolometric magnitude\n",
    "m_bol_B_0_BI = BolCor_B_0_BI + B_0_BV\n",
    "\n",
    "# M_bol_B_0_cool_BI = m_bol_B_0_cool_BI - distmodulus #absolute bolometric magnitude\n",
    "M_bol_B_0_BI = m_bol_B_0_BI - distmodulus\n",
    "\n",
    "# L_bol_B_0_cool_BI = 10**(0.4*(Msun-M_bol_B_0_cool_BI))*Lsun\n",
    "L_bol_B_0_BI = 10**(0.4*(Msun-M_bol_B_0_BI))*Lsun\n",
    "#\n",
    "fig, ax = plt.subplots(figsize=(7,5))\n",
    "ax.set_xlim(-1000000,0.4e7)\n",
    "ax.set_ylim(42.5,43.2)\n",
    "# \n",
    "# plotLbolB0_BVcool = plt.plot(jdtime[0:12]-51.319,np.log10(L_bol_B_0_cool),'D',color='cyan', label='B-V BC cooling phase')\n",
    "# plotLbolB0_BV = plt.plot(jdtime,np.log10(L_bol_B_0),'D',color='lightseagreen', label='B-V BC')\n",
    "# plotLbolB0_BVcool_BI = plt.plot(jdtime[0:12]-51.319,np.log10(L_bol_B_0_cool_BI),'o',color='orange', label='B-I BC cooling phase')\n",
    "plotLbolB0_BV_BI = plt.plot((jdtime-944)*86400,np.log10(L_bol_B_0_BI),'o',color='red', label='B-I BC')\n",
    "\n",
    "ax.set(title='Fig. B1: Bolometric light curve of SN1998bw',\n",
    "       xlabel='Time from explosion [seconds]',\n",
    "       ylabel=r'log$_{10}$Luminosity [erg s$^{-1}$]');\n",
    "ax.legend()\n",
    "# plt.show()\n",
    "\n",
    "# plt.figtext(0.15,0.8,'some text which can be added anywhere in the plot');\n",
    "\n",
    "# fig.savefig('bolometric_LC_for_1987A.png')"
   ]
  },
  {
   "cell_type": "code",
   "execution_count": 8,
   "metadata": {},
   "outputs": [],
   "source": [
    "#######we are now working here july 11, 2022\n",
    "#######here is the last piece of code left to fix\n",
    "#######namely the code does not work with cirve_fit saying it has less number of datapoints\n",
    "####### N - number of parameters to fit\n",
    "####### M - number of datapoints used to fit the parameters\n",
    "#######see the link1: https://stackoverflow.com/questions/66697003/improper-input-n-2-must-not-exceed-m-1-error-when-attempting-to-fit-lines\n",
    "#######see the link2: https://stackoverflow.com/questions/65250182/curve-fit-typeerror-improper-input-n-2-must-not-exceed-m-1\n",
    "\n",
    "import numpy as np\n",
    "from scipy import integrate\n",
    "import scipy.optimize\n",
    "import matplotlib.pyplot as plt\n",
    "import warnings\n",
    "  \n",
    "# suppress warnings\n",
    "# warnings.filterwarnings('ignore')\n",
    "\n",
    "eta_Ni = 3.90e10 #[erg/s/g] energy per second per gram\n",
    "eta_Co = 6.78e9 #[erg/s/g] energy per second per gram\n",
    "tau_Ni = 524880 #seconds for Nickel-56 half-life = 6.075(10) days from Wiki\n",
    "tau_Co = 6672931.2 #seconds for Cobalt-56 half-life = 77.233(27) days from Wiki\n",
    "beta = 13.8\n",
    "kappa_opt = 0.06 #optical opacity [cm^2 / g] Maeda+ (2003), Valenti+ (2011)\n",
    "cspeed = 3e10 #speed of light [cm / s]\n",
    "\n",
    "xdata = np.array((jdtime)) #np.array(xlist) ###making the array out of datapoints\n",
    "ydata = np.array(L_bol_B_0_BI) #np.array(ylist)\n",
    "\n",
    "#to sort data by xdata\n",
    "a = []\n",
    "for i in range(0,len(xdata)):\n",
    "    a.append([xdata[i],ydata[i]])\n",
    "\n",
    "a.sort(key=lambda x:x[0])\n",
    "\n",
    "xx = []\n",
    "xdata = []\n",
    "ydata = []\n",
    "\n",
    "for i in range(0,len(a)):\n",
    "    if a[i][0] not in xx:\n",
    "        xx.append(a[i][0])\n",
    "        xdata.append((a[i][0]-944)*86400) #days from jd to 0 and to seconds\n",
    "        ydata.append(a[i][1])\n",
    "    else:\n",
    "        print(i)\n",
    "        "
   ]
  },
  {
   "cell_type": "code",
   "execution_count": 9,
   "metadata": {
    "tags": []
   },
   "outputs": [
    {
     "name": "stdout",
     "output_type": "stream",
     "text": [
      "1 [array([1.84284950e+043, 7.29825025e+042, 6.17611133e+042, 4.02054095e+042,\n",
      "       3.70887843e+042, 3.43620772e+042, 3.29928325e+042, 3.31070529e+042,\n",
      "       4.78479659e+042, 6.58755304e+042, 9.96382601e+042, 1.63741362e+043,\n",
      "       2.69333831e+043, 3.00288183e+043, 5.84115963e+043, 1.23907990e+044,\n",
      "       2.78860322e+044, 3.90157007e+044, 8.16769276e+044, 8.42193016e+044,\n",
      "       1.17407547e+045, 2.40154451e+045, 2.45576260e+045, 7.14249988e+045,\n",
      "       1.61255619e+047, 6.62392703e+047, 7.53075128e+048, 1.52534855e+049,\n",
      "       5.95267373e+050, 1.63249152e+052, 1.54488543e+053, 1.24355753e+054,\n",
      "       1.19617059e+055, 2.14975014e+055, 1.14507350e+056, 3.52458696e+056,\n",
      "       1.78564602e+057, 2.46829296e+058, 1.61599633e+062, 3.34594256e+070,\n",
      "       3.15272160e+074, 1.65396287e+076, 1.00096345e+078, 3.97060372e+078,\n",
      "       3.53315225e+083, 4.98931088e+103, 8.53797129e+105, 1.98331183e+108,\n",
      "       3.12249173e+110, 1.84033725e+115, 9.90921390e+117, 1.76774454e+120,\n",
      "       6.90201207e+122, 1.28520235e+125, 1.10611276e+128, 1.28313806e+147,\n",
      "                   inf,             inf,             inf,             inf,\n",
      "                   inf,             inf,             inf,             inf,\n",
      "                   inf,             inf,             inf,             inf,\n",
      "                   inf,             inf,             inf,             inf])]\n",
      "1 [array([1.84284950e+043, 7.29825025e+042, 6.17611133e+042, 4.02054095e+042,\n",
      "       3.70887843e+042, 3.43620772e+042, 3.29928325e+042, 3.31070529e+042,\n",
      "       4.78479659e+042, 6.58755304e+042, 9.96382601e+042, 1.63741362e+043,\n",
      "       2.69333831e+043, 3.00288183e+043, 5.84115963e+043, 1.23907990e+044,\n",
      "       2.78860322e+044, 3.90157007e+044, 8.16769276e+044, 8.42193016e+044,\n",
      "       1.17407547e+045, 2.40154451e+045, 2.45576260e+045, 7.14249988e+045,\n",
      "       1.61255619e+047, 6.62392703e+047, 7.53075128e+048, 1.52534855e+049,\n",
      "       5.95267373e+050, 1.63249152e+052, 1.54488543e+053, 1.24355753e+054,\n",
      "       1.19617059e+055, 2.14975014e+055, 1.14507350e+056, 3.52458696e+056,\n",
      "       1.78564602e+057, 2.46829296e+058, 1.61599633e+062, 3.34594256e+070,\n",
      "       3.15272160e+074, 1.65396287e+076, 1.00096345e+078, 3.97060372e+078,\n",
      "       3.53315225e+083, 4.98931088e+103, 8.53797129e+105, 1.98331183e+108,\n",
      "       3.12249173e+110, 1.84033725e+115, 9.90921390e+117, 1.76774454e+120,\n",
      "       6.90201207e+122, 1.28520235e+125, 1.10611276e+128, 1.28313806e+147,\n",
      "                   inf,             inf,             inf,             inf,\n",
      "                   inf,             inf,             inf,             inf,\n",
      "                   inf,             inf,             inf,             inf,\n",
      "                   inf,             inf,             inf,             inf])]\n"
     ]
    },
    {
     "name": "stderr",
     "output_type": "stream",
     "text": [
      "<ipython-input-9-ab17e4963279>:16: RuntimeWarning: overflow encountered in exp\n",
      "  A_z = lambda z: 2 * z * np.exp(-2 * z * y + z**2)\n",
      "<ipython-input-9-ab17e4963279>:20: RuntimeWarning: overflow encountered in exp\n",
      "  B_z = lambda z: 2 * z * np.exp(-2 * z * y + 2 * z * s + z**2)\n",
      "<ipython-input-9-ab17e4963279>:24: RuntimeWarning: overflow encountered in exp\n",
      "  exponent_integrand = np.asarray([np.exp((-t/tau_m)**2)])#, dtype=np.float128)#[0] for _t in t])\n",
      "<ipython-input-9-ab17e4963279>:29: RuntimeWarning: overflow encountered in multiply\n",
      "  multuplier1 = [i*M_Ni*(eta_Ni - eta_Co) for i in exponent_integrand]\n",
      "<ipython-input-9-ab17e4963279>:30: RuntimeWarning: overflow encountered in multiply\n",
      "  multuplier2 = [i*M_Ni*eta_Co for i in exponent_integrand]\n"
     ]
    },
    {
     "ename": "TypeError",
     "evalue": "Cannot cast array data from dtype('float128') to dtype('float64') according to the rule 'safe'",
     "output_type": "error",
     "traceback": [
      "\u001b[0;31m---------------------------------------------------------------------------\u001b[0m",
      "\u001b[0;31mTypeError\u001b[0m                                 Traceback (most recent call last)",
      "\u001b[0;31mTypeError\u001b[0m: Cannot cast array data from dtype('float128') to dtype('float64') according to the rule 'safe'"
     ]
    },
    {
     "ename": "error",
     "evalue": "Result from function call is not a proper array of floats.",
     "output_type": "error",
     "traceback": [
      "\u001b[0;31m---------------------------------------------------------------------------\u001b[0m",
      "\u001b[0;31merror\u001b[0m                                     Traceback (most recent call last)",
      "\u001b[0;32m<ipython-input-9-ab17e4963279>\u001b[0m in \u001b[0;36m<module>\u001b[0;34m\u001b[0m\n\u001b[1;32m     45\u001b[0m \u001b[0mxdata57\u001b[0m \u001b[0;34m=\u001b[0m \u001b[0mxdata\u001b[0m\u001b[0;34m[\u001b[0m\u001b[0;34m:\u001b[0m\u001b[0;36m39\u001b[0m\u001b[0;34m]\u001b[0m\u001b[0;34m\u001b[0m\u001b[0;34m\u001b[0m\u001b[0m\n\u001b[1;32m     46\u001b[0m \u001b[0mydata57\u001b[0m \u001b[0;34m=\u001b[0m \u001b[0mydata\u001b[0m\u001b[0;34m[\u001b[0m\u001b[0;34m:\u001b[0m\u001b[0;36m39\u001b[0m\u001b[0;34m]\u001b[0m\u001b[0;34m\u001b[0m\u001b[0;34m\u001b[0m\u001b[0m\n\u001b[0;32m---> 47\u001b[0;31m \u001b[0mparameter_optimal\u001b[0m\u001b[0;34m,\u001b[0m \u001b[0mpcov\u001b[0m \u001b[0;34m=\u001b[0m \u001b[0mscipy\u001b[0m\u001b[0;34m.\u001b[0m\u001b[0moptimize\u001b[0m\u001b[0;34m.\u001b[0m\u001b[0mcurve_fit\u001b[0m\u001b[0;34m(\u001b[0m\u001b[0mL_ph\u001b[0m\u001b[0;34m,\u001b[0m \u001b[0mxdata\u001b[0m\u001b[0;34m,\u001b[0m \u001b[0mydata\u001b[0m\u001b[0;34m,\u001b[0m \u001b[0mp0\u001b[0m\u001b[0;34m=\u001b[0m\u001b[0mparameter_initial\u001b[0m\u001b[0;34m)\u001b[0m\u001b[0;31m#, bounds=(0,np.inf))\u001b[0m\u001b[0;34m\u001b[0m\u001b[0;34m\u001b[0m\u001b[0m\n\u001b[0m\u001b[1;32m     48\u001b[0m \u001b[0mprint\u001b[0m\u001b[0;34m(\u001b[0m\u001b[0;34m\"parameter =\"\u001b[0m\u001b[0;34m,\u001b[0m \u001b[0mparameter_optimal\u001b[0m\u001b[0;34m)\u001b[0m\u001b[0;34m\u001b[0m\u001b[0;34m\u001b[0m\u001b[0m\n",
      "\u001b[0;32m~/anaconda3/lib/python3.8/site-packages/scipy/optimize/minpack.py\u001b[0m in \u001b[0;36mcurve_fit\u001b[0;34m(f, xdata, ydata, p0, sigma, absolute_sigma, check_finite, bounds, method, jac, **kwargs)\u001b[0m\n\u001b[1;32m    782\u001b[0m         \u001b[0;31m# Remove full_output from kwargs, otherwise we're passing it in twice.\u001b[0m\u001b[0;34m\u001b[0m\u001b[0;34m\u001b[0m\u001b[0;34m\u001b[0m\u001b[0m\n\u001b[1;32m    783\u001b[0m         \u001b[0mreturn_full\u001b[0m \u001b[0;34m=\u001b[0m \u001b[0mkwargs\u001b[0m\u001b[0;34m.\u001b[0m\u001b[0mpop\u001b[0m\u001b[0;34m(\u001b[0m\u001b[0;34m'full_output'\u001b[0m\u001b[0;34m,\u001b[0m \u001b[0;32mFalse\u001b[0m\u001b[0;34m)\u001b[0m\u001b[0;34m\u001b[0m\u001b[0;34m\u001b[0m\u001b[0m\n\u001b[0;32m--> 784\u001b[0;31m         \u001b[0mres\u001b[0m \u001b[0;34m=\u001b[0m \u001b[0mleastsq\u001b[0m\u001b[0;34m(\u001b[0m\u001b[0mfunc\u001b[0m\u001b[0;34m,\u001b[0m \u001b[0mp0\u001b[0m\u001b[0;34m,\u001b[0m \u001b[0mDfun\u001b[0m\u001b[0;34m=\u001b[0m\u001b[0mjac\u001b[0m\u001b[0;34m,\u001b[0m \u001b[0mfull_output\u001b[0m\u001b[0;34m=\u001b[0m\u001b[0;36m1\u001b[0m\u001b[0;34m,\u001b[0m \u001b[0;34m**\u001b[0m\u001b[0mkwargs\u001b[0m\u001b[0;34m)\u001b[0m\u001b[0;34m\u001b[0m\u001b[0;34m\u001b[0m\u001b[0m\n\u001b[0m\u001b[1;32m    785\u001b[0m         \u001b[0mpopt\u001b[0m\u001b[0;34m,\u001b[0m \u001b[0mpcov\u001b[0m\u001b[0;34m,\u001b[0m \u001b[0minfodict\u001b[0m\u001b[0;34m,\u001b[0m \u001b[0merrmsg\u001b[0m\u001b[0;34m,\u001b[0m \u001b[0mier\u001b[0m \u001b[0;34m=\u001b[0m \u001b[0mres\u001b[0m\u001b[0;34m\u001b[0m\u001b[0;34m\u001b[0m\u001b[0m\n\u001b[1;32m    786\u001b[0m         \u001b[0mysize\u001b[0m \u001b[0;34m=\u001b[0m \u001b[0mlen\u001b[0m\u001b[0;34m(\u001b[0m\u001b[0minfodict\u001b[0m\u001b[0;34m[\u001b[0m\u001b[0;34m'fvec'\u001b[0m\u001b[0;34m]\u001b[0m\u001b[0;34m)\u001b[0m\u001b[0;34m\u001b[0m\u001b[0;34m\u001b[0m\u001b[0m\n",
      "\u001b[0;32m~/anaconda3/lib/python3.8/site-packages/scipy/optimize/minpack.py\u001b[0m in \u001b[0;36mleastsq\u001b[0;34m(func, x0, args, Dfun, full_output, col_deriv, ftol, xtol, gtol, maxfev, epsfcn, factor, diag)\u001b[0m\n\u001b[1;32m    420\u001b[0m         \u001b[0;32mif\u001b[0m \u001b[0mmaxfev\u001b[0m \u001b[0;34m==\u001b[0m \u001b[0;36m0\u001b[0m\u001b[0;34m:\u001b[0m\u001b[0;34m\u001b[0m\u001b[0;34m\u001b[0m\u001b[0m\n\u001b[1;32m    421\u001b[0m             \u001b[0mmaxfev\u001b[0m \u001b[0;34m=\u001b[0m \u001b[0;36m200\u001b[0m\u001b[0;34m*\u001b[0m\u001b[0;34m(\u001b[0m\u001b[0mn\u001b[0m \u001b[0;34m+\u001b[0m \u001b[0;36m1\u001b[0m\u001b[0;34m)\u001b[0m\u001b[0;34m\u001b[0m\u001b[0;34m\u001b[0m\u001b[0m\n\u001b[0;32m--> 422\u001b[0;31m         retval = _minpack._lmdif(func, x0, args, full_output, ftol, xtol,\n\u001b[0m\u001b[1;32m    423\u001b[0m                                  gtol, maxfev, epsfcn, factor, diag)\n\u001b[1;32m    424\u001b[0m     \u001b[0;32melse\u001b[0m\u001b[0;34m:\u001b[0m\u001b[0;34m\u001b[0m\u001b[0;34m\u001b[0m\u001b[0m\n",
      "\u001b[0;31merror\u001b[0m: Result from function call is not a proper array of floats."
     ]
    }
   ],
   "source": [
    "xdata = np.array(xdata)\n",
    "ydata = np.array(ydata)    \n",
    "\n",
    "parameter_initial = np.array([0.1e33, 1e33, 1e51]) # a, b, c ###initial estimate for the unknown parameters to be derived\n",
    "# M_Ni = 0.43e33\n",
    "# M_ej = 2.5e33\n",
    "# E_k = 2.7e51\n",
    "\n",
    "def L_ph(t, M_Ni, M_ej, E_k): #func(x,a,b,c):\n",
    "#     photospheric_luminosity = np.array([],dtype=np.float128)\n",
    "    tau_m = (kappa_opt / (beta * cspeed))**0.5 * ((6 * M_ej**3) / (5 * E_k))**0.25\n",
    "    x = np.array(t / tau_m,dtype=np.float128) #we comment this out since we put tau_m (which is a constant number) explicitly in the equations below\n",
    "    y = tau_m / (2 * tau_Ni)\n",
    "    s = (tau_m * (tau_Co - tau_Ni) / (2 * tau_Co * tau_Ni))\n",
    "#     \n",
    "    A_z = lambda z: 2 * z * np.exp(-2 * z * y + z**2)\n",
    "    A_z_integrand = np.asarray([integrate.quad(A_z, 0.0, _x)[0] for _x in x])#,dtype=np.float128)\n",
    "#     print(\"A_z\",A_z_integrand) #we print in order to check if until this point it works or not\n",
    "     \n",
    "    B_z = lambda z: 2 * z * np.exp(-2 * z * y + 2 * z * s + z**2)\n",
    "    B_z_integrand = np.asarray([integrate.quad(B_z, 0.0, _x)[0] for _x in x])#,dtype=np.float128)\n",
    "#     print(\"B_z\",B_z_integrand) #we print in order to check if until this point it works or not\n",
    "    \n",
    "    exponent_integrand = np.asarray([np.exp((-t/tau_m)**2)])#, dtype=np.float128)#[0] for _t in t])\n",
    "#     print(exponent_integrand) #we print in order to check if until this point it works or not\n",
    "#     print(M_Ni * exponent_integrand * ((eta_Ni - eta_Co) * A_z_integrand + eta_Co * B_z_integrand))\n",
    "    \n",
    "    \n",
    "    multuplier1 = [i*M_Ni*(eta_Ni - eta_Co) for i in exponent_integrand]\n",
    "    multuplier2 = [i*M_Ni*eta_Co for i in exponent_integrand]\n",
    "    \n",
    "    print(1,multuplier1)\n",
    "#     print(\"2\",multuplier2)\n",
    "    \n",
    "    photospheric_luminosity = np.asarray([multuplier1 * A_z_integrand + multuplier2 * B_z_integrand])#,dtype=np.float128)\n",
    "    photospheric_luminosity.shape = (len(t),)\n",
    "    photospheric_luminosity = [np.float128(f\"{i}\") for i in photospheric_luminosity]\n",
    "    \n",
    "#     print(photospheric_luminosity) #we print in order to check if until this point it works or not\n",
    "    \n",
    "#     print(photospheric_luminosity.shape)\n",
    "    return  photospheric_luminosity\n",
    "\n",
    "\n",
    "xdata57 = xdata[:39]\n",
    "ydata57 = ydata[:39]\n",
    "parameter_optimal, pcov = scipy.optimize.curve_fit(L_ph, xdata, ydata, p0=parameter_initial)#, bounds=(0,np.inf))\n",
    "print(\"parameter =\", parameter_optimal)"
   ]
  },
  {
   "cell_type": "code",
   "execution_count": 144,
   "metadata": {},
   "outputs": [],
   "source": [
    "xdatamodel = np.arange(-5*86400,86400*5, 10, dtype='float')\n",
    "y = L_ph(xdatamodel, *parameter_optimal)"
   ]
  },
  {
   "cell_type": "code",
   "execution_count": 145,
   "metadata": {},
   "outputs": [
    {
     "name": "stderr",
     "output_type": "stream",
     "text": [
      "<ipython-input-145-562a8a0f3545>:2: RuntimeWarning: divide by zero encountered in log10\n",
      "  plt.plot(xdatamodel/86400, np.log10(y), '-')\n"
     ]
    },
    {
     "data": {
      "image/png": "[encoded data removed]",
      "text/plain": [
       "<Figure size 432x288 with 1 Axes>"
      ]
     },
     "metadata": {
      "needs_background": "light"
     },
     "output_type": "display_data"
    }
   ],
   "source": [
    "plt.plot(xdata, np.log10(ydata), 'o')\n",
    "plt.plot(xdatamodel/86400, np.log10(y), '-')\n",
    "# plt.xlim(-1,0.8)\n",
    "# plt.ylim(-1e62,1e62)\n",
    "plt.show()"
   ]
  },
  {
   "cell_type": "code",
   "execution_count": null,
   "metadata": {},
   "outputs": [],
   "source": []
  }
 ],
 "metadata": {
  "kernelspec": {
   "display_name": "Python 3 (ipykernel)",
   "language": "python",
   "name": "python3"
  },
  "language_info": {
   "codemirror_mode": {
    "name": "ipython",
    "version": 3
   },
   "file_extension": ".py",
   "mimetype": "text/x-python",
   "name": "python",
   "nbconvert_exporter": "python",
   "pygments_lexer": "ipython3",
   "version": "3.9.13"
  }
 },
 "nbformat": 4,
 "nbformat_minor": 4
}
