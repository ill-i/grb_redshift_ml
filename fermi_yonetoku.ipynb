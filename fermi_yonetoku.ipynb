{
 "cells": [
  {
   "cell_type": "markdown",
   "id": "c2e1aaea-7055-4444-8da6-3a9740031918",
   "metadata": {},
   "source": [
    "# ***** Libraries ***** "
   ]
  },
  {
   "cell_type": "code",
   "execution_count": 11,
   "id": "ca826070-b478-4af7-9cf8-0edb5c1df2a7",
   "metadata": {},
   "outputs": [],
   "source": [
    "import pandas as pd\n",
    "from astropy.table import Table\n",
    "import matplotlib.pyplot as plt\n",
    "from astropy.io import fits\n",
    "import numpy as np"
   ]
  },
  {
   "cell_type": "markdown",
   "id": "d24d0086-bcdf-413a-ab51-cc6b22479136",
   "metadata": {},
   "source": [
    "# ***** References ***** "
   ]
  },
  {
   "cell_type": "markdown",
   "id": "3941811f-ca1f-4ff9-87c8-d8ff153c587c",
   "metadata": {},
   "source": [
    "* (Amati, 2002) -- Amati, L., “Intrinsic spectra and energetics of BeppoSAX Gamma-Ray Bursts with known redshifts”, Astronomy and Astrophysics, vol. 390, pp. 81–89, 2002. doi:10.1051/0004-6361:20020722.\n",
    "\n",
    "* (Bloom, 2001) -- Bloom, J. S., Frail, D. A., and Sari, R., “The Prompt Energy Release of Gamma-Ray Bursts using a Cosmological k-Correction”, The Astronomical Journal, vol. 121, no. 6, pp. 2879–2888, 2001. doi:10.1086/321093.\n",
    "\n",
    "* FERMIGBRST - Fermi GBM Burst Catalog https://heasarc.gsfc.nasa.gov/W3Browse/fermi/fermigbrst.html\n",
    "\n",
    "* (Yonetoku, 2004) -- Yonetoku, D., Murakami, T., Nakamura, T., Yamazaki, R., Inoue, A. K., and Ioka, K., “Gamma-Ray Burst Formation Rate Inferred from the Spectral Peak Energy-Peak Luminosity Relation”, The Astrophysical Journal, vol. 609, no. 2, pp. 935–951, 2004. doi:10.1086/421285.\n",
    "\n",
    "* (Zhang, 2018) -- Zhang, B. (2018). The Physics of Gamma-Ray Bursts. Cambridge: Cambridge University Press. doi:10.1017/9781139226530"
   ]
  },
  {
   "cell_type": "markdown",
   "id": "2c0067dd-6d96-45e8-b8e7-02513779af51",
   "metadata": {},
   "source": [
    "# ***** Functions *****"
   ]
  },
  {
   "cell_type": "code",
   "execution_count": 2,
   "id": "a7a59049-20b0-46a5-bc62-6aeebff40e71",
   "metadata": {},
   "outputs": [],
   "source": [
    "def get_E_peak_rest_frame(E_peak_obs,redshift):\n",
    "    \"\"\"\n",
    "    Returns rest-frame peak energy\n",
    "    \n",
    "    E_peak_obs -- observed peak energy, from catalogue\n",
    "    redshift -- redshift of object\n",
    "    \n",
    "    (Zhang, 2018, p. 102)\n",
    "    \n",
    "    \"\"\"\n",
    "    \n",
    "    return (1 + redshift) * E_peak_obs\n",
    "\n",
    "def get_k_correction():\n",
    "    \"\"\"\n",
    "    (Bloom, 2001)\n",
    "    \"\"\"\n",
    "    pass\n",
    "\n",
    "def get_distance_luminosity():\n",
    "    \"\"\"\n",
    "    \"\"\"\n",
    "    pass \n",
    "\n",
    "def get_L_iso_bol_peak(dist_lum,peak_flux,k_c):\n",
    "    \"\"\"\n",
    "    Returns isotropic bolometric peak luminosity \n",
    "    \n",
    "    dist_lum -- \n",
    "    peak_flux --\n",
    "    k_c --\n",
    "    \"\"\"\n",
    "    return 4 * 3.141592653589793 * dist_lum**2 * peak_flux * k_c\n",
    "\n",
    "def luminosity_power_low():\n",
    "    \n",
    "    \"\"\"\n",
    "    (Yonetoku, 2004) correlation between peak luminosity\n",
    "    and peak energy.\n",
    "    Based on (Amati, 2002) and (Yonetoku, 2004) data\n",
    "    \"\"\"\n",
    "    \n",
    "    luminosity = 2.34 * 1e-5 * (E_peak * (1 + redshift) / 1e3)**2 * 1e52\n",
    "    luminosity_upper = (2.34+2.29) * 1e-5 * (E_peak * (1 + redshift) / 1e3)**(2-0.2) * 1e52\n",
    "    luminosity_lower = (2.34-1.76) * 1e-5 * (E_peak * (1 + redshift) / 1e3)**(2+0.2) * 1e52\n",
    "    \n",
    "    return luminosity, luminosity_upper, luminosity_lower"
   ]
  },
  {
   "cell_type": "markdown",
   "id": "ece54ace-e737-4902-8c3e-c02794f14b9e",
   "metadata": {
    "tags": []
   },
   "source": [
    "# ***** Data *****"
   ]
  },
  {
   "cell_type": "markdown",
   "id": "5af75af2-9fa1-4173-8405-a62b9cf9b4cf",
   "metadata": {},
   "source": [
    "## - - - - - - - - - - - - - \n",
    "## (Yonetoku, 2004)"
   ]
  },
  {
   "cell_type": "markdown",
   "id": "8a2b91d2-5582-4dd8-9934-d6563bb93749",
   "metadata": {},
   "source": [
    "### --- Figure 1 and Table 1 ---"
   ]
  },
  {
   "cell_type": "code",
   "execution_count": 3,
   "id": "b6f352ef-9783-41a2-8c2f-ad091b10547e",
   "metadata": {},
   "outputs": [],
   "source": [
    "yonetoku_data_st = pd.read_csv(\"2004_yonetoku_grb_table_2.csv\")"
   ]
  },
  {
   "cell_type": "code",
   "execution_count": 4,
   "id": "13620bcf-d4c6-4e13-b4dc-1543557de81a",
   "metadata": {
    "tags": []
   },
   "outputs": [
    {
     "data": {
      "text/plain": [
       "Index(['grb', 'redshift', 'ra', 'dec', 'Ep(1+z), (keV)',\n",
       "       'peak flux, (10-6ergs cm-2s-1)', 'Peak Luminosity,  1052ergs s-1',\n",
       "       'hi2/dof', 'k_c'],\n",
       "      dtype='object')"
      ]
     },
     "execution_count": 4,
     "metadata": {},
     "output_type": "execute_result"
    }
   ],
   "source": [
    "yonetoku_data_st.columns"
   ]
  },
  {
   "cell_type": "code",
   "execution_count": 9,
   "id": "ef6f0747-41ba-4a27-ba00-862380b1d2e3",
   "metadata": {},
   "outputs": [
    {
     "data": {
      "text/plain": [
       "1333.7"
      ]
     },
     "execution_count": 9,
     "metadata": {},
     "output_type": "execute_result"
    }
   ],
   "source": [
    "yonetoku_data_st[\"Ep(1+z), (keV)\"].max()"
   ]
  },
  {
   "cell_type": "code",
   "execution_count": 5,
   "id": "61761fc4-acea-4a83-8979-b2a62e72964c",
   "metadata": {},
   "outputs": [
    {
     "data": {
      "text/plain": [
       "Text(0, 0.5, '$Luminosity~[\\\\times 10^{52} erg/s]$')"
      ]
     },
     "execution_count": 5,
     "metadata": {},
     "output_type": "execute_result"
    },
    {
     "data": {
      "image/png": "[encoded data removed]",
      "text/plain": [
       "<Figure size 640x480 with 1 Axes>"
      ]
     },
     "metadata": {},
     "output_type": "display_data"
    }
   ],
   "source": [
    "plt.scatter(yonetoku_data_st[\"Ep(1+z), (keV)\"],yonetoku_data_st[\"Peak Luminosity,  1052ergs s-1\"])\n",
    "plt.xscale(\"log\")\n",
    "plt.yscale(\"log\")\n",
    "plt.xlabel(r\"$E_{peak} \\times (1 + z)~[keV]$\")\n",
    "plt.ylabel(r\"$Luminosity~[\\times 10^{52} erg/s]$\")"
   ]
  },
  {
   "cell_type": "code",
   "execution_count": 27,
   "id": "1161db24-11cd-4ee7-a26d-9238e38a3b8b",
   "metadata": {},
   "outputs": [
    {
     "data": {
      "text/plain": [
       "Text(0, 0.5, '$Luminosity~[\\\\times 10^{52} erg/s]$')"
      ]
     },
     "execution_count": 27,
     "metadata": {},
     "output_type": "execute_result"
    },
    {
     "data": {
      "image/png": "[encoded data removed]",
      "text/plain": [
       "<Figure size 640x480 with 1 Axes>"
      ]
     },
     "metadata": {},
     "output_type": "display_data"
    }
   ],
   "source": [
    "xp = np.arange(yonetoku_data_st[\"Ep(1+z), (keV)\"].min(),yonetoku_data_st[\"Ep(1+z), (keV)\"].max())\n",
    "z = np.polyfit(yonetoku_data_st[\"Ep(1+z), (keV)\"],yonetoku_data_st[\"Peak Luminosity,  1052ergs s-1\"], 1)\n",
    "polynomial = np.poly1d(z)\n",
    "y_polynomial = polynomial(xp)\n",
    "#plt.plot(index, color=\"steelblue\", label=\"Медианное значение\") \n",
    "plt.plot(xp, y_polynomial, color=\"orange\", label=f\"Полином ({1})\")\n",
    "plt.scatter(yonetoku_data_st[\"Ep(1+z), (keV)\"],yonetoku_data_st[\"Peak Luminosity,  1052ergs s-1\"])\n",
    "#plt.xscale(\"log\")\n",
    "#plt.yscale(\"log\")\n",
    "plt.xlabel(r\"$E_{peak} \\times (1 + z)~[keV]$\")\n",
    "plt.ylabel(r\"$Luminosity~[\\times 10^{52} erg/s]$\")"
   ]
  },
  {
   "cell_type": "markdown",
   "id": "c6c121ff-35a7-4030-baa0-e1fdd2e66346",
   "metadata": {},
   "source": [
    "### --- Table 2 ---"
   ]
  },
  {
   "cell_type": "code",
   "execution_count": 81,
   "id": "7b4c491f-4c2d-48eb-af12-637836a3732a",
   "metadata": {},
   "outputs": [],
   "source": [
    "yonetoku_data = pd.read_csv(\"2004_yonetoku_grb_energy_luminosity.csv\")"
   ]
  },
  {
   "cell_type": "code",
   "execution_count": 82,
   "id": "044980b8-a6e7-4420-a037-0d30f0791df5",
   "metadata": {
    "tags": []
   },
   "outputs": [
    {
     "data": {
      "text/html": [
       "<div>\n",
       "<style scoped>\n",
       "    .dataframe tbody tr th:only-of-type {\n",
       "        vertical-align: middle;\n",
       "    }\n",
       "\n",
       "    .dataframe tbody tr th {\n",
       "        vertical-align: top;\n",
       "    }\n",
       "\n",
       "    .dataframe thead th {\n",
       "        text-align: right;\n",
       "    }\n",
       "</style>\n",
       "<table border=\"1\" class=\"dataframe\">\n",
       "  <thead>\n",
       "    <tr style=\"text-align: right;\">\n",
       "      <th></th>\n",
       "      <th>trigger_number</th>\n",
       "      <th>Ep</th>\n",
       "      <th>E_Ep</th>\n",
       "      <th>e_Ep</th>\n",
       "      <th>z</th>\n",
       "      <th>E_z</th>\n",
       "      <th>e_z</th>\n",
       "      <th>Lum</th>\n",
       "      <th>E_Lum</th>\n",
       "      <th>e_Lum</th>\n",
       "    </tr>\n",
       "  </thead>\n",
       "  <tbody>\n",
       "    <tr>\n",
       "      <th>0</th>\n",
       "      <td>105</td>\n",
       "      <td>141.4</td>\n",
       "      <td>7.5</td>\n",
       "      <td>7.8</td>\n",
       "      <td>1.26</td>\n",
       "      <td>0.10</td>\n",
       "      <td>0.11</td>\n",
       "      <td>2.39E+52</td>\n",
       "      <td>4.300000e+51</td>\n",
       "      <td>5.200000e+51</td>\n",
       "    </tr>\n",
       "    <tr>\n",
       "      <th>1</th>\n",
       "      <td>109</td>\n",
       "      <td>385.4</td>\n",
       "      <td>18.8</td>\n",
       "      <td>20.7</td>\n",
       "      <td>1.98</td>\n",
       "      <td>0.17</td>\n",
       "      <td>0.20</td>\n",
       "      <td>3.10E+53</td>\n",
       "      <td>6.000000e+52</td>\n",
       "      <td>8.200000e+52</td>\n",
       "    </tr>\n",
       "    <tr>\n",
       "      <th>2</th>\n",
       "      <td>111</td>\n",
       "      <td>97.2</td>\n",
       "      <td>20.6</td>\n",
       "      <td>21.7</td>\n",
       "      <td>11.23</td>\n",
       "      <td>6.51</td>\n",
       "      <td>33.87</td>\n",
       "      <td>3.32E+53</td>\n",
       "      <td>2.870000e+53</td>\n",
       "      <td>6.720000e+54</td>\n",
       "    </tr>\n",
       "    <tr>\n",
       "      <th>3</th>\n",
       "      <td>130</td>\n",
       "      <td>182.2</td>\n",
       "      <td>7.1</td>\n",
       "      <td>7.4</td>\n",
       "      <td>5.17</td>\n",
       "      <td>0.57</td>\n",
       "      <td>0.68</td>\n",
       "      <td>2.97E+53</td>\n",
       "      <td>7.100000e+52</td>\n",
       "      <td>9.900000e+52</td>\n",
       "    </tr>\n",
       "    <tr>\n",
       "      <th>4</th>\n",
       "      <td>133</td>\n",
       "      <td>73.9</td>\n",
       "      <td>28.3</td>\n",
       "      <td>25.4</td>\n",
       "      <td>4.53</td>\n",
       "      <td>2.89</td>\n",
       "      <td>9.47</td>\n",
       "      <td>3.92E+52</td>\n",
       "      <td>3.580000e+52</td>\n",
       "      <td>4.820000e+53</td>\n",
       "    </tr>\n",
       "    <tr>\n",
       "      <th>...</th>\n",
       "      <td>...</td>\n",
       "      <td>...</td>\n",
       "      <td>...</td>\n",
       "      <td>...</td>\n",
       "      <td>...</td>\n",
       "      <td>...</td>\n",
       "      <td>...</td>\n",
       "      <td>...</td>\n",
       "      <td>...</td>\n",
       "      <td>...</td>\n",
       "    </tr>\n",
       "    <tr>\n",
       "      <th>684</th>\n",
       "      <td>8099</td>\n",
       "      <td>79.5</td>\n",
       "      <td>11.3</td>\n",
       "      <td>12.1</td>\n",
       "      <td>0.74</td>\n",
       "      <td>0.13</td>\n",
       "      <td>0.15</td>\n",
       "      <td>4.49E+51</td>\n",
       "      <td>1.660000e+51</td>\n",
       "      <td>2.540000e+51</td>\n",
       "    </tr>\n",
       "    <tr>\n",
       "      <th>685</th>\n",
       "      <td>8105</td>\n",
       "      <td>17.1</td>\n",
       "      <td>5.4</td>\n",
       "      <td>5.5</td>\n",
       "      <td>0.41</td>\n",
       "      <td>0.14</td>\n",
       "      <td>0.15</td>\n",
       "      <td>1.36E+50</td>\n",
       "      <td>8.400000e+49</td>\n",
       "      <td>1.550000e+50</td>\n",
       "    </tr>\n",
       "    <tr>\n",
       "      <th>686</th>\n",
       "      <td>8111</td>\n",
       "      <td>354.5</td>\n",
       "      <td>88.3</td>\n",
       "      <td>46.6</td>\n",
       "      <td>7.98</td>\n",
       "      <td>4.60</td>\n",
       "      <td>6.05</td>\n",
       "      <td>2.38E+54</td>\n",
       "      <td>2.060000e+54</td>\n",
       "      <td>6.150000e+54</td>\n",
       "    </tr>\n",
       "    <tr>\n",
       "      <th>687</th>\n",
       "      <td>8116</td>\n",
       "      <td>241.2</td>\n",
       "      <td>18.2</td>\n",
       "      <td>30.7</td>\n",
       "      <td>11.78</td>\n",
       "      <td>3.44</td>\n",
       "      <td>12.32</td>\n",
       "      <td>2.23E+54</td>\n",
       "      <td>1.210000e+54</td>\n",
       "      <td>8.690000e+54</td>\n",
       "    </tr>\n",
       "    <tr>\n",
       "      <th>688</th>\n",
       "      <td>8121</td>\n",
       "      <td>103.8</td>\n",
       "      <td>20.9</td>\n",
       "      <td>24.7</td>\n",
       "      <td>8.43</td>\n",
       "      <td>4.34</td>\n",
       "      <td>19.23</td>\n",
       "      <td>2.25E+53</td>\n",
       "      <td>1.830000e+53</td>\n",
       "      <td>2.960000e+54</td>\n",
       "    </tr>\n",
       "  </tbody>\n",
       "</table>\n",
       "<p>689 rows × 10 columns</p>\n",
       "</div>"
      ],
      "text/plain": [
       "     trigger_number     Ep  E_Ep  e_Ep      z   E_z    e_z       Lum  \\\n",
       "0               105  141.4   7.5   7.8   1.26  0.10   0.11  2.39E+52   \n",
       "1               109  385.4  18.8  20.7   1.98  0.17   0.20  3.10E+53   \n",
       "2               111   97.2  20.6  21.7  11.23  6.51  33.87  3.32E+53   \n",
       "3               130  182.2   7.1   7.4   5.17  0.57   0.68  2.97E+53   \n",
       "4               133   73.9  28.3  25.4   4.53  2.89   9.47  3.92E+52   \n",
       "..              ...    ...   ...   ...    ...   ...    ...       ...   \n",
       "684            8099   79.5  11.3  12.1   0.74  0.13   0.15  4.49E+51   \n",
       "685            8105   17.1   5.4   5.5   0.41  0.14   0.15  1.36E+50   \n",
       "686            8111  354.5  88.3  46.6   7.98  4.60   6.05  2.38E+54   \n",
       "687            8116  241.2  18.2  30.7  11.78  3.44  12.32  2.23E+54   \n",
       "688            8121  103.8  20.9  24.7   8.43  4.34  19.23  2.25E+53   \n",
       "\n",
       "            E_Lum         e_Lum  \n",
       "0    4.300000e+51  5.200000e+51  \n",
       "1    6.000000e+52  8.200000e+52  \n",
       "2    2.870000e+53  6.720000e+54  \n",
       "3    7.100000e+52  9.900000e+52  \n",
       "4    3.580000e+52  4.820000e+53  \n",
       "..            ...           ...  \n",
       "684  1.660000e+51  2.540000e+51  \n",
       "685  8.400000e+49  1.550000e+50  \n",
       "686  2.060000e+54  6.150000e+54  \n",
       "687  1.210000e+54  8.690000e+54  \n",
       "688  1.830000e+53  2.960000e+54  \n",
       "\n",
       "[689 rows x 10 columns]"
      ]
     },
     "execution_count": 82,
     "metadata": {},
     "output_type": "execute_result"
    }
   ],
   "source": [
    "yonetoku_data"
   ]
  },
  {
   "cell_type": "code",
   "execution_count": 83,
   "id": "60ad301f-eaca-4420-981a-e4a46b6cf6d8",
   "metadata": {},
   "outputs": [],
   "source": [
    "E_peak_z = get_E_peak_rest_frame(yonetoku_data[\"Ep\"],yonetoku_data[\"z\"])"
   ]
  },
  {
   "cell_type": "code",
   "execution_count": 84,
   "id": "5e420aad-e033-441a-b1b0-2400d2438aa6",
   "metadata": {},
   "outputs": [
    {
     "name": "stderr",
     "output_type": "stream",
     "text": [
      "/var/folders/kv/prhthx396zd4k1d7f55bdztc0000gn/T/ipykernel_68849/382217422.py:2: SettingWithCopyWarning: \n",
      "A value is trying to be set on a copy of a slice from a DataFrame\n",
      "\n",
      "See the caveats in the documentation: https://pandas.pydata.org/pandas-docs/stable/user_guide/indexing.html#returning-a-view-versus-a-copy\n",
      "  yonetoku_data[\"Lum\"][ind]=float(l)\n"
     ]
    }
   ],
   "source": [
    "for ind,l in enumerate(yonetoku_data[\"Lum\"]):\n",
    "    yonetoku_data[\"Lum\"][ind]=float(l)"
   ]
  },
  {
   "cell_type": "code",
   "execution_count": 85,
   "id": "f7310b3c-2f5f-46b1-98f9-fc0bab9ab436",
   "metadata": {},
   "outputs": [
    {
     "data": {
      "text/plain": [
       "Text(0, 0.5, '$Luminosity~[\\\\times 10^{52}~erg/s]$')"
      ]
     },
     "execution_count": 85,
     "metadata": {},
     "output_type": "execute_result"
    },
    {
     "data": {
      "image/png": "[encoded data removed]",
      "text/plain": [
       "<Figure size 640x480 with 1 Axes>"
      ]
     },
     "metadata": {},
     "output_type": "display_data"
    }
   ],
   "source": [
    "plt.scatter(E_peak_z/1e3,yonetoku_data[\"Lum\"]/1e52)\n",
    "plt.xscale(\"log\")\n",
    "plt.yscale(\"log\")\n",
    "plt.xlabel(r\"$E_{peak} \\times (1 + z)~[keV]$\")\n",
    "plt.ylabel(r\"$Luminosity~[\\times 10^{52}~erg/s]$\")"
   ]
  },
  {
   "cell_type": "markdown",
   "id": "1a439109-cee4-4098-90b7-c0a6389172da",
   "metadata": {
    "tags": []
   },
   "source": [
    "## - - - - - - - - - - - - - \n",
    "\n",
    "## Fermi\n",
    "\n",
    "(FERMIGBRST)\n",
    "\n",
    "* \ttrigger_time <= 2022-12-31 23:59:59.999 UTC\n",
    "*  \tt90 (s) <= 2"
   ]
  },
  {
   "cell_type": "code",
   "execution_count": 86,
   "id": "c5dfea98-1f70-4d21-892c-793cccaccf2c",
   "metadata": {},
   "outputs": [
    {
     "name": "stderr",
     "output_type": "stream",
     "text": [
      "WARNING: UnitsWarning: 'mjd' did not parse as fits unit: At col 0, Unit 'mjd' not supported by the FITS standard. Did you mean MJ or mJ? If this is meant to be a custom unit, define it with 'u.def_unit'. To have it recognized inside a file reader or other code, enable it with 'u.add_enabled_units'. For details, see https://docs.astropy.org/en/latest/units/combining_and_defining.html [astropy.units.core]\n",
      "WARNING: UnitsWarning: 'photon/cm^2/s' contains multiple slashes, which is discouraged by the FITS standard [astropy.units.format.generic]\n",
      "WARNING: UnitsWarning: 'photon/cm^2/s/keV' contains multiple slashes, which is discouraged by the FITS standard [astropy.units.format.generic]\n",
      "WARNING: UnitsWarning: 'erg/cm^2/s' contains multiple slashes, which is discouraged by the FITS standard [astropy.units.format.generic]\n"
     ]
    }
   ],
   "source": [
    "table = Table.read(\"fermi_results_short_2022.fits\")\n",
    "fermi_data_full = table.to_pandas()"
   ]
  },
  {
   "cell_type": "code",
   "execution_count": 102,
   "id": "4ca4d0de-0a5f-4645-bdd4-d4053008a0d3",
   "metadata": {},
   "outputs": [
    {
     "data": {
      "text/plain": [
       "Index(['NAME', 'RA', 'DEC', 'TRIGGER_TIME', 'T90', 'T90_ERROR', 'T90_START',\n",
       "       'FLUENCE', 'FLUENCE_ERROR', 'FLUX_1024', 'FLUX_1024_ERROR',\n",
       "       'FLUX_1024_TIME', 'FLUX_64', 'FLUX_64_ERROR', 'FLNC_BAND_AMPL',\n",
       "       'FLNC_BAND_AMPL_POS_ERR', 'FLNC_BAND_AMPL_NEG_ERR', 'FLNC_BAND_EPEAK',\n",
       "       'FLNC_BAND_EPEAK_POS_ERR', 'FLNC_BAND_EPEAK_NEG_ERR', 'FLNC_BAND_ALPHA',\n",
       "       'FLNC_BAND_ALPHA_POS_ERR', 'FLNC_BAND_ALPHA_NEG_ERR', 'FLNC_BAND_BETA',\n",
       "       'FLNC_BAND_BETA_POS_ERR', 'FLNC_BAND_BETA_NEG_ERR',\n",
       "       'FLNC_SPECTRUM_START', 'FLNC_SPECTRUM_STOP', 'PFLX_BEST_FITTING_MODEL',\n",
       "       'PFLX_BEST_MODEL_REDCHISQ'],\n",
       "      dtype='object')"
      ]
     },
     "execution_count": 102,
     "metadata": {},
     "output_type": "execute_result"
    }
   ],
   "source": [
    "fermi_data_full.columns[:30]"
   ]
  },
  {
   "cell_type": "code",
   "execution_count": 135,
   "id": "be86bc84-343c-4044-a4ff-d9b5aac81c47",
   "metadata": {},
   "outputs": [
    {
     "data": {
      "text/plain": [
       "True"
      ]
     },
     "execution_count": 135,
     "metadata": {},
     "output_type": "execute_result"
    }
   ],
   "source": [
    "fermi_data_full[\"FLNC_SBPL_STATISTIC\"][557] == fermi_data_full[\"FLNC_SBPL_STATISTIC\"][556]"
   ]
  },
  {
   "cell_type": "code",
   "execution_count": null,
   "id": "1b502636-b320-49d5-8dfe-f8579774502c",
   "metadata": {},
   "outputs": [],
   "source": [
    "fermi_data = fermi_data_full[['NAME', 'RA', 'DEC', 'T90',]]"
   ]
  }
 ],
 "metadata": {
  "kernelspec": {
   "display_name": "Python 3 (ipykernel)",
   "language": "python",
   "name": "python3"
  },
  "language_info": {
   "codemirror_mode": {
    "name": "ipython",
    "version": 3
   },
   "file_extension": ".py",
   "mimetype": "text/x-python",
   "name": "python",
   "nbconvert_exporter": "python",
   "pygments_lexer": "ipython3",
   "version": "3.9.13"
  }
 },
 "nbformat": 4,
 "nbformat_minor": 5
}
