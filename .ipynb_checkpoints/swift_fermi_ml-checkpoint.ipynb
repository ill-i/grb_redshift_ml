{
 "cells": [
  {
   "cell_type": "code",
   "execution_count": 1,
   "id": "2fe7a6d8-e4ce-4870-93e7-6927c254dc2c",
   "metadata": {},
   "outputs": [],
   "source": [
    "import numpy as np\n",
    "import sqlite3\n",
    "import pandas as pd\n",
    "import requests\n",
    "from astropy.io import fits\n",
    "import astropy\n",
    "from astropy.table import Table\n",
    "\n",
    "import string #call eng alphabet\n",
    "\n",
    "\n",
    "###### ML #######\n",
    "from sklearn.model_selection import train_test_split\n"
   ]
  },
  {
   "cell_type": "markdown",
   "id": "469cbb6e-177b-42b4-b3bb-f05a7c02f97c",
   "metadata": {},
   "source": [
    "# 1. Data preparing"
   ]
  },
  {
   "cell_type": "markdown",
   "id": "f01638bf-3913-498b-a04b-3c17e40f62b6",
   "metadata": {
    "tags": []
   },
   "source": [
    "## 1.1. Download Data Bases"
   ]
  },
  {
   "cell_type": "markdown",
   "id": "58ac7018-cbec-46ff-8a8d-b2195778b30c",
   "metadata": {
    "jp-MarkdownHeadingCollapsed": true,
    "tags": []
   },
   "source": [
    "### 1.1.1. Full Data Base"
   ]
  },
  {
   "cell_type": "markdown",
   "id": "e630f16b-694e-4ad5-a253-61a24da8a6d6",
   "metadata": {},
   "source": [
    "#### Download the SQLite file from the GRBweb webpage"
   ]
  },
  {
   "cell_type": "code",
   "execution_count": null,
   "id": "d6266735-b887-458d-981a-ad84f6d0ccf4",
   "metadata": {
    "tags": []
   },
   "outputs": [],
   "source": [
    "r = requests.get(\"https://icecube.wisc.edu/~grbweb_public/GRBweb2.sqlite\")\n",
    "f = open('GRBweb2.sqlite', 'wb').write(r.content)"
   ]
  },
  {
   "cell_type": "markdown",
   "id": "ed95df41-3feb-4785-a04e-9a9d4055bd87",
   "metadata": {
    "tags": []
   },
   "source": [
    "#### Load the database with the sqlite3 module"
   ]
  },
  {
   "cell_type": "code",
   "execution_count": null,
   "id": "6aa21be3-e660-45dd-b601-06d5c061030b",
   "metadata": {
    "tags": []
   },
   "outputs": [],
   "source": [
    "db = sqlite3.connect('GRBweb2.sqlite')"
   ]
  },
  {
   "cell_type": "markdown",
   "id": "6f281a92-f970-4467-8594-32e6c727f6dc",
   "metadata": {},
   "source": [
    "#### Print the names of all the tables\n",
    "From the list of table names, select the one you wish to load.From the list of table names, select the one you wish to load."
   ]
  },
  {
   "cell_type": "code",
   "execution_count": null,
   "id": "b9b5483f-14d1-471d-ae8c-4c6b67c00223",
   "metadata": {
    "tags": []
   },
   "outputs": [],
   "source": [
    "table_names = pd.read_sql_query(\"SELECT * from sqlite_sequence\", db)\n",
    "print(\"Table names:\\n\", table_names, \"\\n\\n\")"
   ]
  },
  {
   "cell_type": "markdown",
   "id": "decf2f27-ab05-4468-b8f0-daa9e43a7332",
   "metadata": {
    "jp-MarkdownHeadingCollapsed": true,
    "tags": []
   },
   "source": [
    "### 1.1.2. Swift table"
   ]
  },
  {
   "cell_type": "code",
   "execution_count": null,
   "id": "5cc883b6-9474-49e3-903e-d87ec0355c39",
   "metadata": {
    "tags": []
   },
   "outputs": [],
   "source": [
    "swift_table = pd.read_sql_query(\"SELECT * from Swift\", db)\n",
    "swift_table = swift_table.sort_values(\"GRB_name\").reset_index().drop(\"index\",axis=1)\n",
    "swift_table"
   ]
  },
  {
   "cell_type": "code",
   "execution_count": null,
   "id": "b0c59f77-a90e-4636-aa80-2d2e2ef598d4",
   "metadata": {
    "tags": []
   },
   "outputs": [],
   "source": [
    "swift_table.info()"
   ]
  },
  {
   "cell_type": "markdown",
   "id": "43c7b598-86d6-4b06-8abd-a28c17292d61",
   "metadata": {
    "jp-MarkdownHeadingCollapsed": true,
    "tags": []
   },
   "source": [
    "### 1.1.3. Fermi table"
   ]
  },
  {
   "cell_type": "code",
   "execution_count": null,
   "id": "debfa454-a8f7-411d-b901-ec901c5a950f",
   "metadata": {
    "tags": []
   },
   "outputs": [],
   "source": [
    "fermi_table = pd.read_sql_query(\"SELECT * from Fermi_GBM\", db)\n",
    "fermi_table = fermi_table.sort_values('GRB_name_Fermi').reset_index().drop(\"index\",axis=1)\n",
    "fermi_table"
   ]
  },
  {
   "cell_type": "code",
   "execution_count": null,
   "id": "63187f08-9dfa-476a-89fd-5d8ca5e4812d",
   "metadata": {
    "tags": []
   },
   "outputs": [],
   "source": [
    "fermi_table.info()"
   ]
  },
  {
   "cell_type": "markdown",
   "id": "65d529bf-a8d7-4348-90cb-d5f7a68b657f",
   "metadata": {
    "jp-MarkdownHeadingCollapsed": true,
    "tags": []
   },
   "source": [
    "### 1.1.3. Summary table"
   ]
  },
  {
   "cell_type": "code",
   "execution_count": null,
   "id": "5cbcfadc-0b74-40a3-985b-85844abc0a09",
   "metadata": {
    "tags": []
   },
   "outputs": [],
   "source": [
    "summary_table = pd.read_sql_query(\"SELECT * from Summary\", db)"
   ]
  },
  {
   "cell_type": "code",
   "execution_count": null,
   "id": "aa87bfe8-c18f-4e39-b5f0-42fe1aa7c996",
   "metadata": {
    "tags": []
   },
   "outputs": [],
   "source": [
    "summary_table.to_csv(\"summary_table_grb.csv\")"
   ]
  },
  {
   "cell_type": "code",
   "execution_count": null,
   "id": "c04d5177-e152-492a-8e38-5ce7f2d69770",
   "metadata": {
    "tags": []
   },
   "outputs": [],
   "source": [
    "summary_table.info()"
   ]
  },
  {
   "cell_type": "markdown",
   "id": "a8116fa0-b426-47a8-8dde-163833d17063",
   "metadata": {
    "jp-MarkdownHeadingCollapsed": true,
    "tags": []
   },
   "source": [
    "## 1.2. Data reduction (using online tables, save them and one local unite table)\n",
    "\n",
    "* Preparing to cross matching -- create new names (Fermi style -> Swift style)\n",
    "* Cross matching (Fermi-Swift)\n",
    "* Creating new larger table "
   ]
  },
  {
   "cell_type": "markdown",
   "id": "7ba69d9a-541c-48bd-a9f0-7a5b83dc59cf",
   "metadata": {
    "jp-MarkdownHeadingCollapsed": true,
    "tags": []
   },
   "source": [
    "### 1.2.1. Preparing to cross matching"
   ]
  },
  {
   "cell_type": "code",
   "execution_count": null,
   "id": "0446af9c-06f1-4806-90f9-536af6c83965",
   "metadata": {
    "tags": []
   },
   "outputs": [],
   "source": [
    "alphabet = list(string.ascii_uppercase)\n",
    "dictionary = {}\n",
    "for i in range(0,len(fermi_table)):\n",
    "    #print(i)\n",
    "    grb_one_date = []\n",
    "    for j in range(0,len(fermi_table)):\n",
    "        if fermi_table['GRB_name_Fermi'].iloc[i][:9] == fermi_table['GRB_name_Fermi'].iloc[j][:9]:\n",
    "            grb_one_date.append(fermi_table['GRB_name_Fermi'].iloc[j])\n",
    "    \n",
    "    grb_one_date.sort()\n",
    "    #print(grb_one_date)\n",
    "\n",
    "    for n in range(0,len(grb_one_date)):\n",
    "        dictionary[grb_one_date[n]] = grb_one_date[n][:9] + alphabet[n]\n",
    "    #print(dictionary)\n",
    "    #print(\"_____________________________\")\n",
    "\n"
   ]
  },
  {
   "cell_type": "markdown",
   "id": "608af29b-7a12-40ac-9b6d-5520d887b52f",
   "metadata": {
    "jp-MarkdownHeadingCollapsed": true,
    "tags": []
   },
   "source": [
    "### 1.2.2. Cross match"
   ]
  },
  {
   "cell_type": "code",
   "execution_count": null,
   "id": "d0051f7f-92ee-4594-a741-efad5beed840",
   "metadata": {},
   "outputs": [],
   "source": [
    "fermi_table['GRB_name_Swift'] = \"\"*len(fermi_table)\n",
    "for i in range(0,len(fermi_table)):\n",
    "    fermi_table['GRB_name_Swift'].iloc[i] = dictionary[fermi_table['GRB_name_Fermi'].iloc[i]]"
   ]
  },
  {
   "cell_type": "code",
   "execution_count": null,
   "id": "b91ea161-7277-405a-a5cc-0786f58481f2",
   "metadata": {},
   "outputs": [],
   "source": [
    "fermi_table"
   ]
  },
  {
   "cell_type": "markdown",
   "id": "f19e6f36-d560-405f-ab38-51b3634e2d63",
   "metadata": {
    "jp-MarkdownHeadingCollapsed": true,
    "tags": []
   },
   "source": [
    "### 1.2.3. Creating new table"
   ]
  },
  {
   "cell_type": "code",
   "execution_count": null,
   "id": "bdd1bb7b-03e6-4bef-9eca-05b5a0a7d9c9",
   "metadata": {},
   "outputs": [],
   "source": [
    "sf_table = swift_table #make copy of Swift table to add here \n",
    "# additional tables from Fermi catalogue (cross matching)\n",
    "\n",
    "sf_table"
   ]
  },
  {
   "cell_type": "code",
   "execution_count": null,
   "id": "6f5c910c-b617-4a18-86eb-1134176bd1c8",
   "metadata": {},
   "outputs": [],
   "source": [
    "sf_table[\"GRB_name_Swift\"] = sf_table[\"GRB_name\"]"
   ]
  },
  {
   "cell_type": "code",
   "execution_count": null,
   "id": "0f282020-4995-453f-8138-829ef964a38b",
   "metadata": {},
   "outputs": [],
   "source": [
    "sf_table = sf_table.merge(fermi_table, how=\"left\", on=\"GRB_name_Swift\", suffixes=('_swift', '_fermi'))\n",
    "sf_table"
   ]
  },
  {
   "cell_type": "code",
   "execution_count": null,
   "id": "21fd18a0-f4bc-4e6f-a262-4069738a9721",
   "metadata": {},
   "outputs": [],
   "source": [
    "fermi_table.to_csv(\"grb_fermi_catalogue\")\n",
    "swift_table.to_csv(\"grb_swift_catalogue\")\n",
    "sf_table.to_csv(\"grb_swift_fermi_catalogue_for_ml\")"
   ]
  },
  {
   "cell_type": "markdown",
   "id": "f7079ca8-bca2-4655-970b-771b0b479a1d",
   "metadata": {
    "tags": []
   },
   "source": [
    "## 1.3. Data reduction (using local summary table)"
   ]
  },
  {
   "cell_type": "code",
   "execution_count": 4,
   "id": "9e7559c8-4d52-4893-8ca3-cdc4ddcb0098",
   "metadata": {},
   "outputs": [],
   "source": [
    "data = pd.read_csv(\"summary_table_grb.csv\")"
   ]
  },
  {
   "cell_type": "code",
   "execution_count": 5,
   "id": "b9d3cded-8073-4d5b-b187-b55a03143999",
   "metadata": {},
   "outputs": [
    {
     "name": "stderr",
     "output_type": "stream",
     "text": [
      "/var/folders/kv/prhthx396zd4k1d7f55bdztc0000gn/T/ipykernel_3825/3069133779.py:4: SettingWithCopyWarning: \n",
      "A value is trying to be set on a copy of a slice from a DataFrame\n",
      "\n",
      "See the caveats in the documentation: https://pandas.pydata.org/pandas-docs/stable/user_guide/indexing.html#returning-a-view-versus-a-copy\n",
      "  data[\"GRB_name_Fermi\"].iloc[ind] = str(name).upper().strip()\n"
     ]
    }
   ],
   "source": [
    "#we have to edit name of GRBs because somewhere may be spaces \n",
    "#and if somewhere the is lower case we have to fix it on upper case\n",
    "for ind,name in enumerate(data[\"GRB_name_Fermi\"]):\n",
    "    data[\"GRB_name_Fermi\"].iloc[ind] = str(name).upper().strip()"
   ]
  },
  {
   "cell_type": "code",
   "execution_count": 6,
   "id": "31552d11-e3c0-4247-a489-742e259db252",
   "metadata": {},
   "outputs": [],
   "source": [
    "#to use data in Fermi catalogue we have to drop rows with no Ferni name of GRBs\n",
    "\n",
    "data_nonull = data[data[\"GRB_name_Fermi\"].notnull()]\n",
    "\n",
    "#because then we will set names of GRBs as indexes and there should not be NULL value\n",
    "#there will not be an error, but it is better to protect it from possible errors\n",
    "\n",
    "data_redshift=data_nonull[[\"GRB_name_Fermi\",\"redshift\"]].set_index(\"GRB_name_Fermi\")"
   ]
  },
  {
   "cell_type": "markdown",
   "id": "098ee7b5-b5a8-4b36-8320-2df2f5fc39b9",
   "metadata": {
    "tags": []
   },
   "source": [
    "## 1.4. Data reduction (Fermi table)"
   ]
  },
  {
   "cell_type": "code",
   "execution_count": 2,
   "id": "815a8253-2443-4f4b-a734-8f8e126f3e6a",
   "metadata": {},
   "outputs": [],
   "source": [
    "fermi_astrotable = Table(fits.open(\"fermi_full_2022.fits\")[1].data)\n",
    "fermi_full = fermi_astrotable.to_pandas()"
   ]
  },
  {
   "cell_type": "code",
   "execution_count": 3,
   "id": "f62b3ddb-b9f8-497e-b153-9eaf54050955",
   "metadata": {
    "tags": []
   },
   "outputs": [
    {
     "name": "stderr",
     "output_type": "stream",
     "text": [
      "/var/folders/kv/prhthx396zd4k1d7f55bdztc0000gn/T/ipykernel_3825/2132666068.py:7: SettingWithCopyWarning: \n",
      "A value is trying to be set on a copy of a slice from a DataFrame\n",
      "\n",
      "See the caveats in the documentation: https://pandas.pydata.org/pandas-docs/stable/user_guide/indexing.html#returning-a-view-versus-a-copy\n",
      "  fermi_full[\"GRB_name_Fermi\"].iloc[ind] = str(name).upper().strip()\n"
     ]
    }
   ],
   "source": [
    "fermi_full = fermi_full.rename(columns={\"NAME\":\"GRB_name_Fermi\"})#we rename the column because\n",
    "#it another table (data_redshift -- summary table from icecube) it is named in this way\n",
    "\n",
    "#we have to edit name of GRBs because somewhere may be spaces \n",
    "#and if somewhere the is lower case we have to fix it on upper case\n",
    "for ind,name in enumerate(fermi_full[\"GRB_name_Fermi\"]):\n",
    "    fermi_full[\"GRB_name_Fermi\"].iloc[ind] = str(name).upper().strip()"
   ]
  },
  {
   "cell_type": "code",
   "execution_count": 7,
   "id": "5026ea82-71e6-4919-8982-eb513149b5b7",
   "metadata": {
    "tags": []
   },
   "outputs": [],
   "source": [
    "#we join two tables with known redshifts and another data on events\n",
    "\n",
    "fermi_rs = fermi_full.join(data_redshift,how=\"left\",on=\"GRB_name_Fermi\")\n",
    "\n",
    "#and remove GRBs without known redshift\n",
    "\n",
    "fermi_rs = fermi_rs[fermi_rs[\"redshift\"].notnull()].reset_index().drop(\"index\",axis=1)"
   ]
  },
  {
   "cell_type": "code",
   "execution_count": 8,
   "id": "37eb901a-8981-458c-89fd-d587c40386b4",
   "metadata": {
    "tags": []
   },
   "outputs": [
    {
     "name": "stdout",
     "output_type": "stream",
     "text": [
      "fermi_rs_comp:  77\n",
      "fermi_rs_band:  27\n"
     ]
    }
   ],
   "source": [
    "drop_indexes_comp = []\n",
    "drop_indexes_band = []\n",
    "for ind,mod in enumerate(fermi_rs[\"FLNC_BEST_FITTING_MODEL\"]):\n",
    "    if str(fermi_rs[\"FLNC_BEST_FITTING_MODEL\"].iloc[ind]).lower().strip()==\"flnc_comp\":   \n",
    "        continue\n",
    "    else:\n",
    "        drop_indexes_comp.append(ind)\n",
    "        \n",
    "for ind,mod in enumerate(fermi_rs[\"FLNC_BEST_FITTING_MODEL\"]):\n",
    "    if str(fermi_rs[\"FLNC_BEST_FITTING_MODEL\"].iloc[ind]).lower().strip()==\"flnc_band\":\n",
    "        continue\n",
    "    else:\n",
    "        drop_indexes_band.append(ind)\n",
    "\n",
    "fermi_rs_comp = fermi_rs.drop(drop_indexes_comp,axis=0).reset_index().drop(\"index\",axis=1)\n",
    "print(\"fermi_rs_comp: \",len(fermi_rs_comp))\n",
    "fermi_rs_band = fermi_rs.drop(drop_indexes_band,axis=0).reset_index().drop(\"index\",axis=1)\n",
    "print(\"fermi_rs_band: \",len(fermi_rs_band))"
   ]
  },
  {
   "cell_type": "code",
   "execution_count": 20,
   "id": "c1d93482-0702-49c9-8a70-83d428c98e4c",
   "metadata": {
    "tags": []
   },
   "outputs": [],
   "source": [
    "#now we schould remove unnecessary for ml columns \n",
    "#we suggest that GRBs have isotropic distribution, so we do not need columns with coordinates\n",
    "#also we do not need columns with estimated errors\n",
    "#names are irrelevant\n",
    "#we do not need string data\n",
    "#\n",
    "fermi_rs = fermi_rs[[\n",
    "                     'T90',\n",
    "                     'FLUENCE',\n",
    "                     'FLUX_1024',\n",
    "                     'FLUX_1024_TIME',\n",
    "                     'FLUX_64',\n",
    "                     \n",
    "                     'FLNC_BAND_AMPL',\n",
    "                     'FLNC_BAND_EPEAK',\n",
    "                     'FLNC_BAND_ALPHA',\n",
    "                     'FLNC_BAND_BETA',\n",
    "                     'FLNC_SPECTRUM_START',\n",
    "                     'FLNC_SPECTRUM_STOP',\n",
    "                     \n",
    "                     'LII',\n",
    "                     'BII',\n",
    "                     'DURATION_ENERGY_LOW',\n",
    "                     'DURATION_ENERGY_HIGH',\n",
    "                     'BACK_INTERVAL_LOW_START',\n",
    "                     'BACK_INTERVAL_LOW_STOP',\n",
    "                     'BACK_INTERVAL_HIGH_START',\n",
    "                     'BACK_INTERVAL_HIGH_STOP',\n",
    "                     'T50',\n",
    "                     'FLU_LOW',\n",
    "                     'FLU_HIGH',\n",
    "                     \n",
    "                     'FLUENCE_BATSE',\n",
    "                    \n",
    "                     'FLUX_64_TIME',\n",
    "                     'FLUX_256',\n",
    "                     'FLUX_256_TIME',\n",
    "                     'FLUX_BATSE_1024',\n",
    "                     'FLUX_BATSE_1024_TIME',\n",
    "                     'FLUX_BATSE_64',\n",
    "                     'FLUX_BATSE_64_TIME',\n",
    "                     'FLUX_BATSE_256',\n",
    "                     'FLUX_BATSE_256_TIME',\n",
    "                     \n",
    "                     'ACTUAL_64MS_INTERVAL',\n",
    "                     'ACTUAL_256MS_INTERVAL',\n",
    "                     'ACTUAL_1024MS_INTERVAL',\n",
    "                     \n",
    "                     'SCAT_DETECTOR_MASK',\n",
    "                     'PFLX_SPECTRUM_START',\n",
    "                     'PFLX_SPECTRUM_STOP',\n",
    "                     'PFLX_PLAW_AMPL',\n",
    "                     'PFLX_PLAW_PIVOT',\n",
    "                     'PFLX_PLAW_INDEX',\n",
    "                     'PFLX_PLAW_PHTFLUX',\n",
    "                     'PFLX_PLAW_PHTFLNC',\n",
    "                     'PFLX_PLAW_ERGFLUX',\n",
    "                     'PFLX_PLAW_ERGFLNC',\n",
    "                     'PFLX_PLAW_PHTFLUXB',\n",
    "                     'PFLX_PLAW_PHTFLNCB',\n",
    "                     'PFLX_PLAW_ERGFLNCB',\n",
    "                     'PFLX_PLAW_REDCHISQ',\n",
    "                     'PFLX_PLAW_REDFITSTAT',\n",
    "                     'PFLX_PLAW_DOF',\n",
    "                     \n",
    "                     'PFLX_COMP_AMPL',\n",
    "                     'PFLX_COMP_EPEAK',\n",
    "                     'PFLX_COMP_INDEX',\n",
    "                     'PFLX_COMP_PIVOT',\n",
    "                     'PFLX_COMP_PHTFLUX',\n",
    "                     'PFLX_COMP_PHTFLNC',\n",
    "                     'PFLX_COMP_ERGFLUX',\n",
    "                     'PFLX_COMP_ERGFLNC',\n",
    "                     'PFLX_COMP_PHTFLUXB',\n",
    "                     'PFLX_COMP_PHTFLNCB',\n",
    "                     'PFLX_COMP_ERGFLNCB',\n",
    "                     'PFLX_COMP_REDCHISQ',\n",
    "                     'PFLX_COMP_REDFITSTAT',\n",
    "                     'PFLX_COMP_DOF',\n",
    "                     \n",
    "                     'PFLX_BAND_AMPL',\n",
    "                     'PFLX_BAND_EPEAK',\n",
    "                     'PFLX_BAND_ALPHA',\n",
    "                     'PFLX_BAND_BETA',\n",
    "                     'PFLX_BAND_PHTFLUX',\n",
    "                     'PFLX_BAND_PHTFLNC',\n",
    "                     'PFLX_BAND_ERGFLUX',\n",
    "                     'PFLX_BAND_ERGFLNC',\n",
    "                     'PFLX_BAND_PHTFLUXB',\n",
    "                     'PFLX_BAND_PHTFLNCB',\n",
    "                     'PFLX_BAND_ERGFLNCB',\n",
    "                     'PFLX_BAND_REDCHISQ',\n",
    "                     'PFLX_BAND_REDFITSTAT',\n",
    "                     'PFLX_BAND_DOF',\n",
    "                     \n",
    "                     'PFLX_SBPL_AMPL',\n",
    "                     'PFLX_SBPL_PIVOT',\n",
    "                     'PFLX_SBPL_INDX1',\n",
    "                     'PFLX_SBPL_BRKEN',\n",
    "                     'PFLX_SBPL_BRKSC',\n",
    "                     'PFLX_SBPL_INDX2',\n",
    "                     'PFLX_SBPL_PHTFLUX',\n",
    "                     'PFLX_SBPL_PHTFLNC',\n",
    "                     'PFLX_SBPL_ERGFLUX',\n",
    "                     'PFLX_SBPL_ERGFLNC',\n",
    "                     'PFLX_SBPL_PHTFLUXB',\n",
    "                     'PFLX_SBPL_PHTFLNCB',\n",
    "                     'PFLX_SBPL_ERGFLNCB',\n",
    "                     'PFLX_SBPL_REDCHISQ',\n",
    "                     'PFLX_SBPL_REDFITSTAT',\n",
    "                     'PFLX_SBPL_DOF',\n",
    "                     \n",
    "                     'FLNC_COMP_AMPL',\n",
    "                     'FLNC_COMP_EPEAK',\n",
    "                     'FLNC_COMP_INDEX',\n",
    "                     'FLNC_COMP_PIVOT',\n",
    "                     'FLNC_COMP_PHTFLUX',\n",
    "                     'FLNC_COMP_PHTFLNC',\n",
    "                     'FLNC_COMP_ERGFLUX',\n",
    "                     'FLNC_COMP_ERGFLNC',\n",
    "                     'FLNC_COMP_PHTFLUXB',\n",
    "                     'FLNC_COMP_PHTFLNCB',\n",
    "                     'FLNC_COMP_ERGFLNCB',\n",
    "                     'FLNC_COMP_REDCHISQ',\n",
    "                     'FLNC_COMP_REDFITSTAT',\n",
    "                     'FLNC_COMP_DOF',\n",
    "                     \n",
    "                     'FLNC_BAND_PHTFLUX',\n",
    "                     'FLNC_BAND_PHTFLNC',\n",
    "                     'FLNC_BAND_ERGFLUX',\n",
    "                     'FLNC_BAND_ERGFLNC',\n",
    "                     'FLNC_BAND_PHTFLUXB',\n",
    "                     'FLNC_BAND_PHTFLNCB',\n",
    "                     'FLNC_BAND_ERGFLNCB',\n",
    "                     'FLNC_BAND_REDCHISQ',\n",
    "                     'FLNC_BAND_REDFITSTAT',\n",
    "                     'FLNC_BAND_DOF',\n",
    "                     \n",
    "                     'FLNC_SBPL_AMPL',\n",
    "                     'FLNC_SBPL_AMPL_POS_ERR',\n",
    "                     'FLNC_SBPL_PIVOT',\n",
    "                     'FLNC_SBPL_INDX1',\n",
    "                     'FLNC_SBPL_BRKEN',\n",
    "                     'FLNC_SBPL_BRKSC',\n",
    "                     'FLNC_SBPL_INDX2',\n",
    "                     'FLNC_SBPL_PHTFLUX', \n",
    "                     'FLNC_SBPL_PHTFLNC',\n",
    "                     'FLNC_SBPL_ERGFLUX', \n",
    "                     'FLNC_SBPL_ERGFLNC', \n",
    "                     'FLNC_SBPL_PHTFLUXB',\n",
    "                     'FLNC_SBPL_PHTFLNCB',\n",
    "                     'FLNC_SBPL_ERGFLNCB',\n",
    "                     'FLNC_SBPL_REDCHISQ',\n",
    "                     'FLNC_SBPL_REDFITSTAT',\n",
    "                     'FLNC_SBPL_DOF',\n",
    "                     \n",
    "                     'BCATALOG',\n",
    "                     'SCATALOG']]"
   ]
  },
  {
   "cell_type": "code",
   "execution_count": 9,
   "id": "19f9070e-de46-428d-b55d-eee5aed8a64c",
   "metadata": {},
   "outputs": [
    {
     "name": "stdout",
     "output_type": "stream",
     "text": [
      "<class 'pandas.core.frame.DataFrame'>\n",
      "RangeIndex: 191 entries, 0 to 190\n",
      "Columns: 307 entries, GRB_name_Fermi to redshift\n",
      "dtypes: float64(291), int16(2), object(14)\n",
      "memory usage: 456.0+ KB\n"
     ]
    }
   ],
   "source": [
    "fermi_rs.info()"
   ]
  },
  {
   "cell_type": "code",
   "execution_count": 10,
   "id": "67ee8a59-b38f-476a-822a-1471102665ef",
   "metadata": {
    "tags": []
   },
   "outputs": [],
   "source": [
    "#now we schould remove unnecessary for ml columns \n",
    "#we suggest that GRBs have isotropic distribution, so we do not need columns with coordinates\n",
    "#also we do not need columns with estimated errors\n",
    "#names are irrelevant\n",
    "#we do not need string data\n",
    "#\n",
    "fermi_rs_band = fermi_rs[[\n",
    "                     'T90',\n",
    "                     'FLUENCE',\n",
    "                     'FLUX_1024',\n",
    "                     'FLUX_1024_TIME',\n",
    "                     'FLUX_64',\n",
    "                     \n",
    "                     'FLNC_BAND_AMPL',\n",
    "                     'FLNC_BAND_EPEAK',\n",
    "                     'FLNC_BAND_ALPHA',\n",
    "                     'FLNC_BAND_BETA',\n",
    "                     'FLNC_SPECTRUM_START',\n",
    "                     'FLNC_SPECTRUM_STOP',\n",
    "                     \n",
    "                     'LII',\n",
    "                     'BII',\n",
    "                     'DURATION_ENERGY_LOW',\n",
    "                     'DURATION_ENERGY_HIGH',\n",
    "                     'BACK_INTERVAL_LOW_START',\n",
    "                     'BACK_INTERVAL_LOW_STOP',\n",
    "                     'BACK_INTERVAL_HIGH_START',\n",
    "                     'BACK_INTERVAL_HIGH_STOP',\n",
    "                     'T50',\n",
    "                     'FLU_LOW',\n",
    "                     'FLU_HIGH',\n",
    "                     \n",
    "                     'FLUENCE_BATSE',\n",
    "                    \n",
    "                     'FLUX_64_TIME',\n",
    "                     'FLUX_256',\n",
    "                     'FLUX_256_TIME',\n",
    "                     'FLUX_BATSE_1024',\n",
    "                     'FLUX_BATSE_1024_TIME',\n",
    "                     'FLUX_BATSE_64',\n",
    "                     'FLUX_BATSE_64_TIME',\n",
    "                     'FLUX_BATSE_256',\n",
    "                     'FLUX_BATSE_256_TIME',\n",
    "                     \n",
    "                     'ACTUAL_64MS_INTERVAL',\n",
    "                     'ACTUAL_256MS_INTERVAL',\n",
    "                     'ACTUAL_1024MS_INTERVAL',\n",
    "                     \n",
    "                     'PFLX_SPECTRUM_START',\n",
    "                     'PFLX_SPECTRUM_STOP',\n",
    "                     \n",
    "                     'PFLX_BAND_AMPL',\n",
    "                     'PFLX_BAND_EPEAK',\n",
    "                     'PFLX_BAND_ALPHA',\n",
    "                     'PFLX_BAND_BETA',\n",
    "                     'PFLX_BAND_PHTFLUX',\n",
    "                     'PFLX_BAND_PHTFLNC',\n",
    "                     'PFLX_BAND_ERGFLUX',\n",
    "                     'PFLX_BAND_ERGFLNC',\n",
    "                     'PFLX_BAND_PHTFLUXB',\n",
    "                     'PFLX_BAND_PHTFLNCB',\n",
    "                     'PFLX_BAND_ERGFLNCB',\n",
    "                     'PFLX_BAND_REDCHISQ',\n",
    "                     'PFLX_BAND_REDFITSTAT',\n",
    "                     'PFLX_BAND_DOF',\n",
    "                     \n",
    "                     'FLNC_BAND_PHTFLUX',\n",
    "                     'FLNC_BAND_PHTFLNC',\n",
    "                     'FLNC_BAND_ERGFLUX',\n",
    "                     'FLNC_BAND_ERGFLNC',\n",
    "                     'FLNC_BAND_PHTFLUXB',\n",
    "                     'FLNC_BAND_PHTFLNCB',\n",
    "                     'FLNC_BAND_ERGFLNCB',\n",
    "                     'FLNC_BAND_REDCHISQ',\n",
    "                     'FLNC_BAND_REDFITSTAT',\n",
    "                     'FLNC_BAND_DOF',\n",
    "  \n",
    "                     'BCATALOG',\n",
    "                     'SCATALOG']]"
   ]
  },
  {
   "cell_type": "code",
   "execution_count": 11,
   "id": "b986c30a-4e9c-40aa-9b4f-0df60daa1e2e",
   "metadata": {
    "collapsed": true,
    "jupyter": {
     "outputs_hidden": true
    },
    "tags": []
   },
   "outputs": [
    {
     "name": "stdout",
     "output_type": "stream",
     "text": [
      "<class 'pandas.core.frame.DataFrame'>\n",
      "RangeIndex: 191 entries, 0 to 190\n",
      "Data columns (total 63 columns):\n",
      " #   Column                    Non-Null Count  Dtype  \n",
      "---  ------                    --------------  -----  \n",
      " 0   T90                       191 non-null    float64\n",
      " 1   FLUENCE                   191 non-null    float64\n",
      " 2   FLUX_1024                 191 non-null    float64\n",
      " 3   FLUX_1024_TIME            191 non-null    float64\n",
      " 4   FLUX_64                   191 non-null    float64\n",
      " 5   FLNC_BAND_AMPL            191 non-null    float64\n",
      " 6   FLNC_BAND_EPEAK           191 non-null    float64\n",
      " 7   FLNC_BAND_ALPHA           191 non-null    float64\n",
      " 8   FLNC_BAND_BETA            191 non-null    float64\n",
      " 9   FLNC_SPECTRUM_START       191 non-null    float64\n",
      " 10  FLNC_SPECTRUM_STOP        191 non-null    float64\n",
      " 11  LII                       191 non-null    float64\n",
      " 12  BII                       191 non-null    float64\n",
      " 13  DURATION_ENERGY_LOW       191 non-null    float64\n",
      " 14  DURATION_ENERGY_HIGH      191 non-null    float64\n",
      " 15  BACK_INTERVAL_LOW_START   191 non-null    float64\n",
      " 16  BACK_INTERVAL_LOW_STOP    191 non-null    float64\n",
      " 17  BACK_INTERVAL_HIGH_START  191 non-null    float64\n",
      " 18  BACK_INTERVAL_HIGH_STOP   191 non-null    float64\n",
      " 19  T50                       191 non-null    float64\n",
      " 20  FLU_LOW                   191 non-null    float64\n",
      " 21  FLU_HIGH                  191 non-null    float64\n",
      " 22  FLUENCE_BATSE             191 non-null    float64\n",
      " 23  FLUX_64_TIME              191 non-null    float64\n",
      " 24  FLUX_256                  191 non-null    float64\n",
      " 25  FLUX_256_TIME             191 non-null    float64\n",
      " 26  FLUX_BATSE_1024           191 non-null    float64\n",
      " 27  FLUX_BATSE_1024_TIME      191 non-null    float64\n",
      " 28  FLUX_BATSE_64             191 non-null    float64\n",
      " 29  FLUX_BATSE_64_TIME        191 non-null    float64\n",
      " 30  FLUX_BATSE_256            191 non-null    float64\n",
      " 31  FLUX_BATSE_256_TIME       191 non-null    float64\n",
      " 32  ACTUAL_64MS_INTERVAL      191 non-null    float64\n",
      " 33  ACTUAL_256MS_INTERVAL     191 non-null    float64\n",
      " 34  ACTUAL_1024MS_INTERVAL    191 non-null    float64\n",
      " 35  PFLX_SPECTRUM_START       191 non-null    float64\n",
      " 36  PFLX_SPECTRUM_STOP        191 non-null    float64\n",
      " 37  PFLX_BAND_AMPL            191 non-null    float64\n",
      " 38  PFLX_BAND_EPEAK           191 non-null    float64\n",
      " 39  PFLX_BAND_ALPHA           191 non-null    float64\n",
      " 40  PFLX_BAND_BETA            191 non-null    float64\n",
      " 41  PFLX_BAND_PHTFLUX         191 non-null    float64\n",
      " 42  PFLX_BAND_PHTFLNC         191 non-null    float64\n",
      " 43  PFLX_BAND_ERGFLUX         191 non-null    float64\n",
      " 44  PFLX_BAND_ERGFLNC         191 non-null    float64\n",
      " 45  PFLX_BAND_PHTFLUXB        191 non-null    float64\n",
      " 46  PFLX_BAND_PHTFLNCB        191 non-null    float64\n",
      " 47  PFLX_BAND_ERGFLNCB        191 non-null    float64\n",
      " 48  PFLX_BAND_REDCHISQ        191 non-null    float64\n",
      " 49  PFLX_BAND_REDFITSTAT      191 non-null    float64\n",
      " 50  PFLX_BAND_DOF             191 non-null    float64\n",
      " 51  FLNC_BAND_PHTFLUX         191 non-null    float64\n",
      " 52  FLNC_BAND_PHTFLNC         191 non-null    float64\n",
      " 53  FLNC_BAND_ERGFLUX         191 non-null    float64\n",
      " 54  FLNC_BAND_ERGFLNC         191 non-null    float64\n",
      " 55  FLNC_BAND_PHTFLUXB        191 non-null    float64\n",
      " 56  FLNC_BAND_PHTFLNCB        191 non-null    float64\n",
      " 57  FLNC_BAND_ERGFLNCB        191 non-null    float64\n",
      " 58  FLNC_BAND_REDCHISQ        191 non-null    float64\n",
      " 59  FLNC_BAND_REDFITSTAT      191 non-null    float64\n",
      " 60  FLNC_BAND_DOF             191 non-null    float64\n",
      " 61  BCATALOG                  191 non-null    int16  \n",
      " 62  SCATALOG                  191 non-null    int16  \n",
      "dtypes: float64(61), int16(2)\n",
      "memory usage: 91.9 KB\n"
     ]
    }
   ],
   "source": [
    "fermi_rs_band.info()"
   ]
  },
  {
   "cell_type": "code",
   "execution_count": 27,
   "id": "cc865758-b10a-4897-bb7c-5238cdc1b00f",
   "metadata": {
    "jupyter": {
     "source_hidden": true
    },
    "tags": []
   },
   "outputs": [],
   "source": [
    "#now we schould remove unnecessary for ml columns \n",
    "\n",
    "fermi_rs = fermi_rs[['GRB_name_Fermi','RA','DEC',\n",
    "                     'T90',\n",
    "                     'FLUENCE',\n",
    "                     'FLUX_1024',\n",
    "                     'FLUX_1024_TIME',\n",
    "                     'FLUX_64',\n",
    "                     \n",
    "                     'FLNC_BAND_AMPL',\n",
    "                     'FLNC_BAND_EPEAK',\n",
    "                     'FLNC_BAND_ALPHA',\n",
    "                     'FLNC_BAND_BETA',\n",
    "                     'FLNC_SPECTRUM_START',\n",
    "                     'FLNC_SPECTRUM_STOP',\n",
    "                     \n",
    "                     'PFLX_BEST_FITTING_MODEL',\n",
    "                     'PFLX_BEST_MODEL_REDCHISQ',\n",
    "                     \n",
    "                     'FLNC_BEST_FITTING_MODEL',\n",
    "                     'FLNC_BEST_MODEL_REDCHISQ',\n",
    "                     \n",
    "                     'TRIGGER_NAME',\n",
    "                     'LII',\n",
    "                     'BII',\n",
    "                     'DURATION_ENERGY_LOW',\n",
    "                     'DURATION_ENERGY_HIGH',\n",
    "                     'BACK_INTERVAL_LOW_START',\n",
    "                     'BACK_INTERVAL_LOW_STOP',\n",
    "                     'BACK_INTERVAL_HIGH_START',\n",
    "                     'BACK_INTERVAL_HIGH_STOP',\n",
    "                     'T50',\n",
    "                     'FLU_LOW',\n",
    "                     'FLU_HIGH',\n",
    "                     \n",
    "                     'FLUENCE_BATSE',\n",
    "                    \n",
    "                     'FLUX_64_TIME',\n",
    "                     'FLUX_256',\n",
    "                     'FLUX_256_TIME',\n",
    "                     'FLUX_BATSE_1024',\n",
    "                     'FLUX_BATSE_1024_TIME',\n",
    "                     'FLUX_BATSE_64',\n",
    "                     'FLUX_BATSE_64_TIME',\n",
    "                     'FLUX_BATSE_256',\n",
    "                     'FLUX_BATSE_256_TIME',\n",
    "                     \n",
    "                     'ACTUAL_64MS_INTERVAL',\n",
    "                     'ACTUAL_256MS_INTERVAL',\n",
    "                     'ACTUAL_1024MS_INTERVAL',\n",
    "                     \n",
    "                     'SCAT_DETECTOR_MASK',\n",
    "                     'PFLX_SPECTRUM_START',\n",
    "                     'PFLX_SPECTRUM_STOP',\n",
    "                     'PFLX_PLAW_AMPL',\n",
    "                     'PFLX_PLAW_PIVOT',\n",
    "                     'PFLX_PLAW_INDEX',\n",
    "                     'PFLX_PLAW_PHTFLUX',\n",
    "                     'PFLX_PLAW_PHTFLNC',\n",
    "                     'PFLX_PLAW_ERGFLUX',\n",
    "                     'PFLX_PLAW_ERGFLNC',\n",
    "                     'PFLX_PLAW_PHTFLUXB',\n",
    "                     'PFLX_PLAW_PHTFLNCB',\n",
    "                     'PFLX_PLAW_ERGFLNCB',\n",
    "                     'PFLX_PLAW_REDCHISQ',\n",
    "                     'PFLX_PLAW_REDFITSTAT',\n",
    "                     'PFLX_PLAW_DOF',\n",
    "                     'PFLX_PLAW_STATISTIC',\n",
    "                     \n",
    "                     'PFLX_COMP_AMPL',\n",
    "                     'PFLX_COMP_EPEAK',\n",
    "                     'PFLX_COMP_INDEX',\n",
    "                     'PFLX_COMP_PIVOT',\n",
    "                     'PFLX_COMP_PHTFLUX',\n",
    "                     'PFLX_COMP_PHTFLNC',\n",
    "                     'PFLX_COMP_ERGFLUX',\n",
    "                     'PFLX_COMP_ERGFLNC',\n",
    "                     'PFLX_COMP_PHTFLUXB',\n",
    "                     'PFLX_COMP_PHTFLNCB',\n",
    "                     'PFLX_COMP_ERGFLNCB',\n",
    "                     'PFLX_COMP_REDCHISQ',\n",
    "                     'PFLX_COMP_REDFITSTAT',\n",
    "                     'PFLX_COMP_DOF',\n",
    "                     'PFLX_COMP_STATISTIC',\n",
    "                     \n",
    "                     'PFLX_BAND_AMPL',\n",
    "                     'PFLX_BAND_EPEAK',\n",
    "                     'PFLX_BAND_ALPHA',\n",
    "                     'PFLX_BAND_BETA',\n",
    "                     'PFLX_BAND_PHTFLUX',\n",
    "                     'PFLX_BAND_PHTFLNC',\n",
    "                     'PFLX_BAND_ERGFLUX',\n",
    "                     'PFLX_BAND_ERGFLNC',\n",
    "                     'PFLX_BAND_PHTFLUXB',\n",
    "                     'PFLX_BAND_PHTFLNCB',\n",
    "                     'PFLX_BAND_ERGFLNCB',\n",
    "                     'PFLX_BAND_REDCHISQ',\n",
    "                     'PFLX_BAND_REDFITSTAT',\n",
    "                     'PFLX_BAND_DOF',\n",
    "                     'PFLX_BAND_STATISTIC',\n",
    "                     \n",
    "                     'PFLX_SBPL_AMPL',\n",
    "                     'PFLX_SBPL_PIVOT',\n",
    "                     'PFLX_SBPL_INDX1',\n",
    "                     'PFLX_SBPL_BRKEN',\n",
    "                     'PFLX_SBPL_BRKSC',\n",
    "                     'PFLX_SBPL_INDX2',\n",
    "                     'PFLX_SBPL_PHTFLUX',\n",
    "                     'PFLX_SBPL_PHTFLNC',\n",
    "                     'PFLX_SBPL_ERGFLUX',\n",
    "                     'PFLX_SBPL_ERGFLNC',\n",
    "                     'PFLX_SBPL_PHTFLUXB',\n",
    "                     'PFLX_SBPL_PHTFLNCB',\n",
    "                     'PFLX_SBPL_ERGFLNCB',\n",
    "                     'PFLX_SBPL_REDCHISQ',\n",
    "                     'PFLX_SBPL_REDFITSTAT',\n",
    "                     'PFLX_SBPL_DOF',\n",
    "                     'PFLX_SBPL_STATISTIC',\n",
    "                     \n",
    "                     'FLNC_COMP_AMPL',\n",
    "                     'FLNC_COMP_EPEAK',\n",
    "                     'FLNC_COMP_INDEX',\n",
    "                     'FLNC_COMP_PIVOT',\n",
    "                     'FLNC_COMP_PHTFLUX',\n",
    "                     'FLNC_COMP_PHTFLNC',\n",
    "                     'FLNC_COMP_ERGFLUX',\n",
    "                     'FLNC_COMP_ERGFLNC',\n",
    "                     'FLNC_COMP_PHTFLUXB',\n",
    "                     'FLNC_COMP_PHTFLNCB',\n",
    "                     'FLNC_COMP_ERGFLNCB',\n",
    "                     'FLNC_COMP_REDCHISQ',\n",
    "                     'FLNC_COMP_REDFITSTAT',\n",
    "                     'FLNC_COMP_DOF',\n",
    "                     'FLNC_COMP_STATISTIC',\n",
    "                     \n",
    "                     'FLNC_BAND_PHTFLUX',\n",
    "                     'FLNC_BAND_PHTFLNC',\n",
    "                     'FLNC_BAND_ERGFLUX',\n",
    "                     'FLNC_BAND_ERGFLNC',\n",
    "                     'FLNC_BAND_PHTFLUXB',\n",
    "                     'FLNC_BAND_PHTFLNCB',\n",
    "                     'FLNC_BAND_ERGFLNCB',\n",
    "                     'FLNC_BAND_REDCHISQ',\n",
    "                     'FLNC_BAND_REDFITSTAT',\n",
    "                     'FLNC_BAND_DOF',\n",
    "                     'FLNC_BAND_STATISTIC',\n",
    "                     \n",
    "                     'FLNC_SBPL_AMPL',\n",
    "                     'FLNC_SBPL_AMPL_POS_ERR',\n",
    "                     'FLNC_SBPL_PIVOT',\n",
    "                     'FLNC_SBPL_INDX1',\n",
    "                     'FLNC_SBPL_BRKEN',\n",
    "                     'FLNC_SBPL_BRKSC',\n",
    "                     'FLNC_SBPL_INDX2',\n",
    "                     'FLNC_SBPL_PHTFLUX', \n",
    "                     'FLNC_SBPL_PHTFLNC',\n",
    "                     'FLNC_SBPL_ERGFLUX', \n",
    "                     'FLNC_SBPL_ERGFLNC', \n",
    "                     'FLNC_SBPL_PHTFLUXB',\n",
    "                     'FLNC_SBPL_PHTFLNCB',\n",
    "                     'FLNC_SBPL_ERGFLNCB',\n",
    "                     'FLNC_SBPL_REDCHISQ',\n",
    "                     'FLNC_SBPL_REDFITSTAT',\n",
    "                     'FLNC_SBPL_DOF',\n",
    "                     'FLNC_SBPL_STATISTIC',\n",
    "                     \n",
    "                     'BCATALOG',\n",
    "                     'SCATALOG']]"
   ]
  },
  {
   "cell_type": "markdown",
   "id": "c9ccfadd-cb04-4679-9dba-a3097e06a83a",
   "metadata": {},
   "source": [
    "# 2. Machine learning"
   ]
  },
  {
   "cell_type": "markdown",
   "id": "695ff2d6-52f6-411b-8858-5083865697da",
   "metadata": {
    "tags": []
   },
   "source": [
    "## 2.1. Linear Regression"
   ]
  },
  {
   "cell_type": "markdown",
   "id": "c06e2f3d-97ef-42be-8082-8977ee614d11",
   "metadata": {},
   "source": [
    "### 2.1.1. Linear Regression"
   ]
  },
  {
   "cell_type": "code",
   "execution_count": null,
   "id": "c85dbbb2-df12-4340-9173-4f7a72712903",
   "metadata": {},
   "outputs": [],
   "source": []
  },
  {
   "cell_type": "markdown",
   "id": "5116a71d-869b-4a46-9cc1-88d2515cda71",
   "metadata": {},
   "source": [
    "### 2.1.2. Lasso"
   ]
  },
  {
   "cell_type": "markdown",
   "id": "0dd863fb-16ae-4f62-91f8-afc4cc073967",
   "metadata": {},
   "source": [
    "### 2.1.3. Ridge"
   ]
  },
  {
   "cell_type": "markdown",
   "id": "83c0b723-a465-488c-9c36-37a6e5171177",
   "metadata": {},
   "source": [
    "### 2.1.4. Elastic Net"
   ]
  },
  {
   "cell_type": "markdown",
   "id": "eddccdac-4823-455e-9631-a4f93e9800aa",
   "metadata": {},
   "source": [
    "## 2.2. Support Vector Machine (SVM)"
   ]
  },
  {
   "cell_type": "markdown",
   "id": "21bbf10d-04e0-4293-a877-3cf72e6a5028",
   "metadata": {},
   "source": [
    "## 2.3. Decision Tree"
   ]
  },
  {
   "cell_type": "markdown",
   "id": "b993b791-f916-46c0-8d23-ca622029bcfe",
   "metadata": {},
   "source": [
    "## 2.4. Random Forest"
   ]
  },
  {
   "cell_type": "markdown",
   "id": "362c2b4b-41b9-4b09-9094-6b3411d554ab",
   "metadata": {},
   "source": [
    "## 2.5. Boosted Trees"
   ]
  }
 ],
 "metadata": {
  "kernelspec": {
   "display_name": "Python 3 (ipykernel)",
   "language": "python",
   "name": "python3"
  },
  "language_info": {
   "codemirror_mode": {
    "name": "ipython",
    "version": 3
   },
   "file_extension": ".py",
   "mimetype": "text/x-python",
   "name": "python",
   "nbconvert_exporter": "python",
   "pygments_lexer": "ipython3",
   "version": "3.8.15"
  }
 },
 "nbformat": 4,
 "nbformat_minor": 5
}
