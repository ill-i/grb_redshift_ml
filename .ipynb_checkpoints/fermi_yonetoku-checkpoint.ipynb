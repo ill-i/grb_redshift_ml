{
 "cells": [
  {
   "cell_type": "markdown",
   "id": "c2e1aaea-7055-4444-8da6-3a9740031918",
   "metadata": {},
   "source": [
    "# ***** Libraries ***** "
   ]
  },
  {
   "cell_type": "code",
   "execution_count": 11,
   "id": "ca826070-b478-4af7-9cf8-0edb5c1df2a7",
   "metadata": {},
   "outputs": [],
   "source": [
    "import pandas as pd\n",
    "from astropy.table import Table\n",
    "import matplotlib.pyplot as plt\n",
    "from astropy.io import fits\n",
    "import numpy as np"
   ]
  },
  {
   "cell_type": "markdown",
   "id": "d24d0086-bcdf-413a-ab51-cc6b22479136",
   "metadata": {},
   "source": [
    "# ***** References ***** "
   ]
  },
  {
   "cell_type": "markdown",
   "id": "3941811f-ca1f-4ff9-87c8-d8ff153c587c",
   "metadata": {},
   "source": [
    "* (Amati, 2002) -- Amati, L., “Intrinsic spectra and energetics of BeppoSAX Gamma-Ray Bursts with known redshifts”, Astronomy and Astrophysics, vol. 390, pp. 81–89, 2002. doi:10.1051/0004-6361:20020722.\n",
    "\n",
    "* (Bloom, 2001) -- Bloom, J. S., Frail, D. A., and Sari, R., “The Prompt Energy Release of Gamma-Ray Bursts using a Cosmological k-Correction”, The Astronomical Journal, vol. 121, no. 6, pp. 2879–2888, 2001. doi:10.1086/321093.\n",
    "\n",
    "* FERMIGBRST - Fermi GBM Burst Catalog https://heasarc.gsfc.nasa.gov/W3Browse/fermi/fermigbrst.html\n",
    "\n",
    "* (Yonetoku, 2004) -- Yonetoku, D., Murakami, T., Nakamura, T., Yamazaki, R., Inoue, A. K., and Ioka, K., “Gamma-Ray Burst Formation Rate Inferred from the Spectral Peak Energy-Peak Luminosity Relation”, The Astrophysical Journal, vol. 609, no. 2, pp. 935–951, 2004. doi:10.1086/421285.\n",
    "\n",
    "* (Zhang, 2018) -- Zhang, B. (2018). The Physics of Gamma-Ray Bursts. Cambridge: Cambridge University Press. doi:10.1017/9781139226530"
   ]
  },
  {
   "cell_type": "markdown",
   "id": "2c0067dd-6d96-45e8-b8e7-02513779af51",
   "metadata": {
    "tags": []
   },
   "source": [
    "# ***** Functions *****"
   ]
  },
  {
   "cell_type": "markdown",
   "id": "73dda239-f5ff-4457-985c-111634bf12b7",
   "metadata": {},
   "source": [
    "#### Constants:"
   ]
  },
  {
   "cell_type": "code",
   "execution_count": 8,
   "id": "7aba9ca2-4642-4de6-bdde-949cad575388",
   "metadata": {
    "tags": []
   },
   "outputs": [],
   "source": [
    "# Cosmology constants\n",
    "# from Planck 2015\n",
    "H0 = 67.8; # km/s/Mpc\n",
    "omegaM, omegaK, omegaL = 0.308, 0, 0.692\n",
    "c = 2.998e10\n",
    "pi=np.pi\n",
    "kevToErg = 1.602e-9\n",
    "mpcToCm = 3.086e24\n",
    "kmToCm = 1e5"
   ]
  },
  {
   "cell_type": "code",
   "execution_count": 84,
   "id": "a7a59049-20b0-46a5-bc62-6aeebff40e71",
   "metadata": {},
   "outputs": [],
   "source": [
    "def get_E_peak_rest_frame(E_peak_obs,redshift):\n",
    "    \"\"\"\n",
    "    Returns rest-frame peak energy\n",
    "    \n",
    "    E_peak_obs -- observed peak energy, from catalogue\n",
    "    redshift -- redshift of object\n",
    "    \n",
    "    (Zhang, 2018, p. 102)\n",
    "    \n",
    "    \"\"\"\n",
    "    \n",
    "    return (1 + redshift) * E_peak_obs\n",
    "\n",
    "def get_k_correction():\n",
    "    \"\"\"\n",
    "    (Bloom, 2001)\n",
    "    \"\"\"\n",
    "    pass\n",
    "\n",
    "def luminosity_distance(redshift):\n",
    "    \"\"\"\n",
    "    Returns luminosiity distance\n",
    "    Y.'s code\n",
    "    \"\"\"\n",
    "    dH = c*mpcToCm/kmToCm/H0\n",
    "    function = lambda x: (1/np.sqrt(omegaM*(1+x)**3+omegaK*(1+x)**2+omegaL))\n",
    "    lower, upper = 0, redshift\n",
    "    \n",
    "    return dH *(1+redshift) * quad(function,lower,upper)[0]\n",
    "\n",
    "def get_L_iso_bol_peak(dist_lum,peak_flux,k_c):\n",
    "    \"\"\"\n",
    "    Returns isotropic bolometric peak luminosity \n",
    "    \n",
    "    dist_lum -- \n",
    "    peak_flux --\n",
    "    k_c --\n",
    "    \"\"\"\n",
    "    return 4 * 3.141592653589793 * dist_lum**2 * peak_flux * k_c\n",
    "\n",
    "def luminosity_power_low(E_peak, redshift):\n",
    "    \n",
    "    \"\"\"\n",
    "    (Yonetoku, 2004) correlation between peak luminosity\n",
    "    and peak energy.\n",
    "    Based on (Amati, 2002) and (Yonetoku, 2004) data\n",
    "    \"\"\"\n",
    "    \n",
    "    luminosity = 2.34 * 1e-5 * (E_peak * (1 + redshift) / 1e3)**2 * 1e52\n",
    "    luminosity_upper = (2.34+2.29) * 1e-5 * (E_peak * (1 + redshift) / 1e3)**(2-0.2) * 1e52\n",
    "    luminosity_lower = (2.34-1.76) * 1e-5 * (E_peak * (1 + redshift) / 1e3)**(2+0.2) * 1e52\n",
    "    \n",
    "    return luminosity, luminosity_upper, luminosity_lower"
   ]
  },
  {
   "cell_type": "markdown",
   "id": "ece54ace-e737-4902-8c3e-c02794f14b9e",
   "metadata": {
    "tags": []
   },
   "source": [
    "# ***** Data *****"
   ]
  },
  {
   "cell_type": "markdown",
   "id": "5af75af2-9fa1-4173-8405-a62b9cf9b4cf",
   "metadata": {},
   "source": [
    "## - - - - - - - - - - - - - \n",
    "## (Yonetoku, 2004)"
   ]
  },
  {
   "cell_type": "markdown",
   "id": "8a2b91d2-5582-4dd8-9934-d6563bb93749",
   "metadata": {},
   "source": [
    "### --- Figure 1 and Table 1 ---"
   ]
  },
  {
   "cell_type": "code",
   "execution_count": 3,
   "id": "b6f352ef-9783-41a2-8c2f-ad091b10547e",
   "metadata": {},
   "outputs": [],
   "source": [
    "yonetoku_data_st = pd.read_csv(\"2004_yonetoku_grb_table_2.csv\")"
   ]
  },
  {
   "cell_type": "code",
   "execution_count": 4,
   "id": "13620bcf-d4c6-4e13-b4dc-1543557de81a",
   "metadata": {
    "tags": []
   },
   "outputs": [
    {
     "data": {
      "text/plain": [
       "Index(['grb', 'redshift', 'ra', 'dec', 'Ep(1+z), (keV)',\n",
       "       'peak flux, (10-6ergs cm-2s-1)', 'Peak Luminosity,  1052ergs s-1',\n",
       "       'hi2/dof', 'k_c'],\n",
       "      dtype='object')"
      ]
     },
     "execution_count": 4,
     "metadata": {},
     "output_type": "execute_result"
    }
   ],
   "source": [
    "yonetoku_data_st.columns"
   ]
  },
  {
   "cell_type": "code",
   "execution_count": 93,
   "id": "ea53c58d-7412-41a8-9b76-d0b4be29eb91",
   "metadata": {
    "tags": []
   },
   "outputs": [],
   "source": [
    "redshift = np.array([1,1,1,1,1,1,1,1,1,1,1])"
   ]
  },
  {
   "cell_type": "code",
   "execution_count": 94,
   "id": "e3ed50f7-b003-4dfe-93dc-322863f535c6",
   "metadata": {},
   "outputs": [
    {
     "data": {
      "text/plain": [
       "11"
      ]
     },
     "execution_count": 94,
     "metadata": {},
     "output_type": "execute_result"
    }
   ],
   "source": [
    "len(redshift)"
   ]
  },
  {
   "cell_type": "code",
   "execution_count": 9,
   "id": "ef6f0747-41ba-4a27-ba00-862380b1d2e3",
   "metadata": {},
   "outputs": [
    {
     "data": {
      "text/plain": [
       "1333.7"
      ]
     },
     "execution_count": 9,
     "metadata": {},
     "output_type": "execute_result"
    }
   ],
   "source": [
    "yonetoku_data_st[\"Ep(1+z), (keV)\"].max()"
   ]
  },
  {
   "cell_type": "code",
   "execution_count": 5,
   "id": "61761fc4-acea-4a83-8979-b2a62e72964c",
   "metadata": {},
   "outputs": [
    {
     "data": {
      "text/plain": [
       "Text(0, 0.5, '$Luminosity~[\\\\times 10^{52} erg/s]$')"
      ]
     },
     "execution_count": 5,
     "metadata": {},
     "output_type": "execute_result"
    },
    {
     "data": {
      "image/png": "[encoded data removed]",
      "text/plain": [
       "<Figure size 640x480 with 1 Axes>"
      ]
     },
     "metadata": {},
     "output_type": "display_data"
    }
   ],
   "source": [
    "plt.scatter(yonetoku_data_st[\"Ep(1+z), (keV)\"],yonetoku_data_st[\"Peak Luminosity,  1052ergs s-1\"])\n",
    "plt.xscale(\"log\")\n",
    "plt.yscale(\"log\")\n",
    "plt.xlabel(r\"$E_{peak} \\times (1 + z)~[keV]$\")\n",
    "plt.ylabel(r\"$Luminosity~[\\times 10^{52} erg/s]$\")"
   ]
  },
  {
   "cell_type": "code",
   "execution_count": 60,
   "id": "8d79f9c1-5b66-407a-bdc1-6d3330642579",
   "metadata": {},
   "outputs": [
    {
     "data": {
      "text/plain": [
       "Text(0, 0.5, '$Luminosity~[\\\\times 10^{52} erg/s]$')"
      ]
     },
     "execution_count": 60,
     "metadata": {},
     "output_type": "execute_result"
    },
    {
     "data": {
      "image/png": "[encoded data removed]",
      "text/plain": [
       "<Figure size 640x480 with 1 Axes>"
      ]
     },
     "metadata": {},
     "output_type": "display_data"
    }
   ],
   "source": [
    "xp = np.arange(yonetoku_data_st[\"Ep(1+z), (keV)\"].min(),yonetoku_data_st[\"Ep(1+z), (keV)\"].max())\n",
    "z = np.polyfit(yonetoku_data_st[\"Ep(1+z), (keV)\"],yonetoku_data_st[\"Peak Luminosity,  1052ergs s-1\"], 1)\n",
    "polynomial = np.poly1d(z)\n",
    "y_polynomial = polynomial(xp)\n",
    "#plt.plot(index, color=\"steelblue\", label=\"Медианное значение\") \n",
    "plt.plot(xp, y_polynomial, color=\"orange\", label=f\"Полином ({1})\")\n",
    "plt.scatter(yonetoku_data_st[\"Ep(1+z), (keV)\"],yonetoku_data_st[\"Peak Luminosity,  1052ergs s-1\"])\n",
    "plt.xscale(\"log\")\n",
    "plt.yscale(\"log\")\n",
    "plt.xlabel(r\"$E_{peak} \\times (1 + z)~[keV]$\")\n",
    "plt.ylabel(r\"$Luminosity~[\\times 10^{52} erg/s]$\")"
   ]
  },
  {
   "cell_type": "code",
   "execution_count": 95,
   "id": "617260e8-d51e-4fef-8d22-03b60c0978b3",
   "metadata": {},
   "outputs": [],
   "source": [
    "lum_model = luminosity_power_low(yonetoku_data_st[\"Ep(1+z), (keV)\"]*1e3,redshift)[0]"
   ]
  },
  {
   "cell_type": "code",
   "execution_count": 89,
   "id": "7d84762b-6f70-4070-afcf-e7a613aac569",
   "metadata": {},
   "outputs": [
    {
     "data": {
      "text/html": [
       "<div>\n",
       "<style scoped>\n",
       "    .dataframe tbody tr th:only-of-type {\n",
       "        vertical-align: middle;\n",
       "    }\n",
       "\n",
       "    .dataframe tbody tr th {\n",
       "        vertical-align: top;\n",
       "    }\n",
       "\n",
       "    .dataframe thead th {\n",
       "        text-align: right;\n",
       "    }\n",
       "</style>\n",
       "<table border=\"1\" class=\"dataframe\">\n",
       "  <thead>\n",
       "    <tr style=\"text-align: right;\">\n",
       "      <th></th>\n",
       "      <th>grb</th>\n",
       "      <th>redshift</th>\n",
       "      <th>ra</th>\n",
       "      <th>dec</th>\n",
       "      <th>Ep(1+z), (keV)</th>\n",
       "      <th>peak flux, (10-6ergs cm-2s-1)</th>\n",
       "      <th>Peak Luminosity,  1052ergs s-1</th>\n",
       "      <th>hi2/dof</th>\n",
       "      <th>k_c</th>\n",
       "    </tr>\n",
       "  </thead>\n",
       "  <tbody>\n",
       "    <tr>\n",
       "      <th>0</th>\n",
       "      <td>970508</td>\n",
       "      <td>0.8350</td>\n",
       "      <td>-1.03</td>\n",
       "      <td>-2.20</td>\n",
       "      <td>89.8</td>\n",
       "      <td>0.45</td>\n",
       "      <td>0.14</td>\n",
       "      <td>43.8/40</td>\n",
       "      <td>1.6</td>\n",
       "    </tr>\n",
       "    <tr>\n",
       "      <th>1</th>\n",
       "      <td>970828</td>\n",
       "      <td>0.9578</td>\n",
       "      <td>-0.45</td>\n",
       "      <td>-2.06</td>\n",
       "      <td>742.6</td>\n",
       "      <td>5.93</td>\n",
       "      <td>3.67</td>\n",
       "      <td>96.0/82</td>\n",
       "      <td>1.5</td>\n",
       "    </tr>\n",
       "    <tr>\n",
       "      <th>2</th>\n",
       "      <td>971214</td>\n",
       "      <td>3.4180</td>\n",
       "      <td>-0.36</td>\n",
       "      <td>-3.10</td>\n",
       "      <td>806.7</td>\n",
       "      <td>1.25</td>\n",
       "      <td>19.51</td>\n",
       "      <td>68.9/66</td>\n",
       "      <td>1.2</td>\n",
       "    </tr>\n",
       "    <tr>\n",
       "      <th>3</th>\n",
       "      <td>980326</td>\n",
       "      <td>1.0000</td>\n",
       "      <td>-0.93</td>\n",
       "      <td>-2.96</td>\n",
       "      <td>68.0</td>\n",
       "      <td>0.65</td>\n",
       "      <td>0.32</td>\n",
       "      <td>55.7/48</td>\n",
       "      <td>1.4</td>\n",
       "    </tr>\n",
       "    <tr>\n",
       "      <th>4</th>\n",
       "      <td>980329</td>\n",
       "      <td>2.9000</td>\n",
       "      <td>-0.79</td>\n",
       "      <td>-2.27</td>\n",
       "      <td>935.0</td>\n",
       "      <td>5.79</td>\n",
       "      <td>42.44</td>\n",
       "      <td>121.1/112</td>\n",
       "      <td>1.3</td>\n",
       "    </tr>\n",
       "    <tr>\n",
       "      <th>5</th>\n",
       "      <td>980703</td>\n",
       "      <td>0.9660</td>\n",
       "      <td>-0.80</td>\n",
       "      <td>-1.60</td>\n",
       "      <td>150.0</td>\n",
       "      <td>2.64</td>\n",
       "      <td>1.76</td>\n",
       "      <td>89.6/91</td>\n",
       "      <td>1.3</td>\n",
       "    </tr>\n",
       "    <tr>\n",
       "      <th>6</th>\n",
       "      <td>990123</td>\n",
       "      <td>1.6000</td>\n",
       "      <td>-0.18</td>\n",
       "      <td>-2.33</td>\n",
       "      <td>1333.7</td>\n",
       "      <td>19.60</td>\n",
       "      <td>31.22</td>\n",
       "      <td>134.1/112</td>\n",
       "      <td>1.2</td>\n",
       "    </tr>\n",
       "    <tr>\n",
       "      <th>7</th>\n",
       "      <td>990506</td>\n",
       "      <td>1.3000</td>\n",
       "      <td>-0.90</td>\n",
       "      <td>-2.08</td>\n",
       "      <td>737.6</td>\n",
       "      <td>9.36</td>\n",
       "      <td>13.28</td>\n",
       "      <td>108.3/103</td>\n",
       "      <td>1.3</td>\n",
       "    </tr>\n",
       "    <tr>\n",
       "      <th>8</th>\n",
       "      <td>990510</td>\n",
       "      <td>1.6190</td>\n",
       "      <td>-0.71</td>\n",
       "      <td>-3.79</td>\n",
       "      <td>538.4</td>\n",
       "      <td>2.98</td>\n",
       "      <td>6.19</td>\n",
       "      <td>89.9/111</td>\n",
       "      <td>1.4</td>\n",
       "    </tr>\n",
       "    <tr>\n",
       "      <th>9</th>\n",
       "      <td>991216</td>\n",
       "      <td>1.0200</td>\n",
       "      <td>-0.66</td>\n",
       "      <td>-2.44</td>\n",
       "      <td>1083.7</td>\n",
       "      <td>61.40</td>\n",
       "      <td>32.36</td>\n",
       "      <td>125.8/102</td>\n",
       "      <td>1.2</td>\n",
       "    </tr>\n",
       "    <tr>\n",
       "      <th>10</th>\n",
       "      <td>131</td>\n",
       "      <td>4.5000</td>\n",
       "      <td>-0.91</td>\n",
       "      <td>-2.02</td>\n",
       "      <td>926.0</td>\n",
       "      <td>2.60</td>\n",
       "      <td>51.35</td>\n",
       "      <td>115.1/97</td>\n",
       "      <td>1.4</td>\n",
       "    </tr>\n",
       "  </tbody>\n",
       "</table>\n",
       "</div>"
      ],
      "text/plain": [
       "       grb  redshift    ra   dec  Ep(1+z), (keV)  \\\n",
       "0   970508    0.8350 -1.03 -2.20            89.8   \n",
       "1   970828    0.9578 -0.45 -2.06           742.6   \n",
       "2   971214    3.4180 -0.36 -3.10           806.7   \n",
       "3   980326    1.0000 -0.93 -2.96            68.0   \n",
       "4   980329    2.9000 -0.79 -2.27           935.0   \n",
       "5   980703    0.9660 -0.80 -1.60           150.0   \n",
       "6   990123    1.6000 -0.18 -2.33          1333.7   \n",
       "7   990506    1.3000 -0.90 -2.08           737.6   \n",
       "8   990510    1.6190 -0.71 -3.79           538.4   \n",
       "9   991216    1.0200 -0.66 -2.44          1083.7   \n",
       "10     131    4.5000 -0.91 -2.02           926.0   \n",
       "\n",
       "    peak flux, (10-6ergs cm-2s-1)  Peak Luminosity,  1052ergs s-1    hi2/dof  \\\n",
       "0                            0.45                            0.14    43.8/40   \n",
       "1                            5.93                            3.67    96.0/82   \n",
       "2                            1.25                           19.51    68.9/66   \n",
       "3                            0.65                            0.32    55.7/48   \n",
       "4                            5.79                           42.44  121.1/112   \n",
       "5                            2.64                            1.76    89.6/91   \n",
       "6                           19.60                           31.22  134.1/112   \n",
       "7                            9.36                           13.28  108.3/103   \n",
       "8                            2.98                            6.19   89.9/111   \n",
       "9                           61.40                           32.36  125.8/102   \n",
       "10                           2.60                           51.35   115.1/97   \n",
       "\n",
       "    k_c  \n",
       "0   1.6  \n",
       "1   1.5  \n",
       "2   1.2  \n",
       "3   1.4  \n",
       "4   1.3  \n",
       "5   1.3  \n",
       "6   1.2  \n",
       "7   1.3  \n",
       "8   1.4  \n",
       "9   1.2  \n",
       "10  1.4  "
      ]
     },
     "execution_count": 89,
     "metadata": {},
     "output_type": "execute_result"
    }
   ],
   "source": [
    "yonetoku_data_st"
   ]
  },
  {
   "cell_type": "code",
   "execution_count": 81,
   "id": "2ea29bf9-c981-4a0e-adff-b16b30a727dc",
   "metadata": {},
   "outputs": [],
   "source": [
    "energy = np.log10(yonetoku_data_st[\"Ep(1+z), (keV)\"])\n",
    "luminosity = np.log10(yonetoku_data_st[\"Peak Luminosity,  1052ergs s-1\"])\n",
    "z = np.polyfit(energy,luminosity, 1)\n",
    "polynomial = np.poly1d(z)\n",
    "y_polynomial = polynomial(xp)"
   ]
  },
  {
   "cell_type": "code",
   "execution_count": 82,
   "id": "41aaed2a-d61f-4e58-bc16-be69db950cbe",
   "metadata": {},
   "outputs": [],
   "source": [
    "polynomial[1]=polynomial[1]**10"
   ]
  },
  {
   "cell_type": "code",
   "execution_count": 100,
   "id": "abf66c38-5e52-4d8d-8ff6-38dbc9994b29",
   "metadata": {},
   "outputs": [
    {
     "data": {
      "text/plain": [
       "Text(0, 0.5, '$Luminosity~[\\\\times 10^{52} erg/s]$')"
      ]
     },
     "execution_count": 100,
     "metadata": {},
     "output_type": "execute_result"
    },
    {
     "data": {
      "image/png": "[encoded data removed]",
      "text/plain": [
       "<Figure size 640x480 with 1 Axes>"
      ]
     },
     "metadata": {},
     "output_type": "display_data"
    }
   ],
   "source": [
    "plt.plot(yonetoku_data_st[\"Ep(1+z), (keV)\"], lum_model/1e52, color=\"orange\", label=f\"Полином ({1})\")\n",
    "plt.scatter(yonetoku_data_st[\"Ep(1+z), (keV)\"],yonetoku_data_st[\"Peak Luminosity,  1052ergs s-1\"])\n",
    "plt.xscale(\"log\")\n",
    "plt.yscale(\"log\")\n",
    "plt.xlabel(r\"$E_{peak} \\times (1 + z)~[keV]$\")\n",
    "plt.ylabel(r\"$Luminosity~[\\times 10^{52} erg/s]$\")"
   ]
  },
  {
   "cell_type": "code",
   "execution_count": 28,
   "id": "9ceb16c0-e025-4ac5-b9c9-e1f4ffab0bcd",
   "metadata": {},
   "outputs": [
    {
     "data": {
      "text/plain": [
       "Text(0, 0.5, '$Luminosity~[\\\\times 10^{52} erg/s]$')"
      ]
     },
     "execution_count": 28,
     "metadata": {},
     "output_type": "execute_result"
    },
    {
     "data": {
      "image/png": "[encoded data removed]",
      "text/plain": [
       "<Figure size 640x480 with 1 Axes>"
      ]
     },
     "metadata": {},
     "output_type": "display_data"
    }
   ],
   "source": [
    "xp = np.arange(yonetoku_data_st[\"Ep(1+z), (keV)\"].min(),yonetoku_data_st[\"Ep(1+z), (keV)\"].max())\n",
    "z = np.polyfit(yonetoku_data_st[\"Ep(1+z), (keV)\"],yonetoku_data_st[\"Peak Luminosity,  1052ergs s-1\"], 1)\n",
    "polynomial = np.poly1d(z)\n",
    "y_polynomial = polynomial(xp)\n",
    "#plt.plot(index, color=\"steelblue\", label=\"Медианное значение\") \n",
    "plt.plot(xp, y_polynomial, color=\"orange\", label=f\"Полином ({1})\")\n",
    "plt.scatter(yonetoku_data_st[\"Ep(1+z), (keV)\"],yonetoku_data_st[\"Peak Luminosity,  1052ergs s-1\"])\n",
    "plt.xscale(\"log\")\n",
    "plt.yscale(\"log\")\n",
    "plt.xlabel(r\"$E_{peak} \\times (1 + z)~[keV]$\")\n",
    "plt.ylabel(r\"$Luminosity~[\\times 10^{52} erg/s]$\")"
   ]
  },
  {
   "cell_type": "markdown",
   "id": "c6c121ff-35a7-4030-baa0-e1fdd2e66346",
   "metadata": {},
   "source": [
    "### --- Table 2 ---"
   ]
  },
  {
   "cell_type": "code",
   "execution_count": 81,
   "id": "7b4c491f-4c2d-48eb-af12-637836a3732a",
   "metadata": {},
   "outputs": [],
   "source": [
    "yonetoku_data = pd.read_csv(\"2004_yonetoku_grb_energy_luminosity.csv\")"
   ]
  },
  {
   "cell_type": "code",
   "execution_count": 82,
   "id": "044980b8-a6e7-4420-a037-0d30f0791df5",
   "metadata": {
    "tags": []
   },
   "outputs": [
    {
     "data": {
      "text/html": [
       "<div>\n",
       "<style scoped>\n",
       "    .dataframe tbody tr th:only-of-type {\n",
       "        vertical-align: middle;\n",
       "    }\n",
       "\n",
       "    .dataframe tbody tr th {\n",
       "        vertical-align: top;\n",
       "    }\n",
       "\n",
       "    .dataframe thead th {\n",
       "        text-align: right;\n",
       "    }\n",
       "</style>\n",
       "<table border=\"1\" class=\"dataframe\">\n",
       "  <thead>\n",
       "    <tr style=\"text-align: right;\">\n",
       "      <th></th>\n",
       "      <th>trigger_number</th>\n",
       "      <th>Ep</th>\n",
       "      <th>E_Ep</th>\n",
       "      <th>e_Ep</th>\n",
       "      <th>z</th>\n",
       "      <th>E_z</th>\n",
       "      <th>e_z</th>\n",
       "      <th>Lum</th>\n",
       "      <th>E_Lum</th>\n",
       "      <th>e_Lum</th>\n",
       "    </tr>\n",
       "  </thead>\n",
       "  <tbody>\n",
       "    <tr>\n",
       "      <th>0</th>\n",
       "      <td>105</td>\n",
       "      <td>141.4</td>\n",
       "      <td>7.5</td>\n",
       "      <td>7.8</td>\n",
       "      <td>1.26</td>\n",
       "      <td>0.10</td>\n",
       "      <td>0.11</td>\n",
       "      <td>2.39E+52</td>\n",
       "      <td>4.300000e+51</td>\n",
       "      <td>5.200000e+51</td>\n",
       "    </tr>\n",
       "    <tr>\n",
       "      <th>1</th>\n",
       "      <td>109</td>\n",
       "      <td>385.4</td>\n",
       "      <td>18.8</td>\n",
       "      <td>20.7</td>\n",
       "      <td>1.98</td>\n",
       "      <td>0.17</td>\n",
       "      <td>0.20</td>\n",
       "      <td>3.10E+53</td>\n",
       "      <td>6.000000e+52</td>\n",
       "      <td>8.200000e+52</td>\n",
       "    </tr>\n",
       "    <tr>\n",
       "      <th>2</th>\n",
       "      <td>111</td>\n",
       "      <td>97.2</td>\n",
       "      <td>20.6</td>\n",
       "      <td>21.7</td>\n",
       "      <td>11.23</td>\n",
       "      <td>6.51</td>\n",
       "      <td>33.87</td>\n",
       "      <td>3.32E+53</td>\n",
       "      <td>2.870000e+53</td>\n",
       "      <td>6.720000e+54</td>\n",
       "    </tr>\n",
       "    <tr>\n",
       "      <th>3</th>\n",
       "      <td>130</td>\n",
       "      <td>182.2</td>\n",
       "      <td>7.1</td>\n",
       "      <td>7.4</td>\n",
       "      <td>5.17</td>\n",
       "      <td>0.57</td>\n",
       "      <td>0.68</td>\n",
       "      <td>2.97E+53</td>\n",
       "      <td>7.100000e+52</td>\n",
       "      <td>9.900000e+52</td>\n",
       "    </tr>\n",
       "    <tr>\n",
       "      <th>4</th>\n",
       "      <td>133</td>\n",
       "      <td>73.9</td>\n",
       "      <td>28.3</td>\n",
       "      <td>25.4</td>\n",
       "      <td>4.53</td>\n",
       "      <td>2.89</td>\n",
       "      <td>9.47</td>\n",
       "      <td>3.92E+52</td>\n",
       "      <td>3.580000e+52</td>\n",
       "      <td>4.820000e+53</td>\n",
       "    </tr>\n",
       "    <tr>\n",
       "      <th>...</th>\n",
       "      <td>...</td>\n",
       "      <td>...</td>\n",
       "      <td>...</td>\n",
       "      <td>...</td>\n",
       "      <td>...</td>\n",
       "      <td>...</td>\n",
       "      <td>...</td>\n",
       "      <td>...</td>\n",
       "      <td>...</td>\n",
       "      <td>...</td>\n",
       "    </tr>\n",
       "    <tr>\n",
       "      <th>684</th>\n",
       "      <td>8099</td>\n",
       "      <td>79.5</td>\n",
       "      <td>11.3</td>\n",
       "      <td>12.1</td>\n",
       "      <td>0.74</td>\n",
       "      <td>0.13</td>\n",
       "      <td>0.15</td>\n",
       "      <td>4.49E+51</td>\n",
       "      <td>1.660000e+51</td>\n",
       "      <td>2.540000e+51</td>\n",
       "    </tr>\n",
       "    <tr>\n",
       "      <th>685</th>\n",
       "      <td>8105</td>\n",
       "      <td>17.1</td>\n",
       "      <td>5.4</td>\n",
       "      <td>5.5</td>\n",
       "      <td>0.41</td>\n",
       "      <td>0.14</td>\n",
       "      <td>0.15</td>\n",
       "      <td>1.36E+50</td>\n",
       "      <td>8.400000e+49</td>\n",
       "      <td>1.550000e+50</td>\n",
       "    </tr>\n",
       "    <tr>\n",
       "      <th>686</th>\n",
       "      <td>8111</td>\n",
       "      <td>354.5</td>\n",
       "      <td>88.3</td>\n",
       "      <td>46.6</td>\n",
       "      <td>7.98</td>\n",
       "      <td>4.60</td>\n",
       "      <td>6.05</td>\n",
       "      <td>2.38E+54</td>\n",
       "      <td>2.060000e+54</td>\n",
       "      <td>6.150000e+54</td>\n",
       "    </tr>\n",
       "    <tr>\n",
       "      <th>687</th>\n",
       "      <td>8116</td>\n",
       "      <td>241.2</td>\n",
       "      <td>18.2</td>\n",
       "      <td>30.7</td>\n",
       "      <td>11.78</td>\n",
       "      <td>3.44</td>\n",
       "      <td>12.32</td>\n",
       "      <td>2.23E+54</td>\n",
       "      <td>1.210000e+54</td>\n",
       "      <td>8.690000e+54</td>\n",
       "    </tr>\n",
       "    <tr>\n",
       "      <th>688</th>\n",
       "      <td>8121</td>\n",
       "      <td>103.8</td>\n",
       "      <td>20.9</td>\n",
       "      <td>24.7</td>\n",
       "      <td>8.43</td>\n",
       "      <td>4.34</td>\n",
       "      <td>19.23</td>\n",
       "      <td>2.25E+53</td>\n",
       "      <td>1.830000e+53</td>\n",
       "      <td>2.960000e+54</td>\n",
       "    </tr>\n",
       "  </tbody>\n",
       "</table>\n",
       "<p>689 rows × 10 columns</p>\n",
       "</div>"
      ],
      "text/plain": [
       "     trigger_number     Ep  E_Ep  e_Ep      z   E_z    e_z       Lum  \\\n",
       "0               105  141.4   7.5   7.8   1.26  0.10   0.11  2.39E+52   \n",
       "1               109  385.4  18.8  20.7   1.98  0.17   0.20  3.10E+53   \n",
       "2               111   97.2  20.6  21.7  11.23  6.51  33.87  3.32E+53   \n",
       "3               130  182.2   7.1   7.4   5.17  0.57   0.68  2.97E+53   \n",
       "4               133   73.9  28.3  25.4   4.53  2.89   9.47  3.92E+52   \n",
       "..              ...    ...   ...   ...    ...   ...    ...       ...   \n",
       "684            8099   79.5  11.3  12.1   0.74  0.13   0.15  4.49E+51   \n",
       "685            8105   17.1   5.4   5.5   0.41  0.14   0.15  1.36E+50   \n",
       "686            8111  354.5  88.3  46.6   7.98  4.60   6.05  2.38E+54   \n",
       "687            8116  241.2  18.2  30.7  11.78  3.44  12.32  2.23E+54   \n",
       "688            8121  103.8  20.9  24.7   8.43  4.34  19.23  2.25E+53   \n",
       "\n",
       "            E_Lum         e_Lum  \n",
       "0    4.300000e+51  5.200000e+51  \n",
       "1    6.000000e+52  8.200000e+52  \n",
       "2    2.870000e+53  6.720000e+54  \n",
       "3    7.100000e+52  9.900000e+52  \n",
       "4    3.580000e+52  4.820000e+53  \n",
       "..            ...           ...  \n",
       "684  1.660000e+51  2.540000e+51  \n",
       "685  8.400000e+49  1.550000e+50  \n",
       "686  2.060000e+54  6.150000e+54  \n",
       "687  1.210000e+54  8.690000e+54  \n",
       "688  1.830000e+53  2.960000e+54  \n",
       "\n",
       "[689 rows x 10 columns]"
      ]
     },
     "execution_count": 82,
     "metadata": {},
     "output_type": "execute_result"
    }
   ],
   "source": [
    "yonetoku_data"
   ]
  },
  {
   "cell_type": "code",
   "execution_count": 83,
   "id": "60ad301f-eaca-4420-981a-e4a46b6cf6d8",
   "metadata": {},
   "outputs": [],
   "source": [
    "E_peak_z = get_E_peak_rest_frame(yonetoku_data[\"Ep\"],yonetoku_data[\"z\"])"
   ]
  },
  {
   "cell_type": "code",
   "execution_count": 84,
   "id": "5e420aad-e033-441a-b1b0-2400d2438aa6",
   "metadata": {},
   "outputs": [
    {
     "name": "stderr",
     "output_type": "stream",
     "text": [
      "/var/folders/kv/prhthx396zd4k1d7f55bdztc0000gn/T/ipykernel_68849/382217422.py:2: SettingWithCopyWarning: \n",
      "A value is trying to be set on a copy of a slice from a DataFrame\n",
      "\n",
      "See the caveats in the documentation: https://pandas.pydata.org/pandas-docs/stable/user_guide/indexing.html#returning-a-view-versus-a-copy\n",
      "  yonetoku_data[\"Lum\"][ind]=float(l)\n"
     ]
    }
   ],
   "source": [
    "for ind,l in enumerate(yonetoku_data[\"Lum\"]):\n",
    "    yonetoku_data[\"Lum\"][ind]=float(l)"
   ]
  },
  {
   "cell_type": "code",
   "execution_count": 85,
   "id": "f7310b3c-2f5f-46b1-98f9-fc0bab9ab436",
   "metadata": {},
   "outputs": [
    {
     "data": {
      "text/plain": [
       "Text(0, 0.5, '$Luminosity~[\\\\times 10^{52}~erg/s]$')"
      ]
     },
     "execution_count": 85,
     "metadata": {},
     "output_type": "execute_result"
    },
    {
     "data": {
      "image/png": "[encoded data removed]",
      "text/plain": [
       "<Figure size 640x480 with 1 Axes>"
      ]
     },
     "metadata": {},
     "output_type": "display_data"
    }
   ],
   "source": [
    "plt.scatter(E_peak_z/1e3,yonetoku_data[\"Lum\"]/1e52)\n",
    "plt.xscale(\"log\")\n",
    "plt.yscale(\"log\")\n",
    "plt.xlabel(r\"$E_{peak} \\times (1 + z)~[keV]$\")\n",
    "plt.ylabel(r\"$Luminosity~[\\times 10^{52}~erg/s]$\")"
   ]
  },
  {
   "cell_type": "markdown",
   "id": "1a439109-cee4-4098-90b7-c0a6389172da",
   "metadata": {
    "tags": []
   },
   "source": [
    "## - - - - - - - - - - - - - \n",
    "\n",
    "## Fermi\n",
    "\n",
    "(FERMIGBRST)\n",
    "\n",
    "* \ttrigger_time <= 2022-12-31 23:59:59.999 UTC\n",
    "*  \tt90 (s) <= 2"
   ]
  },
  {
   "cell_type": "code",
   "execution_count": 86,
   "id": "c5dfea98-1f70-4d21-892c-793cccaccf2c",
   "metadata": {},
   "outputs": [
    {
     "name": "stderr",
     "output_type": "stream",
     "text": [
      "WARNING: UnitsWarning: 'mjd' did not parse as fits unit: At col 0, Unit 'mjd' not supported by the FITS standard. Did you mean MJ or mJ? If this is meant to be a custom unit, define it with 'u.def_unit'. To have it recognized inside a file reader or other code, enable it with 'u.add_enabled_units'. For details, see https://docs.astropy.org/en/latest/units/combining_and_defining.html [astropy.units.core]\n",
      "WARNING: UnitsWarning: 'photon/cm^2/s' contains multiple slashes, which is discouraged by the FITS standard [astropy.units.format.generic]\n",
      "WARNING: UnitsWarning: 'photon/cm^2/s/keV' contains multiple slashes, which is discouraged by the FITS standard [astropy.units.format.generic]\n",
      "WARNING: UnitsWarning: 'erg/cm^2/s' contains multiple slashes, which is discouraged by the FITS standard [astropy.units.format.generic]\n"
     ]
    }
   ],
   "source": [
    "table = Table.read(\"fermi_results_short_2022.fits\")\n",
    "fermi_data_full = table.to_pandas()"
   ]
  },
  {
   "cell_type": "code",
   "execution_count": 102,
   "id": "4ca4d0de-0a5f-4645-bdd4-d4053008a0d3",
   "metadata": {},
   "outputs": [
    {
     "data": {
      "text/plain": [
       "Index(['NAME', 'RA', 'DEC', 'TRIGGER_TIME', 'T90', 'T90_ERROR', 'T90_START',\n",
       "       'FLUENCE', 'FLUENCE_ERROR', 'FLUX_1024', 'FLUX_1024_ERROR',\n",
       "       'FLUX_1024_TIME', 'FLUX_64', 'FLUX_64_ERROR', 'FLNC_BAND_AMPL',\n",
       "       'FLNC_BAND_AMPL_POS_ERR', 'FLNC_BAND_AMPL_NEG_ERR', 'FLNC_BAND_EPEAK',\n",
       "       'FLNC_BAND_EPEAK_POS_ERR', 'FLNC_BAND_EPEAK_NEG_ERR', 'FLNC_BAND_ALPHA',\n",
       "       'FLNC_BAND_ALPHA_POS_ERR', 'FLNC_BAND_ALPHA_NEG_ERR', 'FLNC_BAND_BETA',\n",
       "       'FLNC_BAND_BETA_POS_ERR', 'FLNC_BAND_BETA_NEG_ERR',\n",
       "       'FLNC_SPECTRUM_START', 'FLNC_SPECTRUM_STOP', 'PFLX_BEST_FITTING_MODEL',\n",
       "       'PFLX_BEST_MODEL_REDCHISQ'],\n",
       "      dtype='object')"
      ]
     },
     "execution_count": 102,
     "metadata": {},
     "output_type": "execute_result"
    }
   ],
   "source": [
    "fermi_data_full.columns[:30]"
   ]
  },
  {
   "cell_type": "code",
   "execution_count": 135,
   "id": "be86bc84-343c-4044-a4ff-d9b5aac81c47",
   "metadata": {},
   "outputs": [
    {
     "data": {
      "text/plain": [
       "True"
      ]
     },
     "execution_count": 135,
     "metadata": {},
     "output_type": "execute_result"
    }
   ],
   "source": [
    "fermi_data_full[\"FLNC_SBPL_STATISTIC\"][557] == fermi_data_full[\"FLNC_SBPL_STATISTIC\"][556]"
   ]
  },
  {
   "cell_type": "code",
   "execution_count": null,
   "id": "1b502636-b320-49d5-8dfe-f8579774502c",
   "metadata": {},
   "outputs": [],
   "source": [
    "fermi_data = fermi_data_full[['NAME', 'RA', 'DEC', 'T90',]]"
   ]
  }
 ],
 "metadata": {
  "kernelspec": {
   "display_name": "Python 3 (ipykernel)",
   "language": "python",
   "name": "python3"
  },
  "language_info": {
   "codemirror_mode": {
    "name": "ipython",
    "version": 3
   },
   "file_extension": ".py",
   "mimetype": "text/x-python",
   "name": "python",
   "nbconvert_exporter": "python",
   "pygments_lexer": "ipython3",
   "version": "3.8.15"
  }
 },
 "nbformat": 4,
 "nbformat_minor": 5
}
