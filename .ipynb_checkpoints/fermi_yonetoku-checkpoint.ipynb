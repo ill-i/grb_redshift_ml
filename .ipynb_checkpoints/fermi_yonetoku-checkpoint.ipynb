{
 "cells": [
  {
   "cell_type": "markdown",
   "id": "c2e1aaea-7055-4444-8da6-3a9740031918",
   "metadata": {},
   "source": [
    "# ***** Libraries ***** "
   ]
  },
  {
   "cell_type": "code",
   "execution_count": null,
   "id": "ca826070-b478-4af7-9cf8-0edb5c1df2a7",
   "metadata": {},
   "outputs": [],
   "source": [
    "import pandas as pd\n",
    "\n",
    "from astropy.table import Table\n",
    "from astropy.io import fits\n",
    "\n",
    "import matplotlib.pyplot as plt \n",
    "import numpy as np\n",
    "from scipy.integrate import quad\n",
    "\n",
    "\n",
    "import time\n"
   ]
  },
  {
   "cell_type": "markdown",
   "id": "d24d0086-bcdf-413a-ab51-cc6b22479136",
   "metadata": {},
   "source": [
    "# ***** References ***** "
   ]
  },
  {
   "cell_type": "markdown",
   "id": "3941811f-ca1f-4ff9-87c8-d8ff153c587c",
   "metadata": {},
   "source": [
    "* (Amati, 2002) -- Amati, L., “Intrinsic spectra and energetics of BeppoSAX Gamma-Ray Bursts with known redshifts”, Astronomy and Astrophysics, vol. 390, pp. 81–89, 2002. doi:10.1051/0004-6361:20020722.\n",
    "\n",
    "* (Bloom, 2001) -- Bloom, J. S., Frail, D. A., and Sari, R., “The Prompt Energy Release of Gamma-Ray Bursts using a Cosmological k-Correction”, The Astronomical Journal, vol. 121, no. 6, pp. 2879–2888, 2001. doi:10.1086/321093.\n",
    "\n",
    "* FERMIGBRST - Fermi GBM Burst Catalog https://heasarc.gsfc.nasa.gov/W3Browse/fermi/fermigbrst.html\n",
    "\n",
    "* (Yonetoku, 2004) -- Yonetoku, D., Murakami, T., Nakamura, T., Yamazaki, R., Inoue, A. K., and Ioka, K., “Gamma-Ray Burst Formation Rate Inferred from the Spectral Peak Energy-Peak Luminosity Relation”, The Astrophysical Journal, vol. 609, no. 2, pp. 935–951, 2004. doi:10.1086/421285.\n",
    "\n",
    "* (Zhang, 2018) -- Zhang, B. (2018). The Physics of Gamma-Ray Bursts. Cambridge: Cambridge University Press. doi:10.1017/9781139226530"
   ]
  },
  {
   "cell_type": "markdown",
   "id": "2c0067dd-6d96-45e8-b8e7-02513779af51",
   "metadata": {
    "tags": []
   },
   "source": [
    "# ***** Functions *****"
   ]
  },
  {
   "cell_type": "markdown",
   "id": "73dda239-f5ff-4457-985c-111634bf12b7",
   "metadata": {},
   "source": [
    "#### Constants:"
   ]
  },
  {
   "cell_type": "code",
   "execution_count": null,
   "id": "7aba9ca2-4642-4de6-bdde-949cad575388",
   "metadata": {
    "tags": []
   },
   "outputs": [],
   "source": [
    "# Cosmology constants\n",
    "# from Planck 2015\n",
    "H0 = 67.8; # km/s/Mpc\n",
    "omegaM, omegaK, omegaL = 0.308, 0, 0.692\n",
    "c = 2.998e10\n",
    "pi=np.pi\n",
    "kevToErg = 1.602e-9\n",
    "mpcToCm = 3.086e24\n",
    "kmToCm = 1e5"
   ]
  },
  {
   "cell_type": "code",
   "execution_count": null,
   "id": "e8b7f19c-1708-436f-90d3-b0db1d754fc2",
   "metadata": {},
   "outputs": [],
   "source": [
    "lower_limit_bol = 1 #keV\n",
    "upper_limit_bol = 1e4 #keV\n",
    "\n",
    "lower_limit_inst = 8 #keV BATSE standart https://heasarc.gsfc.nasa.gov/W3Browse/fermi/fermigbrst.html\n",
    "upper_limit_inst = 1e3 #keV BATSE standart https://heasarc.gsfc.nasa.gov/W3Browse/fermi/fermigbrst.html\n",
    "\n",
    "redshift = np.arange(0.001,10.,0.01) #ideally step shoud be 0.0001"
   ]
  },
  {
   "cell_type": "code",
   "execution_count": null,
   "id": "a7a59049-20b0-46a5-bc62-6aeebff40e71",
   "metadata": {},
   "outputs": [],
   "source": [
    "#class models:\n",
    "def get_k_corr_band(alpha, beta, ePeak, ePiv, normalization, duration, redshift, lower_bol, upper_bol, lower_inst, upper_inst):\n",
    "    \"\"\"\n",
    "    Returns k-correction using BAND model.  \n",
    "    \n",
    "    Formulae from (Zhang, 2018), p.97\n",
    "    Model eqution from (Yonetoku, 2004)\n",
    "    \n",
    "    alpha, beta            -- The power law index of a function fit to a single spectrum over the duration of the burst, \n",
    "    ePeak                  -- observed peak energy of some model fit to a single spectrum\n",
    "                              over the duration of the burst, in Fermi GBM catalogue [keV], \n",
    "    ePiv                   -- The pivot energy of a Comptonized model fit to a single spectrum over the \n",
    "                              duration of the burst, [keV]. This parameter is typically fixed, \n",
    "    normalization          -- amplitude of a function fit to a single spectrum over the \n",
    "                              duration of the burst, [photon/cm2/s/keV], \n",
    "    duration               -- =(spectrum_start-spectrum_stop), \n",
    "    redshift               -- redshift of object, \n",
    "    lower_bol, upper_bol   -- limits of ebergy band, bolometric, =(1-1e4 keV)\n",
    "    lower_inst, upper_inst -- energy band of instrument [keV]\n",
    "    \n",
    "    \n",
    "    \"\"\"\n",
    "    \n",
    "    Flux_bol = _bandFlux(alpha, beta, ePeak, ePiv, normalization, duration, redshift, lower_bol, upper_bol)\n",
    "    Flux_inst = _bandFlux(alpha, beta, ePeak, ePiv, normalization, duration, redshift, lower_inst, upper_inst)\n",
    "    \n",
    "    return Flux_bol/Flux_inst\n",
    "\n",
    "\n",
    "def get_E_peak_rest_frame(E_peak_obs,redshift):\n",
    "    \"\"\"\n",
    "    Returns peak energy in rest frame (very near (\"on\") object) \n",
    "    in the same units as E_peak_obs\n",
    "    (Zhang, 2018, p. 102)\n",
    "    \n",
    "    epeak    -- observed peak energy of some model fit \n",
    "                to a single spectrum over the duration of the burst, in Fermi GBM catalogue\n",
    "                is given in keV\n",
    "    redshift -- redshift of object\n",
    "    \"\"\"\n",
    "    \n",
    "    return float(E_peak_obs)*(1+float(redshift))\n",
    "        \n",
    "def luminosity_distance(redshift):\n",
    "    \"\"\"\n",
    "    Returns luminosity distance\n",
    "    !!! Y.'s code\n",
    "    \"\"\"\n",
    "    dH = c*mpcToCm/kmToCm/H0 #constants\n",
    "    function = lambda x: (1/np.sqrt(omegaM*(1+x)**3+omegaK*(1+x)**2+omegaL))\n",
    "    lower, upper = 0, redshift\n",
    "    return dH * (1 + redshift) * quad(function,lower,upper)[0]\n",
    "\n",
    "def luminosity_area(redshift):\n",
    "    \"\"\"\n",
    "    Returns luminosity area\n",
    "    !!! Y.'s code\n",
    "    \"\"\"    \n",
    "    luminosityDistance = models.luminosity_distance(redshift)\n",
    "    luminosityArea = 4 * pi * luminosityDistance**2\n",
    "    return luminosityArea\n",
    "\n",
    "def get_L_iso_bol_peak(alpha, beta, ePeak, ePiv, normalization, duration, redshift, lower_bol, upper_bol, lower_inst, upper_inst):\n",
    "    \"\"\"\n",
    "    Returns isotropic bolometric peak luminosity \n",
    "    dist_lum -- \n",
    "    peak_flux --\n",
    "    k_c --\n",
    "    \"\"\"\n",
    "    lum_dist = luminosity_distance(redshift)\n",
    "    peak_flux = _bandFlux(alpha, beta, ePeak, ePiv, normalization, duration, redshift, lower_inst, upper_inst) #??????? inst or not\n",
    "    k_corr = get_k_corr_band(alpha, beta, ePeak, ePiv, normalization, duration, redshift, lower_bol, upper_bol, lower_inst, upper_inst)\n",
    "    \n",
    "    return 4 * 3.141592653589793 * lum_dist**2 * peak_flux * k_corr\n",
    "\n",
    "def luminosity_power_low_ez_yonetoku_2004(E_peak_z, redshift):\n",
    "    \"\"\"\n",
    "    (Yonetoku, 2004) correlation between peak luminosity\n",
    "    and peak energy.\n",
    "    Based on (Amati, 2002) and (Yonetoku, 2004) data\n",
    "    \"\"\"\n",
    "    luminosity = 2.34 * 1e-5 * (E_peak_z / 1e3)**2 * 1e52\n",
    "    luminosity_upper = (2.34+2.29) * 1e-5 * (E_peak_z/ 1e3)**(2-0.2) * 1e52\n",
    "    luminosity_lower = (2.34-1.76) * 1e-5 * (E_peak_z/ 1e3)**(2+0.2) * 1e52\n",
    "    \n",
    "    return luminosity, luminosity_upper, luminosity_lower\n",
    "\n",
    "def luminosity_power_low_eobs_yonetoku_2004(E_peak_obs, redshift):\n",
    "    \"\"\"\n",
    "    (Yonetoku, 2004) correlation between peak luminosity\n",
    "    and peak energy.\n",
    "    Based on (Amati, 2002) and (Yonetoku, 2004) data\n",
    "    \"\"\"\n",
    "    luminosity = 2.34 * 1e-5 * (E_peak_obs * (1 + redshift) / 1e3)**2 * 1e52\n",
    "    luminosity_upper = (2.34+2.29) * 1e-5 * (E_peak_obs * (1 + redshift) / 1e3)**(2-0.2) * 1e52\n",
    "    luminosity_lower = (2.34-1.76) * 1e-5 * (E_peak_obs * (1 + redshift) / 1e3)**(2+0.2) * 1e52\n",
    "    \n",
    "    return luminosity, luminosity_upper, luminosity_lower\n",
    "\n",
    "def _bandFlux(alpha, beta, ePeak, ePiv, normalization, duration, redshift, lower, upper):\n",
    "    \"\"\"\n",
    "    model parameters are from the fitting result in observer's frame.\n",
    "    integration from lower/(1+z) to upper/(1+z) in the observer's frame,\n",
    "    which are the corrsponding energy from lower to upper in the rest frame. \n",
    "    set redshift = 0 in order to compute the flux in observer's frame.\n",
    "    \"\"\"\n",
    "    \n",
    "# if no data or bad data, return 0.\n",
    "    if normalization <= 0: return 0\n",
    "    if (ePeak <= 0 ): return 0 \n",
    "    if (upper == \"\"): return 0 \n",
    "\n",
    "    middle = (alpha-beta)*ePeak/(2+alpha) #neccessary to find summ of two equations\n",
    "    \n",
    "    # if alpha < beta, middle will be negtive. \n",
    "    if (middle < lower): middle = lower\n",
    "    if (upper < middle): middle = upper \n",
    "\n",
    "    lower, middle, upper = lower/(1+redshift), middle/(1+redshift), upper/(1+redshift)\n",
    "\n",
    "    functionLow = lambda x: normalization*x*(x/ePiv)**alpha*np.exp(-x*(2+alpha)/ePeak)\n",
    "    functionHigh = lambda x: normalization*x*((alpha-beta)*ePeak/(2+alpha)/ePiv)**(alpha-beta)*np.exp(beta-alpha)*(x/ePiv)**beta\n",
    "    \n",
    "    resultLow = quad( functionLow, lower, middle )[0]\n",
    "    resultHigh = quad( functionHigh, middle, upper)[0]\n",
    "\n",
    "    flux = resultLow + resultHigh\n",
    "    return flux"
   ]
  },
  {
   "cell_type": "markdown",
   "id": "ece54ace-e737-4902-8c3e-c02794f14b9e",
   "metadata": {
    "tags": []
   },
   "source": [
    "# ***** Data *****"
   ]
  },
  {
   "cell_type": "markdown",
   "id": "5af75af2-9fa1-4173-8405-a62b9cf9b4cf",
   "metadata": {},
   "source": [
    "## - - - - - - - - - - - - - \n",
    "## (Yonetoku, 2004)"
   ]
  },
  {
   "cell_type": "markdown",
   "id": "8a2b91d2-5582-4dd8-9934-d6563bb93749",
   "metadata": {
    "tags": []
   },
   "source": [
    "### --- Figure 1 and Table 1 ---"
   ]
  },
  {
   "cell_type": "code",
   "execution_count": null,
   "id": "b6f352ef-9783-41a2-8c2f-ad091b10547e",
   "metadata": {},
   "outputs": [],
   "source": [
    "yonetoku_data_st = pd.read_csv(\"2004_yonetoku_grb_table_2.csv\")"
   ]
  },
  {
   "cell_type": "code",
   "execution_count": null,
   "id": "13620bcf-d4c6-4e13-b4dc-1543557de81a",
   "metadata": {
    "tags": []
   },
   "outputs": [],
   "source": [
    "yonetoku_data_st.columns"
   ]
  },
  {
   "cell_type": "code",
   "execution_count": null,
   "id": "ea53c58d-7412-41a8-9b76-d0b4be29eb91",
   "metadata": {
    "tags": []
   },
   "outputs": [],
   "source": [
    "redshift = np.array([1,1,1,1,1,1,1,1,1,1,1])"
   ]
  },
  {
   "cell_type": "code",
   "execution_count": null,
   "id": "61761fc4-acea-4a83-8979-b2a62e72964c",
   "metadata": {},
   "outputs": [],
   "source": [
    "plt.scatter(yonetoku_data_st[\"Ep(1+z), (keV)\"],yonetoku_data_st[\"Peak Luminosity,  1052ergs s-1\"])\n",
    "plt.xscale(\"log\")\n",
    "plt.yscale(\"log\")\n",
    "plt.xlabel(r\"$E_{peak} \\times (1 + z)~[keV]$\")\n",
    "plt.ylabel(r\"$Luminosity~[\\times 10^{52} erg/s]$\")"
   ]
  },
  {
   "cell_type": "code",
   "execution_count": null,
   "id": "617260e8-d51e-4fef-8d22-03b60c0978b3",
   "metadata": {},
   "outputs": [],
   "source": [
    "lum_model,lum_model_up,lum_model_low = luminosity_power_low_ez_yonetoku_2004(yonetoku_data_st[\"Ep(1+z), (keV)\"]*1e3,redshift)"
   ]
  },
  {
   "cell_type": "code",
   "execution_count": null,
   "id": "2ea29bf9-c981-4a0e-adff-b16b30a727dc",
   "metadata": {},
   "outputs": [],
   "source": [
    "energy = np.log10(yonetoku_data_st[\"Ep(1+z), (keV)\"])\n",
    "luminosity = np.log10(yonetoku_data_st[\"Peak Luminosity,  1052ergs s-1\"])\n",
    "xp = np.arange(luminosity.min(),luminosity.max())\n",
    "z = np.polyfit(energy,luminosity, 1)\n",
    "polynomial = np.poly1d(z)\n",
    "y_polynomial = polynomial(xp)"
   ]
  },
  {
   "cell_type": "code",
   "execution_count": null,
   "id": "abf66c38-5e52-4d8d-8ff6-38dbc9994b29",
   "metadata": {},
   "outputs": [],
   "source": [
    "plt.plot(lum_model/1e52, yonetoku_data_st[\"Ep(1+z), (keV)\"], color=\"orange\", label=f\"Полином ({1}), mid\")\n",
    "plt.plot(lum_model_up/1e52, yonetoku_data_st[\"Ep(1+z), (keV)\"], color=\"green\", label=f\"Полином ({1}), up\")\n",
    "plt.plot(lum_model_low/1e52, yonetoku_data_st[\"Ep(1+z), (keV)\"], color=\"red\", label=f\"Полином ({1}), low\")\n",
    "plt.scatter(yonetoku_data_st[\"Peak Luminosity,  1052ergs s-1\"],yonetoku_data_st[\"Ep(1+z), (keV)\"])\n",
    "plt.xscale(\"log\")\n",
    "plt.yscale(\"log\")\n",
    "\n",
    "plt.ylabel(r\"$E_{peak} \\times (1 + z)~[keV]$\")\n",
    "plt.xlabel(r\"$Luminosity~[\\times 10^{52} erg/s]$\")"
   ]
  },
  {
   "cell_type": "markdown",
   "id": "c6c121ff-35a7-4030-baa0-e1fdd2e66346",
   "metadata": {
    "jp-MarkdownHeadingCollapsed": true,
    "tags": []
   },
   "source": [
    "### --- Table 2 ---"
   ]
  },
  {
   "cell_type": "code",
   "execution_count": null,
   "id": "7b4c491f-4c2d-48eb-af12-637836a3732a",
   "metadata": {},
   "outputs": [],
   "source": [
    "yonetoku_data = pd.read_csv(\"2004_yonetoku_grb_energy_luminosity.csv\")"
   ]
  },
  {
   "cell_type": "code",
   "execution_count": null,
   "id": "044980b8-a6e7-4420-a037-0d30f0791df5",
   "metadata": {
    "tags": []
   },
   "outputs": [],
   "source": [
    "yonetoku_data"
   ]
  },
  {
   "cell_type": "code",
   "execution_count": null,
   "id": "60ad301f-eaca-4420-981a-e4a46b6cf6d8",
   "metadata": {},
   "outputs": [],
   "source": [
    "E_peak_z = get_E_peak_rest_frame(yonetoku_data[\"Ep\"],yonetoku_data[\"z\"])"
   ]
  },
  {
   "cell_type": "code",
   "execution_count": null,
   "id": "5e420aad-e033-441a-b1b0-2400d2438aa6",
   "metadata": {},
   "outputs": [],
   "source": [
    "for ind,l in enumerate(yonetoku_data[\"Lum\"]):\n",
    "    yonetoku_data[\"Lum\"][ind]=float(l)"
   ]
  },
  {
   "cell_type": "code",
   "execution_count": null,
   "id": "f7310b3c-2f5f-46b1-98f9-fc0bab9ab436",
   "metadata": {},
   "outputs": [],
   "source": [
    "plt.scatter(E_peak_z/1e3,yonetoku_data[\"Lum\"]/1e52)\n",
    "plt.xscale(\"log\")\n",
    "plt.yscale(\"log\")\n",
    "plt.xlabel(r\"$E_{peak} \\times (1 + z)~[keV]$\")\n",
    "plt.ylabel(r\"$Luminosity~[\\times 10^{52}~erg/s]$\")"
   ]
  },
  {
   "cell_type": "markdown",
   "id": "1a439109-cee4-4098-90b7-c0a6389172da",
   "metadata": {
    "tags": []
   },
   "source": [
    "## - - - - - - - - - - - - - \n",
    "\n",
    "## Fermi\n",
    "\n",
    "(FERMIGBRST)\n",
    "\n",
    "* \ttrigger_time <= 2022-12-31 23:59:59.999 UTC\n",
    "*  \tt90 (s) <= 2\n",
    "\n",
    "As result of sampling we have 561 object"
   ]
  },
  {
   "cell_type": "markdown",
   "id": "d6f0305e-c3a7-4cfa-9677-6940d2d0ed7a",
   "metadata": {},
   "source": [
    "NOTES\n",
    "\n",
    "* do smthg with decoding because it awful to have \n",
    "    \n",
    "        b'somestring' \n",
    "    \n",
    "    in table values"
   ]
  },
  {
   "cell_type": "code",
   "execution_count": null,
   "id": "c5dfea98-1f70-4d21-892c-793cccaccf2c",
   "metadata": {},
   "outputs": [],
   "source": [
    "table = Table.read(\"fermi_results_short_2022.fits\")\n",
    "fermi_data = table.to_pandas()"
   ]
  },
  {
   "cell_type": "code",
   "execution_count": null,
   "id": "03a47791-0fed-41a2-b99a-be405e5db14e",
   "metadata": {},
   "outputs": [],
   "source": [
    "fermi_data[\"E_peak\"] = np.nan * len(fermi_data)          # E_peak\n",
    "fermi_data[\"E_piv\"] = np.nan * len(fermi_data)           # E_piv\n",
    "fermi_data[\"Alpha\"] = np.nan * len(fermi_data)           # alpha\n",
    "fermi_data[\"Norm_amplitude\"] = np.nan * len(fermi_data)  # normalization, A, amplitude\n",
    "fermi_data[\"Duration\"] = np.nan * len(fermi_data)        # delta T"
   ]
  },
  {
   "cell_type": "markdown",
   "id": "c7cdcc87-7025-4331-a7ed-09eb5a314685",
   "metadata": {},
   "source": [
    "### $E_{peak}$\n",
    "\n",
    "\n",
    "Create a column with E_peak for COMP and BAND models,but only with values, because we don't need know which model it is. \n",
    "\n",
    "Then we drop rows with \"unknown\" peaks - actually these rows are ones of other best fitting models. "
   ]
  },
  {
   "cell_type": "code",
   "execution_count": null,
   "id": "45eba623-bcc9-44a6-80ab-184ebe75621e",
   "metadata": {
    "tags": []
   },
   "outputs": [],
   "source": [
    "for ind,model in enumerate(fermi_data['PFLX_BEST_FITTING_MODEL']):\n",
    "    if model.lower().strip().decode(encoding='utf8') == \"PFLX_comp\":\n",
    "        fermi_data[\"E_peak\"][ind] = fermi_data['PFLX_COMP_EPEAK'][ind]  #[keV]\n",
    "        fermi_data[\"Alpha\"][ind] = -1 * fermi_data['PFLX_COMP_INDEX'][ind] \n",
    "        fermi_data[\"Norm_amplitude\"][ind] = fermi_data['PFLX_COMP_AMPL'][ind]\n",
    "        fermi_data[\"Duration\"][ind] = fermi_data['PFLX_SPECTRUM_STOP'][ind]-fermi_data['PFLX_SPECTRUM_START'][ind]\n",
    "        fermi_data[\"E_piv\"][ind] = fermi_data['PFLX_COMP_PIVOT'][ind]\n",
    "        \n",
    "    elif model.lower().strip().decode(encoding='utf8') ==\"PFLX_band\":\n",
    "        fermi_data[\"E_peak\"][ind] = fermi_data['PFLX_BAND_EPEAK'][ind]   #[keV]\n",
    "        fermi_data[\"Alpha\"][ind] = fermi_data['PFLX_BAND_ALPHA'][ind]\n",
    "        fermi_data[\"Norm_amplitude\"][ind] = fermi_data['PFLX_BAND_AMPL'][ind]\n",
    "        fermi_data[\"Duration\"][ind] = fermi_data['PFLX_SPECTRUM_STOP'][ind]-fermi_data['PFLX_SPECTRUM_START'][ind]\n",
    "        fermi_data[\"E_piv\"][ind] = 100 #keV, standart/constant value\n",
    "        \n",
    "        \n",
    "fermi_data_band_comp = fermi_data[fermi_data[\"E_peak\"].notna()].reset_index().drop(\"index\",axis=1)"
   ]
  },
  {
   "cell_type": "code",
   "execution_count": null,
   "id": "66a4c304-b16e-42c7-9ce4-8fa2ed58b323",
   "metadata": {
    "tags": []
   },
   "outputs": [],
   "source": [
    "e_peak_obs    = fermi_data_band_comp[\"E_peak\"]\n",
    "e_pivot       = fermi_data_band_comp[\"E_piv\"]\n",
    "alpha         = fermi_data_band_comp[\"Alpha\"]\n",
    "beta          = fermi_data_band_comp['PFLX_BAND_BETA']\n",
    "normalization = fermi_data_band_comp[\"Norm_amplitude\"]\n",
    "duration      = fermi_data_band_comp[\"Duration\"]\n",
    "\n",
    "best_fit_mod  = fermi_data_band_comp['PFLX_BEST_FITTING_MODEL']\n",
    "spec_start    = fermi_data_band_comp['PFLX_SPECTRUM_START']\n",
    "spec_stop     = fermi_data_band_comp['PFLX_SPECTRUM_STOP']\n",
    "\n",
    "\n",
    "comp_ampl     = fermi_data_band_comp['PFLX_COMP_AMPL']\n",
    "comp_epeak    = fermi_data_band_comp['PFLX_COMP_EPEAK']\n",
    "comp_pivot    = fermi_data_band_comp['PFLX_COMP_PIVOT']\n",
    "\n",
    "\n",
    "band_alpha    = fermi_data_band_comp['PFLX_BAND_ALPHA']\n",
    "band_ampl     = fermi_data_band_comp['PFLX_BAND_AMPL']\n",
    "band_epeak    = fermi_data_band_comp['PFLX_BAND_EPEAK']\n",
    "band_pivot    = 100 #keV, standart/constant value"
   ]
  },
  {
   "cell_type": "markdown",
   "id": "21f999f2-00c7-4dea-a001-1636944b7116",
   "metadata": {
    "tags": []
   },
   "source": [
    "### $E_{peak,z}$"
   ]
  },
  {
   "cell_type": "code",
   "execution_count": null,
   "id": "211c3806-a46d-4267-9f58-c08300dbd805",
   "metadata": {
    "tags": []
   },
   "outputs": [],
   "source": [
    "fermi_data_band_comp[\"E_peak,z\"] = None \n",
    "\n",
    "for ind in range(0,len(fermi_data_band_comp)):\n",
    "    e_peak_z = []\n",
    "    for z in redshift:\n",
    "        e_peak_z.append(get_E_peak_rest_frame(e_peak_obs[ind], z))\n",
    "    fermi_data_band_comp.at[ind,\"E_peak,z\"] = e_peak_z"
   ]
  },
  {
   "cell_type": "code",
   "execution_count": null,
   "id": "c64c7304-2ba5-4eca-b209-f915939dc533",
   "metadata": {},
   "outputs": [],
   "source": [
    "len(fermi_data_band_comp[\"E_peak,z\"][0])"
   ]
  },
  {
   "cell_type": "markdown",
   "id": "868bd43c-c4b9-4694-b6eb-19f550ecf52e",
   "metadata": {
    "tags": []
   },
   "source": [
    "### $L_{peak,z}$"
   ]
  },
  {
   "cell_type": "code",
   "execution_count": null,
   "id": "3ce075f4-f282-46d8-a6b6-e9ed42d926b1",
   "metadata": {
    "tags": []
   },
   "outputs": [],
   "source": [
    "# get the start time\n",
    "st = time.time()\n",
    "\n",
    "fermi_data_band_comp[\"L_peak,z\"] = None\n",
    "for ind in range(len(fermi_data_band_comp)):\n",
    "    luminosities_list = []\n",
    "    for z in redshift:\n",
    "        luminosities_list.append(get_L_iso_bol_peak(alpha[ind], beta[ind], e_peak_obs[ind], e_pivot[ind], normalization[ind], duration[ind], z, lower_limit_bol, upper_limit_bol, lower_limit_inst, upper_limit_inst))\n",
    "    fermi_data_band_comp.at[ind,\"L_peak,z\"] = luminosities_list\n",
    "    \n",
    "# get the end time\n",
    "et = time.time()\n",
    "\n",
    "print('Execution time:', et-st, 'seconds')"
   ]
  },
  {
   "cell_type": "code",
   "execution_count": null,
   "id": "2067981f-01b6-4918-92b2-145a1d04321f",
   "metadata": {},
   "outputs": [],
   "source": [
    "luminosity_power_low_yonetoku=[]\n",
    "for z in redshift:\n",
    "    luminosity_power_low_yonetoku.append(luminosity_power_low_yonetoku_2004(e_peak_obs[0], z))"
   ]
  },
  {
   "cell_type": "code",
   "execution_count": null,
   "id": "605299e2-6bb8-4c99-a35b-4cc006e33fd3",
   "metadata": {},
   "outputs": [],
   "source": [
    "len(fermi_data_band_comp[\"L_peak,z\"][0])"
   ]
  },
  {
   "cell_type": "code",
   "execution_count": null,
   "id": "d9597f5d-2131-4750-afca-5089cce530e2",
   "metadata": {},
   "outputs": [],
   "source": [
    "\n",
    "plt.figure(figsize=(9,5),dpi=100)\n",
    "plt.xscale(\"log\")\n",
    "plt.yscale(\"log\")\n",
    "plt.ylabel(r\"$E_{peak} \\times (1 + z)~[keV]$\",fontsize=15)\n",
    "plt.xlabel(r\"$Luminosity~[\\times 10^{52} erg/s]$\", fontsize=15)\n",
    "plt.xticks(fontsize=10)\n",
    "plt.yticks(fontsize=10)\n",
    "\n",
    "\n",
    "plt.plot(lum_model/1e52,yonetoku_data_st[\"Ep(1+z), (keV)\"], color=\"green\", label=f\"Полином ({1}), mid\")\n",
    "#plt.plot(lum_model_up/1e52,yonetoku_data_st[\"Ep(1+z), (keV)\"], \"--\", lw=0.5, color=\"blue\", label=f\"Полином ({1}), mid\")\n",
    "#plt.plot(lum_model_low/1e52,yonetoku_data_st[\"Ep(1+z), (keV)\"], \"--\", lw=0.5,color=\"red\", label=f\"Полином ({1}), mid\")\n",
    "\n",
    "#plt.plot()\n",
    "#for grb_ind in range(len(fermi_data_band_comp)):\n",
    "grb_ind=0\n",
    "plt.scatter(np.array(fermi_data_band_comp[\"L_peak,z\"][grb_ind])/1e52,fermi_data_band_comp[\"E_peak,z\"][grb_ind])\n",
    "plt.scatter(np.array(fermi_data_band_comp[\"L_peak,z\"][100])/1e52,fermi_data_band_comp[\"E_peak,z\"][100])\n",
    "plt.scatter(np.array(fermi_data_band_comp[\"L_peak,z\"][200])/1e52,fermi_data_band_comp[\"E_peak,z\"][200])\n",
    "    #plt.legend()\n",
    "    #plt.ylim(0,1e52)"
   ]
  },
  {
   "cell_type": "code",
   "execution_count": null,
   "id": "35569aa7-b550-469e-859e-ab4b7cafa768",
   "metadata": {
    "tags": []
   },
   "outputs": [],
   "source": [
    "\n",
    "plt.figure(figsize=(15,10),dpi=150)\n",
    "plt.plot(yonetoku_data_st[\"Ep(1+z), (keV)\"], lum_model/1e52, color=\"green\", label=f\"Полином ({1}), mid\")\n",
    "plt.plot(yonetoku_data_st[\"Ep(1+z), (keV)\"], lum_model_up/1e52, color=\"blue\", label=f\"Полином ({1}), mid\")\n",
    "plt.plot(yonetoku_data_st[\"Ep(1+z), (keV)\"], lum_model_low/1e52, color=\"red\", label=f\"Полином ({1}), mid\")\n",
    "plt.xscale(\"log\")\n",
    "plt.yscale(\"log\")\n",
    "#plt.plot()\n",
    "#for grb_ind in range(len(fermi_data_band_comp)):\n",
    "grb_ind=0\n",
    "plt.scatter(fermi_data_band_comp[\"E_peak,z\"][0],np.array(fermi_data_band_comp[\"L_peak,z\"][0])/1e52,)\n",
    "plt.scatter(fermi_data_band_comp[\"E_peak,z\"][100],np.array(fermi_data_band_comp[\"L_peak,z\"][100])/1e52)\n",
    "plt.scatter(fermi_data_band_comp[\"E_peak,z\"][200],np.array(fermi_data_band_comp[\"L_peak,z\"][200])/1e52)\n",
    "    #plt.legend()\n",
    "    #plt.ylim(0,1e52)"
   ]
  }
 ],
 "metadata": {
  "kernelspec": {
   "display_name": "Python 3 (ipykernel)",
   "language": "python",
   "name": "python3"
  },
  "language_info": {
   "codemirror_mode": {
    "name": "ipython",
    "version": 3
   },
   "file_extension": ".py",
   "mimetype": "text/x-python",
   "name": "python",
   "nbconvert_exporter": "python",
   "pygments_lexer": "ipython3",
   "version": "3.8.15"
  }
 },
 "nbformat": 4,
 "nbformat_minor": 5
}
